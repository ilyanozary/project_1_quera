{
  "cells": [
    {
      "cell_type": "code",
      "execution_count": 84,
      "metadata": {
        "id": "HHy0mmEv-nAJ"
      },
      "outputs": [],
      "source": [
        "import pandas as pd\n",
        "import numpy as np\n",
        "import matplotlib as plt\n",
        "import seaborn as sns"
      ]
    },
    {
      "cell_type": "code",
      "execution_count": 85,
      "metadata": {
        "id": "aIaf84aYMl5T"
      },
      "outputs": [],
      "source": [
        "filepath ='/Users/saraoliay/Downloads/Project1_data/R99.xlsx'\n",
        "data99 = pd.read_excel(filepath, sheet_name= None)"
      ]
    },
    {
      "cell_type": "code",
      "execution_count": 14,
      "metadata": {
        "id": "0nZhgR8-Mrkn"
      },
      "outputs": [],
      "source": [
        "#p3_sheets = {\n",
        "    'R99P3S01': 'Food',\n",
        "    'R99P3S02': 'Tobacco',\n",
        "    'R99P3S03': 'Clothing',\n",
        "    'R99P3S04': 'Housing',\n",
        "    'R99P3S05': 'Furniture',\n",
        "    'R99P3S06': 'Health',\n",
        "    'R99P3S07': 'Transport',\n",
        "    'R99P3S08': 'Communication',\n",
        "    'R99P3S09': 'Recreation',\n",
        "    'R99P3S11': 'Education',\n",
        "    'R99P3S12': 'Hotel',\n",
        "    'R99P3S13': 'Miscellaneous',\n",
        "    'R99P3S14': 'Investment'\n",
        "}"
      ]
    },
    {
      "cell_type": "code",
      "execution_count": 16,
      "metadata": {
        "id": "Dzq_pQtFMtfJ"
      },
      "outputs": [],
      "source": [
        "#for sheet_name, expense_type in p3_sheets.items():\n",
        "    if sheet_name in data99:\n",
        "        columns_to_rename = {}\n",
        "\n",
        "\n",
        "        if 'code' in data99[sheet_name].columns:\n",
        "            columns_to_rename['code'] = f'{expense_type}_Code'\n",
        "\n",
        "        if 'purchased' in data99[sheet_name].columns:\n",
        "            columns_to_rename['purchased'] = f'{expense_type}_Purchased'\n",
        "\n",
        "        if 'gram' in data99[sheet_name].columns:\n",
        "            columns_to_rename['gram'] = f'{expense_type}_Gram'\n",
        "\n",
        "        if 'kilogram' in data99[sheet_name].columns:\n",
        "            columns_to_rename['kilogram'] = f'{expense_type}_Kilogram'\n",
        "\n",
        "        if 'price' in data99[sheet_name].columns:\n",
        "            columns_to_rename['price'] = f'{expense_type}_Price'\n",
        "\n",
        "        if 'value' in data99[sheet_name].columns:\n",
        "            columns_to_rename['value'] = f'{expense_type}_Value'\n",
        "\n",
        "        if 'mortgage' in data99[sheet_name].columns:\n",
        "            columns_to_rename['mortgage'] = f'{expense_type}_Mortgage'\n",
        "\n",
        "\n",
        "        data99[sheet_name] = data99[sheet_name].rename(columns=columns_to_rename)"
      ]
    },
    {
      "cell_type": "code",
      "execution_count": 86,
      "metadata": {},
      "outputs": [],
      "source": [
        "R99Data=pd.read_excel(filepath, sheet_name='R99Data')\n",
        "R99P1=pd.read_excel(filepath, sheet_name='R99P1')\n",
        "R99P2=pd.read_excel(filepath, sheet_name='R99P2')\n",
        "R99P3S01=pd.read_excel(filepath, sheet_name='R99P3S01')\n",
        "R99P3S02=pd.read_excel(filepath, sheet_name='R99P3S02')\n",
        "R99P3S03=pd.read_excel(filepath, sheet_name='R99P3S03')\n",
        "R99P3S04=pd.read_excel(filepath, sheet_name='R99P3S04')\n",
        "R99P3S05=pd.read_excel(filepath, sheet_name='R99P3S05')\n",
        "R99P3S06=pd.read_excel(filepath, sheet_name='R99P3S06')\n",
        "R99P3S07=pd.read_excel(filepath, sheet_name='R99P3S07')\n",
        "R99P3S08=pd.read_excel(filepath, sheet_name='R99P3S08')\n",
        "R99P3S09=pd.read_excel(filepath, sheet_name='R99P3S09')\n",
        "R99P3S11=pd.read_excel(filepath, sheet_name='R99P3S11')\n",
        "R99P3S12=pd.read_excel(filepath, sheet_name='R99P3S12')\n",
        "R99P3S13=pd.read_excel(filepath, sheet_name='R99P3S13')\n",
        "R99P3S14=pd.read_excel(filepath, sheet_name='R99P3S14')\n",
        "R99P4S01=pd.read_excel(filepath, sheet_name='R99P4S01')\n",
        "R99P4S02=pd.read_excel(filepath, sheet_name='R99P4S02')\n",
        "R99P4S03=pd.read_excel(filepath, sheet_name='R99P4S03')\n",
        "R99P4S04=pd.read_excel(filepath, sheet_name='R99P4S04')"
      ]
    },
    {
      "cell_type": "code",
      "execution_count": 87,
      "metadata": {
        "id": "uFHKr_dyMpwz"
      },
      "outputs": [],
      "source": [
        "\n",
        "for sheet_name, df in data99.items():\n",
        "    if 'Value' in df.columns:\n",
        "        df['Value'] = pd.to_numeric(df['Value'], errors='coerce')\n",
        "\n",
        "    data99[sheet_name] = df\n"
      ]
    },
    {
      "cell_type": "markdown",
      "metadata": {},
      "source": [
        "بررسی شیت R99Data"
      ]
    },
    {
      "cell_type": "code",
      "execution_count": 88,
      "metadata": {},
      "outputs": [],
      "source": [
        "R99Data=pd.read_excel(filepath, sheet_name='R99Data')"
      ]
    },
    {
      "cell_type": "code",
      "execution_count": 89,
      "metadata": {},
      "outputs": [
        {
          "data": {
            "text/html": [
              "<div>\n",
              "<style scoped>\n",
              "    .dataframe tbody tr th:only-of-type {\n",
              "        vertical-align: middle;\n",
              "    }\n",
              "\n",
              "    .dataframe tbody tr th {\n",
              "        vertical-align: top;\n",
              "    }\n",
              "\n",
              "    .dataframe thead th {\n",
              "        text-align: right;\n",
              "    }\n",
              "</style>\n",
              "<table border=\"1\" class=\"dataframe\">\n",
              "  <thead>\n",
              "    <tr style=\"text-align: right;\">\n",
              "      <th></th>\n",
              "      <th>Address</th>\n",
              "      <th>MahMorajeh</th>\n",
              "      <th>Fasl</th>\n",
              "      <th>weight</th>\n",
              "      <th>khanevartype</th>\n",
              "      <th>Takmil</th>\n",
              "      <th>TakmilDescA</th>\n",
              "      <th>TakmilDescB</th>\n",
              "      <th>TakmilDescC</th>\n",
              "      <th>Jaygozin</th>\n",
              "      <th>JaygozinDescA</th>\n",
              "      <th>JaygozinDescB</th>\n",
              "      <th>JaygozinDescC</th>\n",
              "      <th>BlkAbdJaygozin</th>\n",
              "      <th>RadifJaygozin</th>\n",
              "      <th>IsTel</th>\n",
              "      <th>FVam</th>\n",
              "      <th>province</th>\n",
              "      <th>town</th>\n",
              "    </tr>\n",
              "  </thead>\n",
              "  <tbody>\n",
              "    <tr>\n",
              "      <th>0</th>\n",
              "      <td>20001383916</td>\n",
              "      <td>5</td>\n",
              "      <td>2</td>\n",
              "      <td>170.110792</td>\n",
              "      <td>1</td>\n",
              "      <td>1</td>\n",
              "      <td>NaN</td>\n",
              "      <td>NaN</td>\n",
              "      <td>NaN</td>\n",
              "      <td>NaN</td>\n",
              "      <td>NaN</td>\n",
              "      <td>NaN</td>\n",
              "      <td>NaN</td>\n",
              "      <td>NaN</td>\n",
              "      <td>NaN</td>\n",
              "      <td>1.0</td>\n",
              "      <td>1.0</td>\n",
              "      <td>Markazi</td>\n",
              "      <td>1</td>\n",
              "    </tr>\n",
              "    <tr>\n",
              "      <th>1</th>\n",
              "      <td>20001383917</td>\n",
              "      <td>5</td>\n",
              "      <td>2</td>\n",
              "      <td>170.110792</td>\n",
              "      <td>1</td>\n",
              "      <td>1</td>\n",
              "      <td>NaN</td>\n",
              "      <td>NaN</td>\n",
              "      <td>NaN</td>\n",
              "      <td>NaN</td>\n",
              "      <td>NaN</td>\n",
              "      <td>NaN</td>\n",
              "      <td>NaN</td>\n",
              "      <td>NaN</td>\n",
              "      <td>NaN</td>\n",
              "      <td>1.0</td>\n",
              "      <td>1.0</td>\n",
              "      <td>Markazi</td>\n",
              "      <td>1</td>\n",
              "    </tr>\n",
              "    <tr>\n",
              "      <th>2</th>\n",
              "      <td>20001383919</td>\n",
              "      <td>5</td>\n",
              "      <td>2</td>\n",
              "      <td>170.110792</td>\n",
              "      <td>1</td>\n",
              "      <td>1</td>\n",
              "      <td>NaN</td>\n",
              "      <td>NaN</td>\n",
              "      <td>NaN</td>\n",
              "      <td>NaN</td>\n",
              "      <td>NaN</td>\n",
              "      <td>NaN</td>\n",
              "      <td>NaN</td>\n",
              "      <td>NaN</td>\n",
              "      <td>NaN</td>\n",
              "      <td>1.0</td>\n",
              "      <td>1.0</td>\n",
              "      <td>Markazi</td>\n",
              "      <td>1</td>\n",
              "    </tr>\n",
              "    <tr>\n",
              "      <th>3</th>\n",
              "      <td>20001383923</td>\n",
              "      <td>5</td>\n",
              "      <td>2</td>\n",
              "      <td>170.110792</td>\n",
              "      <td>1</td>\n",
              "      <td>1</td>\n",
              "      <td>NaN</td>\n",
              "      <td>NaN</td>\n",
              "      <td>NaN</td>\n",
              "      <td>NaN</td>\n",
              "      <td>NaN</td>\n",
              "      <td>NaN</td>\n",
              "      <td>NaN</td>\n",
              "      <td>NaN</td>\n",
              "      <td>NaN</td>\n",
              "      <td>1.0</td>\n",
              "      <td>1.0</td>\n",
              "      <td>Markazi</td>\n",
              "      <td>1</td>\n",
              "    </tr>\n",
              "    <tr>\n",
              "      <th>4</th>\n",
              "      <td>20001383926</td>\n",
              "      <td>5</td>\n",
              "      <td>2</td>\n",
              "      <td>170.110792</td>\n",
              "      <td>1</td>\n",
              "      <td>2</td>\n",
              "      <td>NaN</td>\n",
              "      <td>1.0</td>\n",
              "      <td>NaN</td>\n",
              "      <td>1.0</td>\n",
              "      <td>NaN</td>\n",
              "      <td>NaN</td>\n",
              "      <td>NaN</td>\n",
              "      <td>268.0</td>\n",
              "      <td>25.0</td>\n",
              "      <td>1.0</td>\n",
              "      <td>1.0</td>\n",
              "      <td>Markazi</td>\n",
              "      <td>1</td>\n",
              "    </tr>\n",
              "  </tbody>\n",
              "</table>\n",
              "</div>"
            ],
            "text/plain": [
              "       Address  MahMorajeh  Fasl      weight  khanevartype  Takmil  \\\n",
              "0  20001383916           5     2  170.110792             1       1   \n",
              "1  20001383917           5     2  170.110792             1       1   \n",
              "2  20001383919           5     2  170.110792             1       1   \n",
              "3  20001383923           5     2  170.110792             1       1   \n",
              "4  20001383926           5     2  170.110792             1       2   \n",
              "\n",
              "   TakmilDescA  TakmilDescB TakmilDescC  Jaygozin  JaygozinDescA  \\\n",
              "0          NaN          NaN         NaN       NaN            NaN   \n",
              "1          NaN          NaN         NaN       NaN            NaN   \n",
              "2          NaN          NaN         NaN       NaN            NaN   \n",
              "3          NaN          NaN         NaN       NaN            NaN   \n",
              "4          NaN          1.0         NaN       1.0            NaN   \n",
              "\n",
              "   JaygozinDescB  JaygozinDescC  BlkAbdJaygozin  RadifJaygozin  IsTel  FVam  \\\n",
              "0            NaN            NaN             NaN            NaN    1.0   1.0   \n",
              "1            NaN            NaN             NaN            NaN    1.0   1.0   \n",
              "2            NaN            NaN             NaN            NaN    1.0   1.0   \n",
              "3            NaN            NaN             NaN            NaN    1.0   1.0   \n",
              "4            NaN            NaN           268.0           25.0    1.0   1.0   \n",
              "\n",
              "  province  town  \n",
              "0  Markazi     1  \n",
              "1  Markazi     1  \n",
              "2  Markazi     1  \n",
              "3  Markazi     1  \n",
              "4  Markazi     1  "
            ]
          },
          "execution_count": 89,
          "metadata": {},
          "output_type": "execute_result"
        }
      ],
      "source": [
        "R99Data.head()"
      ]
    },
    {
      "cell_type": "code",
      "execution_count": 90,
      "metadata": {},
      "outputs": [
        {
          "data": {
            "text/plain": [
              "Address             0.000000\n",
              "MahMorajeh          0.000000\n",
              "Fasl                0.000000\n",
              "weight              0.000000\n",
              "khanevartype        0.000000\n",
              "Takmil              0.000000\n",
              "TakmilDescA       100.000000\n",
              "TakmilDescB        79.781930\n",
              "TakmilDescC        94.630431\n",
              "Jaygozin           79.781930\n",
              "JaygozinDescA     100.000000\n",
              "JaygozinDescB     100.000000\n",
              "JaygozinDescC     100.000000\n",
              "BlkAbdJaygozin     79.781930\n",
              "RadifJaygozin      79.781930\n",
              "IsTel              19.555093\n",
              "FVam               11.188428\n",
              "province            0.000000\n",
              "town                0.000000\n",
              "dtype: float64"
            ]
          },
          "execution_count": 90,
          "metadata": {},
          "output_type": "execute_result"
        }
      ],
      "source": [
        "missing_percentage = R99Data.isnull().sum() / len(R99Data) * 100\n",
        "missing_percentage.sort_values(ascending=False)  \n",
        "missing_percentage"
      ]
    },
    {
      "cell_type": "code",
      "execution_count": 91,
      "metadata": {},
      "outputs": [],
      "source": [
        "threshold = 70"
      ]
    },
    {
      "cell_type": "code",
      "execution_count": 92,
      "metadata": {},
      "outputs": [],
      "source": [
        "threshold = 70\n",
        "R99Data_cleaned = R99Data.dropna(axis=1, thresh=int((1-threshold/100)*len(R99Data)))"
      ]
    },
    {
      "cell_type": "code",
      "execution_count": 93,
      "metadata": {},
      "outputs": [
        {
          "data": {
            "text/plain": [
              "Address          0.000000\n",
              "MahMorajeh       0.000000\n",
              "Fasl             0.000000\n",
              "weight           0.000000\n",
              "khanevartype     0.000000\n",
              "Takmil           0.000000\n",
              "IsTel           19.555093\n",
              "FVam            11.188428\n",
              "province         0.000000\n",
              "town             0.000000\n",
              "dtype: float64"
            ]
          },
          "execution_count": 93,
          "metadata": {},
          "output_type": "execute_result"
        }
      ],
      "source": [
        "missing_percentage = R99Data_cleaned.isnull().sum() / len(R99Data_cleaned) * 100\n",
        "missing_percentage.sort_values(ascending=False)  \n",
        "missing_percentage"
      ]
    },
    {
      "cell_type": "code",
      "execution_count": 94,
      "metadata": {},
      "outputs": [],
      "source": [
        "#این دو فیچر در دیتاست سال های دیگر نبودند\n",
        "R99Data_cleaned = R99Data_cleaned.drop(columns=['IsTel', 'FVam'])\n"
      ]
    },
    {
      "cell_type": "code",
      "execution_count": 95,
      "metadata": {},
      "outputs": [
        {
          "data": {
            "text/plain": [
              "Address         0.0\n",
              "MahMorajeh      0.0\n",
              "Fasl            0.0\n",
              "weight          0.0\n",
              "khanevartype    0.0\n",
              "Takmil          0.0\n",
              "province        0.0\n",
              "town            0.0\n",
              "dtype: float64"
            ]
          },
          "execution_count": 95,
          "metadata": {},
          "output_type": "execute_result"
        }
      ],
      "source": [
        "missing_percentage = R99Data_cleaned.isnull().sum() / len(R99Data_cleaned) * 100\n",
        "missing_percentage.sort_values(ascending=False)  \n",
        "missing_percentage"
      ]
    },
    {
      "cell_type": "code",
      "execution_count": 96,
      "metadata": {},
      "outputs": [
        {
          "name": "stdout",
          "output_type": "stream",
          "text": [
            "0\n"
          ]
        }
      ],
      "source": [
        "duplicates = R99Data_cleaned.duplicated().sum()\n",
        "print(duplicates)"
      ]
    },
    {
      "cell_type": "code",
      "execution_count": 97,
      "metadata": {},
      "outputs": [
        {
          "name": "stdout",
          "output_type": "stream",
          "text": [
            "ستون‌های دسته‌بندی‌شده:\n",
            "Index(['province'], dtype='object')\n"
          ]
        }
      ],
      "source": [
        "categorical_columns = R99Data_cleaned.select_dtypes(include=['object']).columns\n",
        "print(\"ستون‌های دسته‌بندی‌شده:\")\n",
        "print(categorical_columns)\n"
      ]
    },
    {
      "cell_type": "code",
      "execution_count": 98,
      "metadata": {},
      "outputs": [
        {
          "name": "stdout",
          "output_type": "stream",
          "text": [
            "ستون‌های عددی:\n",
            "Index(['Address', 'MahMorajeh', 'Fasl', 'weight', 'khanevartype', 'Takmil',\n",
            "       'town'],\n",
            "      dtype='object')\n"
          ]
        }
      ],
      "source": [
        "\n",
        "numerical_columns = R99Data_cleaned.select_dtypes(include=['number']).columns\n",
        "print(\"ستون‌های عددی:\")\n",
        "print(numerical_columns)\n"
      ]
    },
    {
      "cell_type": "code",
      "execution_count": 99,
      "metadata": {},
      "outputs": [
        {
          "name": "stdout",
          "output_type": "stream",
          "text": [
            "مقادیر منحصر به فرد در ستون province:\n",
            "['Markazi' 'Gilan' 'Mazandaran' 'AzarbaijanSharghi' 'AzarbaijanGharbi'\n",
            " 'Kermanshah' 'Kouzestan' 'Fars' 'Kerman' 'KhorasanRazavi' 'Esfahan'\n",
            " 'SistanBalouchestan' 'Kordestan' 'Hamedan' 'CharmahalBakhtiari'\n",
            " 'Lorestan' 'Ilam' 'KohkilouyeBoyerahamad' 'Boushehr' 'Zanjan' 'Semnan'\n",
            " 'Yazd' 'Hormozgan' 'Tehran' 'Ardebil' 'Qom' 'Qazvin' 'Golestan'\n",
            " 'KhorasanShomali' 'KhorasanJonoubi' 'Alborz']\n"
          ]
        }
      ],
      "source": [
        "unique_provinces = R99Data_cleaned['province'].unique()\n",
        "print(\"مقادیر منحصر به فرد در ستون province:\")\n",
        "print(unique_provinces)"
      ]
    },
    {
      "cell_type": "code",
      "execution_count": 100,
      "metadata": {},
      "outputs": [
        {
          "name": "stdout",
          "output_type": "stream",
          "text": [
            "تعداد هر دسته در ستون province:\n",
            "province\n",
            "Markazi                  847\n",
            "KhorasanRazavi           805\n",
            "Fars                     800\n",
            "KhorasanJonoubi          713\n",
            "SistanBalouchestan       692\n",
            "KhorasanShomali          690\n",
            "Kouzestan                686\n",
            "Golestan                 682\n",
            "AzarbaijanSharghi        679\n",
            "Kermanshah               662\n",
            "Hormozgan                661\n",
            "Yazd                     654\n",
            "Esfahan                  653\n",
            "Kerman                   639\n",
            "Qazvin                   579\n",
            "KohkilouyeBoyerahamad    578\n",
            "Lorestan                 570\n",
            "Mazandaran               542\n",
            "AzarbaijanGharbi         539\n",
            "Hamedan                  531\n",
            "Ilam                     526\n",
            "Boushehr                 525\n",
            "Alborz                   525\n",
            "Zanjan                   512\n",
            "Semnan                   508\n",
            "Tehran                   489\n",
            "CharmahalBakhtiari       483\n",
            "Gilan                    402\n",
            "Qom                      388\n",
            "Ardebil                  373\n",
            "Kordestan                318\n",
            "Name: count, dtype: int64\n"
          ]
        }
      ],
      "source": [
        "# مشاهده تعداد هر دسته‌بندی در ستون province\n",
        "province_counts = R99Data_cleaned['province'].value_counts()\n",
        "print(\"تعداد هر دسته در ستون province:\")\n",
        "print(province_counts)\n"
      ]
    },
    {
      "cell_type": "code",
      "execution_count": 101,
      "metadata": {},
      "outputs": [],
      "source": [
        "# دیکشنری برای انکود کردن مقادیر province\n",
        "province_encoding = {\n",
        "    'Markazi': '00', 'Gilan': '01', 'Mazandaran': '02', 'AzarbaijanSharghi': '03', \n",
        "    'AzarbaijanGharbi': '04', 'Kermanshah': '05', 'Kouzestan': '06', 'Fars': '07', \n",
        "    'Kerman': '08', 'KhorasanRazavi': '09', 'Esfahan': '10', 'SistanBalouchestan': '11', \n",
        "    'Kordestan': '12', 'Hamedan': '13', 'CharmahalBakhtiari': '14', 'Lorestan': '15', \n",
        "    'Ilam': '16', 'KohkilouyeBoyerahamad': '17', 'Boushehr': '18', 'Zanjan': '19', \n",
        "    'Semnan': '20', 'Yazd': '21', 'Hormozgan': '22', 'Tehran': '23', 'Ardebil': '24', \n",
        "    'Qom': '25', 'Qazvin': '26', 'Golestan': '27', 'KhorasanShomali': '28', \n",
        "    'KhorasanJonoubi': '29', 'Alborz': '30'\n",
        "}\n"
      ]
    },
    {
      "cell_type": "code",
      "execution_count": 102,
      "metadata": {},
      "outputs": [
        {
          "name": "stdout",
          "output_type": "stream",
          "text": [
            "  province province_encoded\n",
            "0  Markazi               00\n",
            "1  Markazi               00\n",
            "2  Markazi               00\n",
            "3  Markazi               00\n",
            "4  Markazi               00\n"
          ]
        }
      ],
      "source": [
        "# انکود کردن ستون province با استفاده از دیکشنری\n",
        "R99Data_cleaned['province_encoded'] = R99Data_cleaned['province'].map(province_encoding)\n",
        "\n",
        "# بررسی نتیجه\n",
        "print(R99Data_cleaned[['province', 'province_encoded']].head())\n"
      ]
    },
    {
      "cell_type": "code",
      "execution_count": 103,
      "metadata": {},
      "outputs": [
        {
          "name": "stdout",
          "output_type": "stream",
          "text": [
            "مقادیر منحصر به فرد در ستون province_encoded:\n",
            "['00' '01' '02' '03' '04' '05' '06' '07' '08' '09' '10' '11' '12' '13'\n",
            " '14' '15' '16' '17' '18' '19' '20' '21' '22' '23' '24' '25' '26' '27'\n",
            " '28' '29' '30']\n"
          ]
        }
      ],
      "source": [
        "unique_provinces = R99Data_cleaned['province_encoded'].unique()\n",
        "print(\"مقادیر منحصر به فرد در ستون province_encoded:\")\n",
        "print(unique_provinces)"
      ]
    },
    {
      "cell_type": "code",
      "execution_count": 104,
      "metadata": {},
      "outputs": [],
      "source": [
        "R99Data_cleaned = R99Data_cleaned.drop(columns=['province'])"
      ]
    },
    {
      "cell_type": "code",
      "execution_count": 105,
      "metadata": {},
      "outputs": [
        {
          "name": "stdout",
          "output_type": "stream",
          "text": [
            "تعداد داده‌های پرت در ستون weight: 548\n",
            "تعداد داده‌های پرت در ستون khanevartype: 9\n",
            "تعداد داده‌های پرت در ستون Takmil: 4029\n",
            "تعداد داده‌های پرت در ستون town: 982\n"
          ]
        }
      ],
      "source": [
        "\n",
        "# بررسی داده‌های پرت بر اساس IQR\n",
        "for column in numerical_columns:\n",
        "    Q1 = R99Data_cleaned[column].quantile(0.25)\n",
        "    Q3 = R99Data_cleaned[column].quantile(0.75)\n",
        "    IQR = Q3 - Q1\n",
        "    outliers = ((R99Data_cleaned[column] < (Q1 - 1.5 * IQR)) | (R99Data_cleaned[column] > (Q3 + 1.5 * IQR))).sum()\n",
        "    if outliers > 0:\n",
        "        print(f\"تعداد داده‌های پرت در ستون {column}: {outliers}\")\n"
      ]
    },
    {
      "cell_type": "code",
      "execution_count": 106,
      "metadata": {},
      "outputs": [],
      "source": [
        "\n",
        "\n",
        "# محاسبه IQR و اعمال بازه‌بندی (Capping)\n",
        "for column in ['weight']:\n",
        "    Q1 = R99Data_cleaned[column].quantile(0.25)\n",
        "    Q3 = R99Data_cleaned[column].quantile(0.75)\n",
        "    IQR = Q3 - Q1\n",
        "    \n",
        "    lower_bound = Q1 - 1.5 * IQR\n",
        "    upper_bound = Q3 + 1.5 * IQR\n",
        "    \n",
        "    # اعمال بازه‌بندی\n",
        "    R99Data_cleaned[column] = np.where(R99Data_cleaned[column] < lower_bound, lower_bound, R99Data_cleaned[column])\n",
        "    R99Data_cleaned[column] = np.where(R99Data_cleaned[column] > upper_bound, upper_bound, R99Data_cleaned[column])\n",
        "    \n",
        "    # اعمال تبدیل لگاریتمی برای مقادیر مثبت\n",
        "    R99Data_cleaned[column] = np.log1p(R99Data_cleaned[column])"
      ]
    },
    {
      "cell_type": "code",
      "execution_count": 107,
      "metadata": {},
      "outputs": [],
      "source": [
        "# جایگزینی مقادیر پرت با Mode (پرتکرارترین مقدار)\n",
        "def replace_outliers_with_mode(column, threshold=0.01):\n",
        "    mode = R99Data_cleaned[column].mode()[0]\n",
        "    \n",
        "    # شناسایی دسته‌های نادر (کمتر از آستانه threshold)\n",
        "    value_counts = R99Data_cleaned[column].value_counts(normalize=True)\n",
        "    rare_values = value_counts[value_counts < threshold].index\n",
        "    \n",
        "    # جایگزینی مقادیر نادر با Mode\n",
        "    R99Data_cleaned[column] = R99Data_cleaned[column].apply(lambda x: mode if x in rare_values else x)\n",
        "\n",
        "# اعمال جایگزینی با Mode برای ستون‌های دسته‌ای\n",
        "for column in ['khanevartype', 'Takmil', 'town']:\n",
        "    replace_outliers_with_mode(column)\n"
      ]
    },
    {
      "cell_type": "code",
      "execution_count": 108,
      "metadata": {},
      "outputs": [],
      "source": [
        "# بررسی و اصلاح اوت‌لیرهای نادرست در ستون‌های MahMorajeh و Fasl\n",
        "# برای ماه محدوده باید بین 1 تا 12 باشد و برای فصل باید بین 1 تا 4 باشد\n",
        "def fix_invalid_values(column, valid_range):\n",
        "    R99Data_cleaned[column] = np.where(~R99Data_cleaned[column].isin(valid_range), np.nan, R99Data_cleaned[column])\n",
        "\n",
        "# اعمال اصلاح برای ستون‌های MahMorajeh و Fasl\n",
        "fix_invalid_values('MahMorajeh', range(1, 13))  # ماه‌ها باید بین 1 تا 12 باشند\n",
        "fix_invalid_values('Fasl', range(1, 5))  # فصل‌ها باید بین 1 تا 4 باشند\n"
      ]
    },
    {
      "cell_type": "code",
      "execution_count": 109,
      "metadata": {},
      "outputs": [
        {
          "name": "stdout",
          "output_type": "stream",
          "text": [
            "[ 1  2  3  4  5  6  7  9 10 11 12 13  8 14 15 16 19 20 17]\n"
          ]
        }
      ],
      "source": [
        "unique_values = R99Data_cleaned['town'].unique()\n",
        "print(unique_values)"
      ]
    },
    {
      "cell_type": "code",
      "execution_count": 110,
      "metadata": {},
      "outputs": [
        {
          "name": "stdout",
          "output_type": "stream",
          "text": [
            "[1 2]\n"
          ]
        }
      ],
      "source": [
        "unique_values = R99Data_cleaned['Takmil'].unique()\n",
        "print(unique_values)"
      ]
    },
    {
      "cell_type": "code",
      "execution_count": 111,
      "metadata": {},
      "outputs": [
        {
          "name": "stdout",
          "output_type": "stream",
          "text": [
            "<class 'pandas.core.frame.DataFrame'>\n",
            "RangeIndex: 18251 entries, 0 to 18250\n",
            "Data columns (total 8 columns):\n",
            " #   Column            Non-Null Count  Dtype  \n",
            "---  ------            --------------  -----  \n",
            " 0   Address           18251 non-null  int64  \n",
            " 1   MahMorajeh        18251 non-null  float64\n",
            " 2   Fasl              18251 non-null  float64\n",
            " 3   weight            18251 non-null  float64\n",
            " 4   khanevartype      18251 non-null  int64  \n",
            " 5   Takmil            18251 non-null  int64  \n",
            " 6   town              18251 non-null  int64  \n",
            " 7   province_encoded  18251 non-null  object \n",
            "dtypes: float64(3), int64(4), object(1)\n",
            "memory usage: 1.1+ MB\n"
          ]
        }
      ],
      "source": [
        "R99Data_cleaned.info()"
      ]
    },
    {
      "cell_type": "markdown",
      "metadata": {},
      "source": [
        "بررسی شیت R99P1"
      ]
    },
    {
      "cell_type": "code",
      "execution_count": 112,
      "metadata": {},
      "outputs": [
        {
          "data": {
            "text/plain": [
              "Index(['Address', 'member', 'relation', 'gender', 'age', 'literacy',\n",
              "       'studying', 'degree', 'occupationalst', 'maritalst'],\n",
              "      dtype='object')"
            ]
          },
          "execution_count": 112,
          "metadata": {},
          "output_type": "execute_result"
        }
      ],
      "source": [
        "R99P1.columns\n"
      ]
    },
    {
      "cell_type": "code",
      "execution_count": 113,
      "metadata": {},
      "outputs": [
        {
          "data": {
            "text/plain": [
              "Address            0.000000\n",
              "member             0.000000\n",
              "relation           0.000000\n",
              "gender             0.000000\n",
              "age                0.000000\n",
              "literacy           9.309675\n",
              "studying          27.853181\n",
              "degree            27.854761\n",
              "occupationalst    16.467317\n",
              "maritalst         16.467317\n",
              "dtype: float64"
            ]
          },
          "execution_count": 113,
          "metadata": {},
          "output_type": "execute_result"
        }
      ],
      "source": [
        "missing_percentage = R99P1.isnull().sum() / len(R99P1) * 100\n",
        "missing_percentage.sort_values(ascending=False)  \n",
        "missing_percentage"
      ]
    },
    {
      "cell_type": "code",
      "execution_count": null,
      "metadata": {},
      "outputs": [],
      "source": []
    },
    {
      "cell_type": "code",
      "execution_count": 114,
      "metadata": {},
      "outputs": [
        {
          "name": "stdout",
          "output_type": "stream",
          "text": [
            "تعداد ردیف‌های تکراری: 0\n"
          ]
        }
      ],
      "source": [
        "# بررسی وجود داده‌های تکراری\n",
        "duplicate_rows = R99P1.duplicated().sum()\n",
        "print(f\"تعداد ردیف‌های تکراری: {duplicate_rows}\")\n"
      ]
    },
    {
      "cell_type": "code",
      "execution_count": 115,
      "metadata": {},
      "outputs": [
        {
          "name": "stdout",
          "output_type": "stream",
          "text": [
            "ستون‌های دسته‌بندی‌شده:\n",
            "Index(['relation', 'gender', 'literacy', 'studying', 'degree',\n",
            "       'occupationalst', 'maritalst'],\n",
            "      dtype='object')\n"
          ]
        }
      ],
      "source": [
        "# بررسی ستون‌های دسته‌بندی‌شده (غیر عددی)\n",
        "categorical_columns = R99P1.select_dtypes(include=['object']).columns\n",
        "print(\"ستون‌های دسته‌بندی‌شده:\")\n",
        "print(categorical_columns)\n"
      ]
    },
    {
      "cell_type": "code",
      "execution_count": 116,
      "metadata": {},
      "outputs": [
        {
          "name": "stdout",
          "output_type": "stream",
          "text": [
            "مقادیر یونیک در ستون 'relation':\n",
            "['Head' 'Spouse' 'Child' 'Sibling' 'Parent' 'GrandSonDaughter'\n",
            " 'OtherRelative' 'SonDaughter_inLaw' 'NonRelative']\n",
            "--------------------------------------------------\n",
            "مقادیر یونیک در ستون 'gender':\n",
            "['Male' 'Female']\n",
            "--------------------------------------------------\n",
            "مقادیر یونیک در ستون 'literacy':\n",
            "['literate' nan 'illiterate']\n",
            "--------------------------------------------------\n",
            "مقادیر یونیک در ستون 'studying':\n",
            "['No' 'Yes' nan]\n",
            "--------------------------------------------------\n",
            "مقادیر یونیک در ستون 'degree':\n",
            "['Secondary' 'Elemantry' nan 'Bachelor' 'Diploma' 'HighSchool' 'College'\n",
            " 'Other' 'Master' 'PhD']\n",
            "--------------------------------------------------\n",
            "مقادیر یونیک در ستون 'occupationalst':\n",
            "['employed' 'Housewife' 'Student' nan 'Other' 'IncomeWOJob' 'unemployed']\n",
            "--------------------------------------------------\n",
            "مقادیر یونیک در ستون 'maritalst':\n",
            "['Married' 'Single' nan 'Divorced' 'Widowed']\n",
            "--------------------------------------------------\n"
          ]
        }
      ],
      "source": [
        "# لیست ستون‌های دسته‌بندی‌شده\n",
        "categorical_columns = ['relation', 'gender', 'literacy', 'studying', 'degree', 'occupationalst', 'maritalst']\n",
        "\n",
        "# حلقه برای مشاهده داده‌های یونیک در هر ستون\n",
        "for column in categorical_columns:\n",
        "    unique_values = R99P1[column].unique()\n",
        "    print(f\"مقادیر یونیک در ستون '{column}':\")\n",
        "    print(unique_values)\n",
        "    print(\"-\" * 50)  # جداکننده برای خوانایی بیشتر\n"
      ]
    },
    {
      "cell_type": "code",
      "execution_count": 117,
      "metadata": {},
      "outputs": [],
      "source": [
        "# دیکشنری‌های انکودینگ\n",
        "relation_encoding = {\n",
        "    'Head': '1', 'Spouse': '2', 'Child': '3', 'SonDaughter_inLaw': '4', \n",
        "    'GrandSonDaughter': '5', 'Parent': '6', 'Sibling': '7', 'OtherRelative': '8', \n",
        "    'NonRelative': '9'\n",
        "}\n",
        "\n",
        "gender_encoding = {'Male': '1', 'Female': '2'}\n",
        "\n",
        "literacy_encoding = {'literate': '1', 'illiterate': '2'}\n",
        "\n",
        "yesno_encoding = {'Yes': '1', 'No': '2'}\n",
        "\n",
        "education_encoding = {\n",
        "    'Elemantry': '1', 'Secondary': '2', 'HighSchool': '3', 'Diploma': '4', \n",
        "    'College': '5', 'Bachelor': '6', 'Master': '7', 'PhD': '8', 'Other': '9'\n",
        "}\n",
        "\n",
        "occupation_encoding = {\n",
        "    'employed': '1', 'unemployed': '2', 'IncomeWOJob': '3', 'Student': '4', \n",
        "    'Housewife': '5', 'Other': '6'\n",
        "}\n",
        "\n",
        "marital_encoding = {'Married': '1', 'Widowed': '2', 'Divorced': '3', 'Single': '4'}\n"
      ]
    },
    {
      "cell_type": "code",
      "execution_count": 118,
      "metadata": {},
      "outputs": [],
      "source": [
        "\n",
        "R99P1['relation_encoded'] = R99P1['relation'].map(relation_encoding)\n",
        "R99P1['gender_encoded'] = R99P1['gender'].map(gender_encoding)\n",
        "R99P1['literacy_encoded'] = R99P1['literacy'].map(literacy_encoding)\n",
        "R99P1['studying_encoded'] = R99P1['studying'].map(yesno_encoding)\n",
        "R99P1['degree_encoded'] = R99P1['degree'].map(education_encoding)\n",
        "R99P1['occupationalst_encoded'] = R99P1['occupationalst'].map(occupation_encoding)\n",
        "R99P1['maritalst_encoded'] = R99P1['maritalst'].map(marital_encoding)\n"
      ]
    },
    {
      "cell_type": "code",
      "execution_count": 119,
      "metadata": {},
      "outputs": [],
      "source": [
        "R99P1 = R99P1.drop(columns=['relation', 'gender', 'literacy', 'studying', 'degree', 'occupationalst', 'maritalst'])"
      ]
    },
    {
      "cell_type": "code",
      "execution_count": 120,
      "metadata": {},
      "outputs": [
        {
          "data": {
            "text/html": [
              "<div>\n",
              "<style scoped>\n",
              "    .dataframe tbody tr th:only-of-type {\n",
              "        vertical-align: middle;\n",
              "    }\n",
              "\n",
              "    .dataframe tbody tr th {\n",
              "        vertical-align: top;\n",
              "    }\n",
              "\n",
              "    .dataframe thead th {\n",
              "        text-align: right;\n",
              "    }\n",
              "</style>\n",
              "<table border=\"1\" class=\"dataframe\">\n",
              "  <thead>\n",
              "    <tr style=\"text-align: right;\">\n",
              "      <th></th>\n",
              "      <th>Address</th>\n",
              "      <th>member</th>\n",
              "      <th>age</th>\n",
              "      <th>relation_encoded</th>\n",
              "      <th>gender_encoded</th>\n",
              "      <th>literacy_encoded</th>\n",
              "      <th>studying_encoded</th>\n",
              "      <th>degree_encoded</th>\n",
              "      <th>occupationalst_encoded</th>\n",
              "      <th>maritalst_encoded</th>\n",
              "    </tr>\n",
              "  </thead>\n",
              "  <tbody>\n",
              "    <tr>\n",
              "      <th>0</th>\n",
              "      <td>20011394629</td>\n",
              "      <td>1</td>\n",
              "      <td>36</td>\n",
              "      <td>1</td>\n",
              "      <td>1</td>\n",
              "      <td>1</td>\n",
              "      <td>2</td>\n",
              "      <td>2</td>\n",
              "      <td>1</td>\n",
              "      <td>1</td>\n",
              "    </tr>\n",
              "    <tr>\n",
              "      <th>1</th>\n",
              "      <td>20011394629</td>\n",
              "      <td>2</td>\n",
              "      <td>29</td>\n",
              "      <td>2</td>\n",
              "      <td>2</td>\n",
              "      <td>1</td>\n",
              "      <td>2</td>\n",
              "      <td>1</td>\n",
              "      <td>5</td>\n",
              "      <td>1</td>\n",
              "    </tr>\n",
              "    <tr>\n",
              "      <th>2</th>\n",
              "      <td>20011394629</td>\n",
              "      <td>3</td>\n",
              "      <td>10</td>\n",
              "      <td>3</td>\n",
              "      <td>1</td>\n",
              "      <td>1</td>\n",
              "      <td>1</td>\n",
              "      <td>1</td>\n",
              "      <td>4</td>\n",
              "      <td>4</td>\n",
              "    </tr>\n",
              "    <tr>\n",
              "      <th>3</th>\n",
              "      <td>20011394629</td>\n",
              "      <td>4</td>\n",
              "      <td>5</td>\n",
              "      <td>3</td>\n",
              "      <td>1</td>\n",
              "      <td>NaN</td>\n",
              "      <td>NaN</td>\n",
              "      <td>NaN</td>\n",
              "      <td>NaN</td>\n",
              "      <td>NaN</td>\n",
              "    </tr>\n",
              "    <tr>\n",
              "      <th>4</th>\n",
              "      <td>20011394626</td>\n",
              "      <td>1</td>\n",
              "      <td>72</td>\n",
              "      <td>1</td>\n",
              "      <td>1</td>\n",
              "      <td>2</td>\n",
              "      <td>NaN</td>\n",
              "      <td>NaN</td>\n",
              "      <td>6</td>\n",
              "      <td>1</td>\n",
              "    </tr>\n",
              "  </tbody>\n",
              "</table>\n",
              "</div>"
            ],
            "text/plain": [
              "       Address  member  age relation_encoded gender_encoded literacy_encoded  \\\n",
              "0  20011394629       1   36                1              1                1   \n",
              "1  20011394629       2   29                2              2                1   \n",
              "2  20011394629       3   10                3              1                1   \n",
              "3  20011394629       4    5                3              1              NaN   \n",
              "4  20011394626       1   72                1              1                2   \n",
              "\n",
              "  studying_encoded degree_encoded occupationalst_encoded maritalst_encoded  \n",
              "0                2              2                      1                 1  \n",
              "1                2              1                      5                 1  \n",
              "2                1              1                      4                 4  \n",
              "3              NaN            NaN                    NaN               NaN  \n",
              "4              NaN            NaN                      6                 1  "
            ]
          },
          "execution_count": 120,
          "metadata": {},
          "output_type": "execute_result"
        }
      ],
      "source": [
        "R99P1.head()"
      ]
    },
    {
      "cell_type": "code",
      "execution_count": 121,
      "metadata": {},
      "outputs": [
        {
          "name": "stdout",
          "output_type": "stream",
          "text": [
            "نوع داده‌های هر ستون:\n",
            "Address                    int64\n",
            "member                     int64\n",
            "age                        int64\n",
            "relation_encoded          object\n",
            "gender_encoded            object\n",
            "literacy_encoded          object\n",
            "studying_encoded          object\n",
            "degree_encoded            object\n",
            "occupationalst_encoded    object\n",
            "maritalst_encoded         object\n",
            "dtype: object\n"
          ]
        }
      ],
      "source": [
        "# نمایش نوع داده‌ها برای هر ستون\n",
        "print(\"نوع داده‌های هر ستون:\")\n",
        "print(R99P1.dtypes)\n"
      ]
    },
    {
      "cell_type": "code",
      "execution_count": 122,
      "metadata": {},
      "outputs": [
        {
          "name": "stdout",
          "output_type": "stream",
          "text": [
            "مقادیر یونیک در ستون 'relation_encoded': ['1' '2' '3' '7' '6' '5' '8' '4' '9']\n",
            "مقادیر یونیک در ستون 'gender_encoded': ['1' '2']\n",
            "مقادیر یونیک در ستون 'literacy_encoded': ['1' nan '2']\n",
            "مقادیر یونیک در ستون 'studying_encoded': ['2' '1' nan]\n",
            "مقادیر یونیک در ستون 'degree_encoded': ['2' '1' nan '6' '4' '3' '5' '9' '7' '8']\n",
            "مقادیر یونیک در ستون 'occupationalst_encoded': ['1' '5' '4' nan '6' '3' '2']\n",
            "مقادیر یونیک در ستون 'maritalst_encoded': ['1' '4' nan '3' '2']\n"
          ]
        }
      ],
      "source": [
        "# بررسی مقادیر یونیک در هر ستون انکود شده\n",
        "print(\"مقادیر یونیک در ستون 'relation_encoded':\", R99P1['relation_encoded'].unique())\n",
        "print(\"مقادیر یونیک در ستون 'gender_encoded':\", R99P1['gender_encoded'].unique())\n",
        "print(\"مقادیر یونیک در ستون 'literacy_encoded':\", R99P1['literacy_encoded'].unique())\n",
        "print(\"مقادیر یونیک در ستون 'studying_encoded':\", R99P1['studying_encoded'].unique())\n",
        "print(\"مقادیر یونیک در ستون 'degree_encoded':\", R99P1['degree_encoded'].unique())\n",
        "print(\"مقادیر یونیک در ستون 'occupationalst_encoded':\", R99P1['occupationalst_encoded'].unique())\n",
        "print(\"مقادیر یونیک در ستون 'maritalst_encoded':\", R99P1['maritalst_encoded'].unique())\n"
      ]
    },
    {
      "cell_type": "code",
      "execution_count": 123,
      "metadata": {},
      "outputs": [],
      "source": [
        "from sklearn.ensemble import RandomForestClassifier\n",
        "from sklearn.model_selection import train_test_split\n",
        "from sklearn.metrics import accuracy_score, recall_score, f1_score, classification_report\n"
      ]
    },
    {
      "cell_type": "code",
      "execution_count": 124,
      "metadata": {},
      "outputs": [],
      "source": [
        "df_encoded = R99P1.copy()"
      ]
    },
    {
      "cell_type": "code",
      "execution_count": 125,
      "metadata": {},
      "outputs": [],
      "source": [
        "# بررسی ستون‌ها و جدا کردن داده‌های مفقود و غیر مفقود\n",
        "df_not_null = df_encoded[df_encoded['studying_encoded'].notnull()]\n",
        "df_null = df_encoded[df_encoded['studying_encoded'].isnull()]"
      ]
    },
    {
      "cell_type": "code",
      "execution_count": 126,
      "metadata": {},
      "outputs": [],
      "source": [
        "X = df_not_null.drop(['studying_encoded'], axis=1)\n",
        "y = df_not_null['studying_encoded']\n"
      ]
    },
    {
      "cell_type": "code",
      "execution_count": 127,
      "metadata": {},
      "outputs": [],
      "source": [
        "X_train, X_test, y_train, y_test = train_test_split(X, y, test_size=0.2, random_state=42)"
      ]
    },
    {
      "cell_type": "code",
      "execution_count": 128,
      "metadata": {},
      "outputs": [
        {
          "name": "stdout",
          "output_type": "stream",
          "text": [
            "Accuracy: 0.9937588963100843\n",
            "Recall: 0.9827844311377245\n",
            "F1 Score: 0.9892635147862121\n"
          ]
        }
      ],
      "source": [
        "\n",
        "model = RandomForestClassifier()\n",
        "\n",
        "\n",
        "model.fit(X_train, y_train)\n",
        "\n",
        "\n",
        "y_pred = model.predict(X_test)\n",
        "\n",
        "\n",
        "y_test_numeric = y_test.astype(int)\n",
        "y_pred_numeric = y_pred.astype(int)\n",
        "\n",
        "# محاسبه دقت (Accuracy)\n",
        "accuracy = accuracy_score(y_test_numeric, y_pred_numeric)\n",
        "print(f'Accuracy: {accuracy}')\n",
        "\n",
        "# محاسبه Recall و F1 Score\n",
        "recall = recall_score(y_test_numeric, y_pred_numeric)\n",
        "f1 = f1_score(y_test_numeric, y_pred_numeric)\n",
        "\n",
        "print(f'Recall: {recall}')\n",
        "print(f'F1 Score: {f1}')"
      ]
    },
    {
      "cell_type": "code",
      "execution_count": 129,
      "metadata": {},
      "outputs": [
        {
          "name": "stdout",
          "output_type": "stream",
          "text": [
            "       Address  member  age relation_encoded gender_encoded literacy_encoded  \\\n",
            "0  20011394629       1   36                1              1                1   \n",
            "1  20011394629       2   29                2              2                1   \n",
            "2  20011394629       3   10                3              1                1   \n",
            "3  20011394629       4    5                3              1              NaN   \n",
            "4  20011394626       1   72                1              1                2   \n",
            "\n",
            "  studying_encoded degree_encoded occupationalst_encoded maritalst_encoded  \n",
            "0                2              2                      1                 1  \n",
            "1                2              1                      5                 1  \n",
            "2                1              1                      4                 4  \n",
            "3                1            NaN                    NaN               NaN  \n",
            "4                2            NaN                      6                 1  \n"
          ]
        }
      ],
      "source": [
        "\n",
        "X_null = df_null.drop(['studying_encoded'], axis=1)\n",
        "\n",
        "\n",
        "df_null.loc[:, 'studying_encoded'] = model.predict(X_null)\n",
        "\n",
        "\n",
        "R99P1_filled = pd.concat([df_not_null, df_null])\n",
        "\n",
        "\n",
        "R99P1_filled.sort_index(inplace=True)\n",
        "\n",
        "\n",
        "print(R99P1_filled.head())"
      ]
    },
    {
      "cell_type": "code",
      "execution_count": 130,
      "metadata": {},
      "outputs": [
        {
          "data": {
            "text/plain": [
              "Address                    0.000000\n",
              "member                     0.000000\n",
              "age                        0.000000\n",
              "relation_encoded           0.000000\n",
              "gender_encoded             0.000000\n",
              "literacy_encoded           9.309675\n",
              "studying_encoded           0.000000\n",
              "degree_encoded            27.854761\n",
              "occupationalst_encoded    16.467317\n",
              "maritalst_encoded         16.467317\n",
              "dtype: float64"
            ]
          },
          "execution_count": 130,
          "metadata": {},
          "output_type": "execute_result"
        }
      ],
      "source": [
        "missing_percentage = R99P1_filled.isnull().sum() / len(R99P1) * 100\n",
        "missing_percentage.sort_values(ascending=False)  \n",
        "missing_percentage"
      ]
    },
    {
      "cell_type": "code",
      "execution_count": 131,
      "metadata": {},
      "outputs": [],
      "source": [
        "df_encoded2 = R99P1_filled.copy()"
      ]
    },
    {
      "cell_type": "code",
      "execution_count": 132,
      "metadata": {},
      "outputs": [
        {
          "name": "stdout",
          "output_type": "stream",
          "text": [
            "Accuracy: 0.9937588963100843\n",
            "       Address  member  age relation_encoded gender_encoded literacy_encoded  \\\n",
            "0  20011394629       1   36                1              1                1   \n",
            "1  20011394629       2   29                2              2                1   \n",
            "2  20011394629       3   10                3              1                1   \n",
            "3  20011394629       4    5                3              1                2   \n",
            "4  20011394626       1   72                1              1                2   \n",
            "\n",
            "  studying_encoded degree_encoded occupationalst_encoded maritalst_encoded  \n",
            "0                2              2                      1                 1  \n",
            "1                2              1                      5                 1  \n",
            "2                1              1                      4                 4  \n",
            "3                1            NaN                    NaN               NaN  \n",
            "4                2            NaN                      6                 1  \n"
          ]
        }
      ],
      "source": [
        "\n",
        "df_not_null = df_encoded2[df_encoded2['literacy_encoded'].notnull()]\n",
        "df_null = df_encoded2[df_encoded2['literacy_encoded'].isnull()]\n",
        "\n",
        "\n",
        "X = df_not_null.drop(['literacy_encoded'], axis=1)\n",
        "y = df_not_null['literacy_encoded']\n",
        "\n",
        "\n",
        "X_train, X_test, y_train, y_test = train_test_split(X, y, test_size=0.2, random_state=42)\n",
        "\n",
        "\n",
        "model = RandomForestClassifier()\n",
        "\n",
        "\n",
        "model.fit(X_train, y_train)\n",
        "\n",
        "\n",
        "y_pred = model.predict(X_test)\n",
        "\n",
        "\n",
        "\n",
        "\n",
        "accuracy = accuracy_score(y_test_numeric, y_pred_numeric)\n",
        "print(f'Accuracy: {accuracy}')\n",
        "\n",
        "\n",
        "\n",
        "\n",
        "\n",
        "X_null = df_null.drop(['literacy_encoded'], axis=1)\n",
        "\n",
        "\n",
        "df_null.loc[:, 'literacy_encoded'] = model.predict(X_null)\n",
        "\n",
        "\n",
        "R99P1_filled = pd.concat([df_not_null, df_null])\n",
        "\n",
        "\n",
        "R99P1_filled.sort_index(inplace=True)\n",
        "\n",
        "\n",
        "print(R99P1_filled.head())"
      ]
    },
    {
      "cell_type": "code",
      "execution_count": 133,
      "metadata": {},
      "outputs": [
        {
          "data": {
            "text/plain": [
              "Address                    0.000000\n",
              "member                     0.000000\n",
              "age                        0.000000\n",
              "relation_encoded           0.000000\n",
              "gender_encoded             0.000000\n",
              "literacy_encoded           0.000000\n",
              "studying_encoded           0.000000\n",
              "degree_encoded            27.854761\n",
              "occupationalst_encoded    16.467317\n",
              "maritalst_encoded         16.467317\n",
              "dtype: float64"
            ]
          },
          "execution_count": 133,
          "metadata": {},
          "output_type": "execute_result"
        }
      ],
      "source": [
        "missing_percentage = R99P1_filled.isnull().sum() / len(R99P1) * 100\n",
        "missing_percentage.sort_values(ascending=False)  \n",
        "missing_percentage"
      ]
    },
    {
      "cell_type": "code",
      "execution_count": null,
      "metadata": {},
      "outputs": [],
      "source": []
    },
    {
      "cell_type": "code",
      "execution_count": 134,
      "metadata": {},
      "outputs": [],
      "source": [
        "df_encoded3 = R99P1_filled.copy()"
      ]
    },
    {
      "cell_type": "code",
      "execution_count": 135,
      "metadata": {},
      "outputs": [
        {
          "name": "stdout",
          "output_type": "stream",
          "text": [
            "Accuracy for degree_encoded: 0.5329610162067455\n",
            "       Address  member  age relation_encoded gender_encoded literacy_encoded  \\\n",
            "0  20011394629       1   36                1              1                1   \n",
            "1  20011394629       2   29                2              2                1   \n",
            "2  20011394629       3   10                3              1                1   \n",
            "3  20011394629       4    5                3              1                2   \n",
            "4  20011394626       1   72                1              1                2   \n",
            "\n",
            "  studying_encoded degree_encoded occupationalst_encoded maritalst_encoded  \n",
            "0                2              2                      1                 1  \n",
            "1                2              1                      5                 1  \n",
            "2                1              1                      4                 4  \n",
            "3                1              1                    NaN               NaN  \n",
            "4                2              1                      6                 1  \n"
          ]
        }
      ],
      "source": [
        "\n",
        "df_not_null = df_encoded3[df_encoded3['degree_encoded'].notnull()]\n",
        "df_null = df_encoded3[df_encoded3['degree_encoded'].isnull()]\n",
        "\n",
        "\n",
        "X = df_not_null.drop(['degree_encoded'], axis=1)\n",
        "y = df_not_null['degree_encoded']\n",
        "\n",
        "\n",
        "X_train, X_test, y_train, y_test = train_test_split(X, y, test_size=0.2, random_state=42)\n",
        "\n",
        "\n",
        "model = RandomForestClassifier()\n",
        "\n",
        "\n",
        "model.fit(X_train, y_train)\n",
        "\n",
        "\n",
        "y_pred = model.predict(X_test)\n",
        "\n",
        "\n",
        "print(f'Accuracy for degree_encoded: {accuracy_score(y_test, y_pred)}')\n",
        "\n",
        "\n",
        "X_null = df_null.drop(['degree_encoded'], axis=1)\n",
        "\n",
        "\n",
        "df_null.loc[:, 'degree_encoded'] = model.predict(X_null)\n",
        "\n",
        "\n",
        "R99P1_filled = pd.concat([df_not_null, df_null])\n",
        "\n",
        "\n",
        "R99P1_filled.sort_index(inplace=True)\n",
        "\n",
        "\n",
        "print(R99P1_filled.head())"
      ]
    },
    {
      "cell_type": "code",
      "execution_count": 136,
      "metadata": {},
      "outputs": [
        {
          "data": {
            "text/plain": [
              "Address                    0.000000\n",
              "member                     0.000000\n",
              "age                        0.000000\n",
              "relation_encoded           0.000000\n",
              "gender_encoded             0.000000\n",
              "literacy_encoded           0.000000\n",
              "studying_encoded           0.000000\n",
              "degree_encoded             0.000000\n",
              "occupationalst_encoded    16.467317\n",
              "maritalst_encoded         16.467317\n",
              "dtype: float64"
            ]
          },
          "execution_count": 136,
          "metadata": {},
          "output_type": "execute_result"
        }
      ],
      "source": [
        "missing_percentage = R99P1_filled.isnull().sum() / len(R99P1) * 100\n",
        "missing_percentage.sort_values(ascending=False)  \n",
        "missing_percentage"
      ]
    },
    {
      "cell_type": "code",
      "execution_count": 137,
      "metadata": {},
      "outputs": [],
      "source": [
        "df_encoded4 = R99P1_filled.copy()"
      ]
    },
    {
      "cell_type": "code",
      "execution_count": 138,
      "metadata": {},
      "outputs": [
        {
          "name": "stdout",
          "output_type": "stream",
          "text": [
            "Accuracy for occupationalst_encoded : 0.7949687913750709\n",
            "       Address  member  age relation_encoded gender_encoded literacy_encoded  \\\n",
            "0  20011394629       1   36                1              1                1   \n",
            "1  20011394629       2   29                2              2                1   \n",
            "2  20011394629       3   10                3              1                1   \n",
            "3  20011394629       4    5                3              1                2   \n",
            "4  20011394626       1   72                1              1                2   \n",
            "\n",
            "  studying_encoded degree_encoded occupationalst_encoded maritalst_encoded  \n",
            "0                2              2                      1                 1  \n",
            "1                2              1                      5                 1  \n",
            "2                1              1                      4                 4  \n",
            "3                1              1                      4               NaN  \n",
            "4                2              1                      6                 1  \n"
          ]
        }
      ],
      "source": [
        "\n",
        "df_not_null = df_encoded4[df_encoded4['occupationalst_encoded'].notnull()]\n",
        "df_null = df_encoded4[df_encoded4['occupationalst_encoded'].isnull()]\n",
        "\n",
        "\n",
        "X = df_not_null.drop(['occupationalst_encoded'], axis=1)\n",
        "y = df_not_null['occupationalst_encoded']\n",
        "\n",
        "\n",
        "X_train, X_test, y_train, y_test = train_test_split(X, y, test_size=0.2, random_state=42)\n",
        "\n",
        "\n",
        "model = RandomForestClassifier()\n",
        "\n",
        "\n",
        "model.fit(X_train, y_train)\n",
        "\n",
        "\n",
        "y_pred = model.predict(X_test)\n",
        "\n",
        "\n",
        "print(f'Accuracy for occupationalst_encoded : {accuracy_score(y_test, y_pred)}')\n",
        "\n",
        "\n",
        "X_null = df_null.drop(['occupationalst_encoded'], axis=1)\n",
        "\n",
        "\n",
        "df_null.loc[:, 'occupationalst_encoded'] = model.predict(X_null)\n",
        "\n",
        "\n",
        "R99P1_filled = pd.concat([df_not_null, df_null])\n",
        "\n",
        "\n",
        "R99P1_filled.sort_index(inplace=True)\n",
        "\n",
        "\n",
        "print(R99P1_filled.head())"
      ]
    },
    {
      "cell_type": "code",
      "execution_count": 139,
      "metadata": {},
      "outputs": [
        {
          "data": {
            "text/plain": [
              "Address                    0.000000\n",
              "member                     0.000000\n",
              "age                        0.000000\n",
              "relation_encoded           0.000000\n",
              "gender_encoded             0.000000\n",
              "literacy_encoded           0.000000\n",
              "studying_encoded           0.000000\n",
              "degree_encoded             0.000000\n",
              "occupationalst_encoded     0.000000\n",
              "maritalst_encoded         16.467317\n",
              "dtype: float64"
            ]
          },
          "execution_count": 139,
          "metadata": {},
          "output_type": "execute_result"
        }
      ],
      "source": [
        "missing_percentage = R99P1_filled.isnull().sum() / len(R99P1) * 100\n",
        "missing_percentage.sort_values(ascending=False)  \n",
        "missing_percentage"
      ]
    },
    {
      "cell_type": "code",
      "execution_count": 140,
      "metadata": {},
      "outputs": [],
      "source": [
        "df_encoded5 = R99P1_filled.copy()"
      ]
    },
    {
      "cell_type": "code",
      "execution_count": 141,
      "metadata": {},
      "outputs": [
        {
          "name": "stdout",
          "output_type": "stream",
          "text": [
            "Accuracy for maritalst_encoded : 0.9325704558350671\n",
            "       Address  member  age relation_encoded gender_encoded literacy_encoded  \\\n",
            "0  20011394629       1   36                1              1                1   \n",
            "1  20011394629       2   29                2              2                1   \n",
            "2  20011394629       3   10                3              1                1   \n",
            "3  20011394629       4    5                3              1                2   \n",
            "4  20011394626       1   72                1              1                2   \n",
            "\n",
            "  studying_encoded degree_encoded occupationalst_encoded maritalst_encoded  \n",
            "0                2              2                      1                 1  \n",
            "1                2              1                      5                 1  \n",
            "2                1              1                      4                 4  \n",
            "3                1              1                      4                 4  \n",
            "4                2              1                      6                 1  \n"
          ]
        }
      ],
      "source": [
        "\n",
        "df_not_null = df_encoded5[df_encoded5['maritalst_encoded'].notnull()]\n",
        "df_null = df_encoded5[df_encoded5['maritalst_encoded'].isnull()]\n",
        "\n",
        "\n",
        "X = df_not_null.drop(['maritalst_encoded'], axis=1)\n",
        "y = df_not_null['maritalst_encoded']\n",
        "\n",
        "\n",
        "X_train, X_test, y_train, y_test = train_test_split(X, y, test_size=0.2, random_state=42)\n",
        "\n",
        "\n",
        "model = RandomForestClassifier()\n",
        "\n",
        "\n",
        "model.fit(X_train, y_train)\n",
        "\n",
        "\n",
        "y_pred = model.predict(X_test)\n",
        "\n",
        "\n",
        "print(f'Accuracy for maritalst_encoded : {accuracy_score(y_test, y_pred)}')\n",
        "\n",
        "\n",
        "X_null = df_null.drop(['maritalst_encoded'], axis=1)\n",
        "\n",
        "\n",
        "df_null.loc[:, 'maritalst_encoded'] = model.predict(X_null)\n",
        "\n",
        "\n",
        "R99P1_filled = pd.concat([df_not_null, df_null])\n",
        "\n",
        "\n",
        "R99P1_filled.sort_index(inplace=True)\n",
        "\n",
        "\n",
        "print(R99P1_filled.head())"
      ]
    },
    {
      "cell_type": "markdown",
      "metadata": {},
      "source": [
        "اسم شیت نهایی R99P1_filled"
      ]
    },
    {
      "cell_type": "markdown",
      "metadata": {},
      "source": [
        "----------------روش دوم"
      ]
    },
    {
      "cell_type": "code",
      "execution_count": 37,
      "metadata": {},
      "outputs": [],
      "source": [
        "#R99P1_filled = R99P1.copy()"
      ]
    },
    {
      "cell_type": "code",
      "execution_count": 40,
      "metadata": {},
      "outputs": [
        {
          "name": "stdout",
          "output_type": "stream",
          "text": [
            "\n",
            "درصد مقادیر نال قبل از پر کردن:\n",
            "Address                    0.000000\n",
            "member                     0.000000\n",
            "age                        0.000000\n",
            "relation_encoded           0.000000\n",
            "gender_encoded             0.000000\n",
            "relation_encoded           0.000000\n",
            "gender_encoded             0.000000\n",
            "literacy_encoded           9.309675\n",
            "studying_encoded          27.853181\n",
            "degree_encoded            27.854761\n",
            "occupationalst_encoded    16.467317\n",
            "maritalst_encoded         16.467317\n",
            "dtype: float64\n"
          ]
        }
      ],
      "source": [
        "#print(\"\\nدرصد مقادیر نال قبل از پر کردن:\")\n",
        "#print(R99P1_filled[feature_columns].isnull().mean() * 100)"
      ]
    },
    {
      "cell_type": "code",
      "execution_count": 45,
      "metadata": {},
      "outputs": [],
      "source": [
        "from sklearn.ensemble import RandomForestRegressor, RandomForestClassifier\n",
        "from sklearn.experimental import enable_iterative_imputer\n",
        "from sklearn.impute import IterativeImputer\n",
        "from sklearn.preprocessing import LabelEncoder\n"
      ]
    },
    {
      "cell_type": "code",
      "execution_count": 39,
      "metadata": {},
      "outputs": [],
      "source": [
        "#categorical_columns = ['relation_encoded', 'gender_encoded', 'literacy_encoded', 'studying_encoded', 'degree_encoded', \n",
        "                       'occupationalst_encoded', 'maritalst_encoded']\n",
        "#feature_columns = ['Address', 'member', 'age', 'relation_encoded', 'gender_encoded'] + categorical_columns"
      ]
    },
    {
      "cell_type": "code",
      "execution_count": 41,
      "metadata": {},
      "outputs": [],
      "source": [
        "#def round_to_integer(x):\n",
        "    return np.round(x).astype(int)"
      ]
    },
    {
      "cell_type": "code",
      "execution_count": 46,
      "metadata": {},
      "outputs": [
        {
          "ename": "",
          "evalue": "",
          "output_type": "error",
          "traceback": [
            "\u001b[1;31mCannot execute code, session has been disposed. Please try restarting the Kernel."
          ]
        },
        {
          "ename": "",
          "evalue": "",
          "output_type": "error",
          "traceback": [
            "\u001b[1;31mThe Kernel crashed while executing code in the the current cell or a previous cell. Please review the code in the cell(s) to identify a possible cause of the failure. Click <a href='https://aka.ms/vscodeJupyterKernelCrash'>here</a> for more info. View Jupyter <a href='command:jupyter.viewOutput'>log</a> for further details."
          ]
        }
      ],
      "source": [
        "# پر کردن مقادیر نال برای ستون‌های کتگوریکال\n",
        "#for col in categorical_columns:\n",
        "    # ایجاد یک IterativeImputer با RandomForestClassifier\n",
        "    imputer = IterativeImputer(\n",
        "        estimator=RandomForestClassifier(n_estimators=100, random_state=42),\n",
        "        random_state=42,\n",
        "        max_iter=10\n",
        "    )\n",
        "    \n",
        "    # اعمال imputer روی داده‌ها\n",
        "    imputed_data = imputer.fit_transform(R99P1_filled[feature_columns])\n",
        "    \n",
        "    # جایگزینی مقادیر پر شده و گرد کردن به نزدیک‌ترین عدد صحیح\n",
        "    col_index = feature_columns.index(col)\n",
        "    R99P1_filled[col] = round_to_integer(imputed_data[:, col_index])\n",
        "\n",
        "\n",
        "    \n",
        "    imputed_data = imputer.fit_transform(R99P1_filled[feature_columns])\n",
        "    \n",
        "\n",
        "\n",
        "#print(\"داده‌ها با موفقیت در دیتافریم df_imputed پر شدند.\")"
      ]
    },
    {
      "cell_type": "code",
      "execution_count": 102,
      "metadata": {},
      "outputs": [
        {
          "name": "stdout",
          "output_type": "stream",
          "text": [
            "\n",
            "درصد مقادیر نال بعد از پر کردن:\n",
            "literacy_encoded          0.0\n",
            "studying_encoded          0.0\n",
            "degree_encoded            0.0\n",
            "occupationalst_encoded    0.0\n",
            "maritalst_encoded         0.0\n",
            "dtype: float64\n"
          ]
        }
      ],
      "source": [
        "#print(\"\\nدرصد مقادیر نال بعد از پر کردن:\")\n",
        "#print(R99P1_filled[columns_to_impute].isnull().mean() * 100)"
      ]
    },
    {
      "cell_type": "code",
      "execution_count": 142,
      "metadata": {},
      "outputs": [
        {
          "data": {
            "text/html": [
              "<div>\n",
              "<style scoped>\n",
              "    .dataframe tbody tr th:only-of-type {\n",
              "        vertical-align: middle;\n",
              "    }\n",
              "\n",
              "    .dataframe tbody tr th {\n",
              "        vertical-align: top;\n",
              "    }\n",
              "\n",
              "    .dataframe thead th {\n",
              "        text-align: right;\n",
              "    }\n",
              "</style>\n",
              "<table border=\"1\" class=\"dataframe\">\n",
              "  <thead>\n",
              "    <tr style=\"text-align: right;\">\n",
              "      <th></th>\n",
              "      <th>Address</th>\n",
              "      <th>member</th>\n",
              "      <th>age</th>\n",
              "      <th>relation_encoded</th>\n",
              "      <th>gender_encoded</th>\n",
              "      <th>literacy_encoded</th>\n",
              "      <th>studying_encoded</th>\n",
              "      <th>degree_encoded</th>\n",
              "      <th>occupationalst_encoded</th>\n",
              "      <th>maritalst_encoded</th>\n",
              "    </tr>\n",
              "  </thead>\n",
              "  <tbody>\n",
              "    <tr>\n",
              "      <th>0</th>\n",
              "      <td>20011394629</td>\n",
              "      <td>1</td>\n",
              "      <td>36</td>\n",
              "      <td>1</td>\n",
              "      <td>1</td>\n",
              "      <td>1</td>\n",
              "      <td>2</td>\n",
              "      <td>2</td>\n",
              "      <td>1</td>\n",
              "      <td>1</td>\n",
              "    </tr>\n",
              "    <tr>\n",
              "      <th>1</th>\n",
              "      <td>20011394629</td>\n",
              "      <td>2</td>\n",
              "      <td>29</td>\n",
              "      <td>2</td>\n",
              "      <td>2</td>\n",
              "      <td>1</td>\n",
              "      <td>2</td>\n",
              "      <td>1</td>\n",
              "      <td>5</td>\n",
              "      <td>1</td>\n",
              "    </tr>\n",
              "    <tr>\n",
              "      <th>2</th>\n",
              "      <td>20011394629</td>\n",
              "      <td>3</td>\n",
              "      <td>10</td>\n",
              "      <td>3</td>\n",
              "      <td>1</td>\n",
              "      <td>1</td>\n",
              "      <td>1</td>\n",
              "      <td>1</td>\n",
              "      <td>4</td>\n",
              "      <td>4</td>\n",
              "    </tr>\n",
              "    <tr>\n",
              "      <th>3</th>\n",
              "      <td>20011394629</td>\n",
              "      <td>4</td>\n",
              "      <td>5</td>\n",
              "      <td>3</td>\n",
              "      <td>1</td>\n",
              "      <td>2</td>\n",
              "      <td>1</td>\n",
              "      <td>1</td>\n",
              "      <td>4</td>\n",
              "      <td>4</td>\n",
              "    </tr>\n",
              "    <tr>\n",
              "      <th>4</th>\n",
              "      <td>20011394626</td>\n",
              "      <td>1</td>\n",
              "      <td>72</td>\n",
              "      <td>1</td>\n",
              "      <td>1</td>\n",
              "      <td>2</td>\n",
              "      <td>2</td>\n",
              "      <td>1</td>\n",
              "      <td>6</td>\n",
              "      <td>1</td>\n",
              "    </tr>\n",
              "  </tbody>\n",
              "</table>\n",
              "</div>"
            ],
            "text/plain": [
              "       Address  member  age relation_encoded gender_encoded literacy_encoded  \\\n",
              "0  20011394629       1   36                1              1                1   \n",
              "1  20011394629       2   29                2              2                1   \n",
              "2  20011394629       3   10                3              1                1   \n",
              "3  20011394629       4    5                3              1                2   \n",
              "4  20011394626       1   72                1              1                2   \n",
              "\n",
              "  studying_encoded degree_encoded occupationalst_encoded maritalst_encoded  \n",
              "0                2              2                      1                 1  \n",
              "1                2              1                      5                 1  \n",
              "2                1              1                      4                 4  \n",
              "3                1              1                      4                 4  \n",
              "4                2              1                      6                 1  "
            ]
          },
          "execution_count": 142,
          "metadata": {},
          "output_type": "execute_result"
        }
      ],
      "source": [
        "R99P1_filled.head()"
      ]
    },
    {
      "cell_type": "code",
      "execution_count": null,
      "metadata": {},
      "outputs": [],
      "source": []
    },
    {
      "cell_type": "code",
      "execution_count": 143,
      "metadata": {},
      "outputs": [
        {
          "name": "stdout",
          "output_type": "stream",
          "text": [
            "ستون‌های عددی:\n",
            "Index(['Address', 'member', 'age'], dtype='object')\n"
          ]
        }
      ],
      "source": [
        "# بررسی ستون‌های عددی\n",
        "numerical_columns = R99P1_filled.select_dtypes(include=['number']).columns\n",
        "print(\"ستون‌های عددی:\")\n",
        "print(numerical_columns)\n"
      ]
    },
    {
      "cell_type": "code",
      "execution_count": 144,
      "metadata": {},
      "outputs": [
        {
          "name": "stdout",
          "output_type": "stream",
          "text": [
            "تعداد داده‌های پرت در ستون member: 831\n"
          ]
        }
      ],
      "source": [
        "# بررسی داده‌های پرت بر اساس IQR\n",
        "for column in numerical_columns:\n",
        "    Q1 = R99P1_filled[column].quantile(0.25)\n",
        "    Q3 = R99P1_filled[column].quantile(0.75)\n",
        "    IQR = Q3 - Q1\n",
        "    outliers = ((R99P1_filled[column] < (Q1 - 1.5 * IQR)) | (R99P1_filled[column] > (Q3 + 1.5 * IQR))).sum()\n",
        "    if outliers > 0:\n",
        "        print(f\"تعداد داده‌های پرت در ستون {column}: {outliers}\")\n"
      ]
    },
    {
      "cell_type": "code",
      "execution_count": 145,
      "metadata": {},
      "outputs": [
        {
          "name": "stdout",
          "output_type": "stream",
          "text": [
            "Number of outliers: 831\n",
            "            Address        member           age\n",
            "count  6.328900e+04  63289.000000  63289.000000\n",
            "mean   2.146042e+10      2.546051     33.522255\n",
            "std    8.918270e+08      1.394037     21.724110\n",
            "min    2.000138e+10      1.000000      0.000000\n",
            "25%    2.070747e+10      1.000000     14.000000\n",
            "50%    2.140455e+10      2.000000     32.000000\n",
            "75%    2.220863e+10      3.000000     49.000000\n",
            "max    2.300671e+10      6.000000     99.000000\n"
          ]
        }
      ],
      "source": [
        "\n",
        "\n",
        "\n",
        "df = R99P1_filled.copy()\n",
        "\n",
        "\n",
        "Q1 = df['member'].quantile(0.25)\n",
        "Q3 = df['member'].quantile(0.75)\n",
        "IQR = Q3 - Q1\n",
        "\n",
        "\n",
        "lower_bound = Q1 - 1.5 * IQR\n",
        "upper_bound = Q3 + 1.5 * IQR\n",
        "\n",
        "\n",
        "outliers = df[(df['member'] < lower_bound) | (df['member'] > upper_bound)]\n",
        "\n",
        "\n",
        "print(f'Number of outliers: {len(outliers)}')\n",
        "\n",
        "\n",
        "\n",
        "df['member'] = df['member'].clip(lower_bound, upper_bound)\n",
        "\n",
        "\n",
        "print(df.describe())\n"
      ]
    },
    {
      "cell_type": "code",
      "execution_count": 146,
      "metadata": {},
      "outputs": [],
      "source": [
        "# بررسی داده‌های پرت بر اساس IQR\n",
        "for column in numerical_columns:\n",
        "    Q1 = df[column].quantile(0.25)\n",
        "    Q3 = df[column].quantile(0.75)\n",
        "    IQR = Q3 - Q1\n",
        "    outliers = ((df[column] < (Q1 - 1.5 * IQR)) | (df[column] > (Q3 + 1.5 * IQR))).sum()\n",
        "    if outliers > 0:\n",
        "        print(f\"تعداد داده‌های پرت در ستون {column}: {outliers}\")"
      ]
    },
    {
      "cell_type": "code",
      "execution_count": 147,
      "metadata": {},
      "outputs": [],
      "source": [
        "df_P1_filled = df.copy()"
      ]
    },
    {
      "cell_type": "markdown",
      "metadata": {},
      "source": [
        "شیت نهایی df_P1_filled"
      ]
    },
    {
      "cell_type": "markdown",
      "metadata": {},
      "source": [
        "بررسی شیت R99P2"
      ]
    },
    {
      "cell_type": "code",
      "execution_count": 149,
      "metadata": {},
      "outputs": [
        {
          "name": "stdout",
          "output_type": "stream",
          "text": [
            "<class 'pandas.core.frame.DataFrame'>\n",
            "RangeIndex: 18251 entries, 0 to 18250\n",
            "Data columns (total 45 columns):\n",
            " #   Column               Non-Null Count  Dtype \n",
            "---  ------               --------------  ----- \n",
            " 0   Address              18251 non-null  int64 \n",
            " 1   tenure               18251 non-null  object\n",
            " 2   room                 18251 non-null  int64 \n",
            " 3   space                18251 non-null  int64 \n",
            " 4   construction         18251 non-null  int64 \n",
            " 5   material             14664 non-null  object\n",
            " 6   vehicle              18251 non-null  bool  \n",
            " 7   motorcycle           18251 non-null  bool  \n",
            " 8   bicycle              18251 non-null  bool  \n",
            " 9   radio                18251 non-null  bool  \n",
            " 10  radiotape            18251 non-null  bool  \n",
            " 11  TVbw                 18251 non-null  bool  \n",
            " 12  TV                   18251 non-null  bool  \n",
            " 13  VHS_VCD_DVD          18251 non-null  bool  \n",
            " 14  computer             18251 non-null  bool  \n",
            " 15  cellphone            18251 non-null  bool  \n",
            " 16  freezer              18251 non-null  bool  \n",
            " 17  refridgerator        18251 non-null  bool  \n",
            " 18  fridge               18251 non-null  bool  \n",
            " 19  stove                18251 non-null  bool  \n",
            " 20  vacuum               18251 non-null  bool  \n",
            " 21  washingmachine       18251 non-null  bool  \n",
            " 22  sewingmachine        18251 non-null  bool  \n",
            " 23  fan                  18251 non-null  bool  \n",
            " 24  evapcoolingportable  18251 non-null  bool  \n",
            " 25  splitportable        18251 non-null  bool  \n",
            " 26  dishwasher           18251 non-null  bool  \n",
            " 27  microwave            18251 non-null  bool  \n",
            " 28  none                 18251 non-null  bool  \n",
            " 29  pipewater            18251 non-null  bool  \n",
            " 30  electricity          18251 non-null  bool  \n",
            " 31  pipegas              18251 non-null  bool  \n",
            " 32  telephone            18251 non-null  bool  \n",
            " 33  internet             18251 non-null  bool  \n",
            " 34  bathroom             18251 non-null  bool  \n",
            " 35  kitchen              18251 non-null  bool  \n",
            " 36  evapcooling          18251 non-null  bool  \n",
            " 37  centralcooling       18251 non-null  bool  \n",
            " 38  centralheating       18251 non-null  bool  \n",
            " 39  package              18251 non-null  bool  \n",
            " 40  split                18251 non-null  bool  \n",
            " 41  wastewater           18251 non-null  bool  \n",
            " 42  cookingfuel          18250 non-null  object\n",
            " 43  heatingfuel          17709 non-null  object\n",
            " 44  waterheatingfuel     17953 non-null  object\n",
            "dtypes: bool(36), int64(4), object(5)\n",
            "memory usage: 1.9+ MB\n"
          ]
        }
      ],
      "source": [
        "R99P2.info()"
      ]
    },
    {
      "cell_type": "code",
      "execution_count": 150,
      "metadata": {},
      "outputs": [
        {
          "name": "stdout",
          "output_type": "stream",
          "text": [
            "material            19.653718\n",
            "heatingfuel          2.969700\n",
            "waterheatingfuel     1.632787\n",
            "cookingfuel          0.005479\n",
            "dtype: float64\n"
          ]
        }
      ],
      "source": [
        "missing_percentage = R99P2.isnull().mean() * 100  # درصد مقادیر نال\n",
        "missing_percentage = missing_percentage[missing_percentage > 0]  # فقط مقادیر نال را نگه‌دارید\n",
        "missing_percentage = missing_percentage.sort_values(ascending=False)  # مرتب‌سازی به ترتیب نزولی\n",
        "\n",
        "print(missing_percentage)"
      ]
    },
    {
      "cell_type": "code",
      "execution_count": 151,
      "metadata": {},
      "outputs": [],
      "source": [
        "R99P2_cleaned = R99P2.dropna(subset=['heatingfuel', 'waterheatingfuel', 'cookingfuel'])"
      ]
    },
    {
      "cell_type": "code",
      "execution_count": 152,
      "metadata": {},
      "outputs": [
        {
          "name": "stdout",
          "output_type": "stream",
          "text": [
            "material    19.162357\n",
            "dtype: float64\n"
          ]
        }
      ],
      "source": [
        "missing_percentage = R99P2_cleaned.isnull().mean() * 100  # درصد مقادیر نال\n",
        "missing_percentage = missing_percentage[missing_percentage > 0]  # فقط مقادیر نال را نگه‌دارید\n",
        "missing_percentage = missing_percentage.sort_values(ascending=False)  # مرتب‌سازی به ترتیب نزولی\n",
        "\n",
        "print(missing_percentage)"
      ]
    },
    {
      "cell_type": "code",
      "execution_count": 153,
      "metadata": {},
      "outputs": [
        {
          "name": "stdout",
          "output_type": "stream",
          "text": [
            "نوع داده‌ها:\n",
            "Address                 int64\n",
            "tenure                 object\n",
            "room                    int64\n",
            "space                   int64\n",
            "construction            int64\n",
            "material               object\n",
            "vehicle                  bool\n",
            "motorcycle               bool\n",
            "bicycle                  bool\n",
            "radio                    bool\n",
            "radiotape                bool\n",
            "TVbw                     bool\n",
            "TV                       bool\n",
            "VHS_VCD_DVD              bool\n",
            "computer                 bool\n",
            "cellphone                bool\n",
            "freezer                  bool\n",
            "refridgerator            bool\n",
            "fridge                   bool\n",
            "stove                    bool\n",
            "vacuum                   bool\n",
            "washingmachine           bool\n",
            "sewingmachine            bool\n",
            "fan                      bool\n",
            "evapcoolingportable      bool\n",
            "splitportable            bool\n",
            "dishwasher               bool\n",
            "microwave                bool\n",
            "none                     bool\n",
            "pipewater                bool\n",
            "electricity              bool\n",
            "pipegas                  bool\n",
            "telephone                bool\n",
            "internet                 bool\n",
            "bathroom                 bool\n",
            "kitchen                  bool\n",
            "evapcooling              bool\n",
            "centralcooling           bool\n",
            "centralheating           bool\n",
            "package                  bool\n",
            "split                    bool\n",
            "wastewater               bool\n",
            "cookingfuel            object\n",
            "heatingfuel            object\n",
            "waterheatingfuel       object\n",
            "dtype: object\n"
          ]
        }
      ],
      "source": [
        "data_types = R99P2_cleaned.dtypes\n",
        "print(\"نوع داده‌ها:\")\n",
        "print(data_types)"
      ]
    },
    {
      "cell_type": "code",
      "execution_count": 154,
      "metadata": {},
      "outputs": [],
      "source": [
        "categorical_columns = R99P2_cleaned.select_dtypes(include=['object']).columns"
      ]
    },
    {
      "cell_type": "code",
      "execution_count": 155,
      "metadata": {},
      "outputs": [
        {
          "data": {
            "text/plain": [
              "Index(['tenure', 'material', 'cookingfuel', 'heatingfuel', 'waterheatingfuel'], dtype='object')"
            ]
          },
          "execution_count": 155,
          "metadata": {},
          "output_type": "execute_result"
        }
      ],
      "source": [
        "categorical_columns"
      ]
    },
    {
      "cell_type": "code",
      "execution_count": 156,
      "metadata": {},
      "outputs": [
        {
          "name": "stdout",
          "output_type": "stream",
          "text": [
            "مقادیر یونیک در ستون 'tenure':\n",
            "['OwnedEstateLand' 'Free' 'Service' 'Rent' 'Mortgage' 'OwnedEstate'\n",
            " 'Other']\n",
            "--------------------------------------------------\n",
            "مقادیر یونیک در ستون 'material':\n",
            "['WoodKesht' 'BrickWood' 'KeshtGel' 'MetalBlock' nan 'Brick' 'Cement'\n",
            " 'Other' 'Wood']\n",
            "--------------------------------------------------\n",
            "مقادیر یونیک در ستون 'cookingfuel':\n",
            "['NaturalGas' 'LiquidGas' 'Oil' 'Electricity' 'Gasoline' 'Wood']\n",
            "--------------------------------------------------\n",
            "مقادیر یونیک در ستون 'heatingfuel':\n",
            "['NaturalGas' 'Oil' 'Wood' 'Electricity' 'LiquidGas' 'Gasoline']\n",
            "--------------------------------------------------\n",
            "مقادیر یونیک در ستون 'waterheatingfuel':\n",
            "['NaturalGas' 'Oil' 'LiquidGas' 'Wood' 'Electricity' 'AnimalOil'\n",
            " 'Gasoline' 'Other']\n",
            "--------------------------------------------------\n"
          ]
        }
      ],
      "source": [
        "# لیست ستون‌های دسته‌بندی‌شده\n",
        "categorical_columns = ['tenure', 'material', 'cookingfuel', 'heatingfuel', 'waterheatingfuel']\n",
        "\n",
        "# حلقه برای مشاهده داده‌های یونیک در هر ستون\n",
        "for column in categorical_columns:\n",
        "    unique_values = R99P2_cleaned[column].unique()\n",
        "    print(f\"مقادیر یونیک در ستون '{column}':\")\n",
        "    print(unique_values)\n",
        "    print(\"-\" * 50)  # جداکننده برای خوانایی بیشتر\n"
      ]
    },
    {
      "cell_type": "code",
      "execution_count": 157,
      "metadata": {},
      "outputs": [
        {
          "name": "stderr",
          "output_type": "stream",
          "text": [
            "/var/folders/ym/18chwp3114b20r5myyx5bf5w0000gn/T/ipykernel_1813/2880551165.py:1: FutureWarning: Downcasting behavior in `replace` is deprecated and will be removed in a future version. To retain the old behavior, explicitly call `result.infer_objects(copy=False)`. To opt-in to the future behavior, set `pd.set_option('future.no_silent_downcasting', True)`\n",
            "  R99P2_cleaned.replace({True: 1, False: 0}, inplace=True)\n",
            "/var/folders/ym/18chwp3114b20r5myyx5bf5w0000gn/T/ipykernel_1813/2880551165.py:1: SettingWithCopyWarning: \n",
            "A value is trying to be set on a copy of a slice from a DataFrame\n",
            "\n",
            "See the caveats in the documentation: https://pandas.pydata.org/pandas-docs/stable/user_guide/indexing.html#returning-a-view-versus-a-copy\n",
            "  R99P2_cleaned.replace({True: 1, False: 0}, inplace=True)\n"
          ]
        }
      ],
      "source": [
        "R99P2_cleaned.replace({True: 1, False: 0}, inplace=True)"
      ]
    },
    {
      "cell_type": "code",
      "execution_count": 158,
      "metadata": {},
      "outputs": [],
      "source": [
        "tenure_mapping = {\n",
        "    'OwnedEstateLand': 1, 'OwnedEstate': 2, 'Rent': 3, 'Mortgage': 4,\n",
        "    'Service': 5, 'Free': 6, 'Other': 7\n",
        "}\n",
        "\n",
        "material_mapping = {\n",
        "    'MetalBlock': 1, 'BrickWood': 2, 'Cement': 3, 'Brick': 4,\n",
        "    'Wood': 5, 'WoodKesht': 6, 'KeshtGel': 7, 'Other': 8\n",
        "}\n",
        "\n",
        "cookingfuel_mapping = {\n",
        "    'NaturalGas': 1, 'LiquidGas': 2, 'Oil': 3, 'Electricity': 4,\n",
        "    'Gasoline': 5, 'Wood': 6\n",
        "}\n",
        "\n",
        "heatingfuel_mapping = {\n",
        "    'NaturalGas': 1, 'Oil': 2, 'Wood': 3, 'Electricity': 4,\n",
        "    'LiquidGas': 5, 'Gasoline': 6\n",
        "}\n",
        "\n",
        "waterheatingfuel_mapping = {\n",
        "    'NaturalGas': 1, 'Oil': 2, 'LiquidGas': 3, 'Wood': 4,\n",
        "    'Electricity': 5, 'AnimalOil': 6, 'Gasoline': 7, 'Other': 8\n",
        "}"
      ]
    },
    {
      "cell_type": "code",
      "execution_count": 159,
      "metadata": {},
      "outputs": [
        {
          "name": "stderr",
          "output_type": "stream",
          "text": [
            "/var/folders/ym/18chwp3114b20r5myyx5bf5w0000gn/T/ipykernel_1813/4099347315.py:1: SettingWithCopyWarning: \n",
            "A value is trying to be set on a copy of a slice from a DataFrame.\n",
            "Try using .loc[row_indexer,col_indexer] = value instead\n",
            "\n",
            "See the caveats in the documentation: https://pandas.pydata.org/pandas-docs/stable/user_guide/indexing.html#returning-a-view-versus-a-copy\n",
            "  R99P2_cleaned['tenure_encoded'] = R99P2_cleaned['tenure'].map(tenure_mapping)\n",
            "/var/folders/ym/18chwp3114b20r5myyx5bf5w0000gn/T/ipykernel_1813/4099347315.py:2: SettingWithCopyWarning: \n",
            "A value is trying to be set on a copy of a slice from a DataFrame.\n",
            "Try using .loc[row_indexer,col_indexer] = value instead\n",
            "\n",
            "See the caveats in the documentation: https://pandas.pydata.org/pandas-docs/stable/user_guide/indexing.html#returning-a-view-versus-a-copy\n",
            "  R99P2_cleaned['Material_encoded'] = R99P2_cleaned['material'].map(material_mapping)\n",
            "/var/folders/ym/18chwp3114b20r5myyx5bf5w0000gn/T/ipykernel_1813/4099347315.py:3: SettingWithCopyWarning: \n",
            "A value is trying to be set on a copy of a slice from a DataFrame.\n",
            "Try using .loc[row_indexer,col_indexer] = value instead\n",
            "\n",
            "See the caveats in the documentation: https://pandas.pydata.org/pandas-docs/stable/user_guide/indexing.html#returning-a-view-versus-a-copy\n",
            "  R99P2_cleaned['cookingFuel_encoded'] = R99P2_cleaned['cookingfuel'].map(cookingfuel_mapping)\n",
            "/var/folders/ym/18chwp3114b20r5myyx5bf5w0000gn/T/ipykernel_1813/4099347315.py:4: SettingWithCopyWarning: \n",
            "A value is trying to be set on a copy of a slice from a DataFrame.\n",
            "Try using .loc[row_indexer,col_indexer] = value instead\n",
            "\n",
            "See the caveats in the documentation: https://pandas.pydata.org/pandas-docs/stable/user_guide/indexing.html#returning-a-view-versus-a-copy\n",
            "  R99P2_cleaned['HeatingFuel_encoded'] = R99P2_cleaned['heatingfuel'].map(heatingfuel_mapping)\n",
            "/var/folders/ym/18chwp3114b20r5myyx5bf5w0000gn/T/ipykernel_1813/4099347315.py:5: SettingWithCopyWarning: \n",
            "A value is trying to be set on a copy of a slice from a DataFrame.\n",
            "Try using .loc[row_indexer,col_indexer] = value instead\n",
            "\n",
            "See the caveats in the documentation: https://pandas.pydata.org/pandas-docs/stable/user_guide/indexing.html#returning-a-view-versus-a-copy\n",
            "  R99P2_cleaned['waterheatingfuel_encoded'] = R99P2_cleaned['waterheatingfuel'].map(waterheatingfuel_mapping)\n"
          ]
        }
      ],
      "source": [
        "R99P2_cleaned['tenure_encoded'] = R99P2_cleaned['tenure'].map(tenure_mapping)\n",
        "R99P2_cleaned['Material_encoded'] = R99P2_cleaned['material'].map(material_mapping)\n",
        "R99P2_cleaned['cookingFuel_encoded'] = R99P2_cleaned['cookingfuel'].map(cookingfuel_mapping)\n",
        "R99P2_cleaned['HeatingFuel_encoded'] = R99P2_cleaned['heatingfuel'].map(heatingfuel_mapping)\n",
        "R99P2_cleaned['waterheatingfuel_encoded'] = R99P2_cleaned['waterheatingfuel'].map(waterheatingfuel_mapping)"
      ]
    },
    {
      "cell_type": "code",
      "execution_count": 160,
      "metadata": {},
      "outputs": [
        {
          "data": {
            "text/html": [
              "<div>\n",
              "<style scoped>\n",
              "    .dataframe tbody tr th:only-of-type {\n",
              "        vertical-align: middle;\n",
              "    }\n",
              "\n",
              "    .dataframe tbody tr th {\n",
              "        vertical-align: top;\n",
              "    }\n",
              "\n",
              "    .dataframe thead th {\n",
              "        text-align: right;\n",
              "    }\n",
              "</style>\n",
              "<table border=\"1\" class=\"dataframe\">\n",
              "  <thead>\n",
              "    <tr style=\"text-align: right;\">\n",
              "      <th></th>\n",
              "      <th>Address</th>\n",
              "      <th>tenure</th>\n",
              "      <th>room</th>\n",
              "      <th>space</th>\n",
              "      <th>construction</th>\n",
              "      <th>material</th>\n",
              "      <th>vehicle</th>\n",
              "      <th>motorcycle</th>\n",
              "      <th>bicycle</th>\n",
              "      <th>radio</th>\n",
              "      <th>...</th>\n",
              "      <th>split</th>\n",
              "      <th>wastewater</th>\n",
              "      <th>cookingfuel</th>\n",
              "      <th>heatingfuel</th>\n",
              "      <th>waterheatingfuel</th>\n",
              "      <th>tenure_encoded</th>\n",
              "      <th>Material_encoded</th>\n",
              "      <th>cookingFuel_encoded</th>\n",
              "      <th>HeatingFuel_encoded</th>\n",
              "      <th>waterheatingfuel_encoded</th>\n",
              "    </tr>\n",
              "  </thead>\n",
              "  <tbody>\n",
              "    <tr>\n",
              "      <th>0</th>\n",
              "      <td>20009393015</td>\n",
              "      <td>OwnedEstateLand</td>\n",
              "      <td>2</td>\n",
              "      <td>40</td>\n",
              "      <td>3</td>\n",
              "      <td>WoodKesht</td>\n",
              "      <td>1</td>\n",
              "      <td>0</td>\n",
              "      <td>0</td>\n",
              "      <td>1</td>\n",
              "      <td>...</td>\n",
              "      <td>0</td>\n",
              "      <td>0</td>\n",
              "      <td>NaturalGas</td>\n",
              "      <td>NaturalGas</td>\n",
              "      <td>NaturalGas</td>\n",
              "      <td>1</td>\n",
              "      <td>6.0</td>\n",
              "      <td>1</td>\n",
              "      <td>1</td>\n",
              "      <td>1</td>\n",
              "    </tr>\n",
              "    <tr>\n",
              "      <th>1</th>\n",
              "      <td>20002385819</td>\n",
              "      <td>OwnedEstateLand</td>\n",
              "      <td>5</td>\n",
              "      <td>78</td>\n",
              "      <td>3</td>\n",
              "      <td>BrickWood</td>\n",
              "      <td>1</td>\n",
              "      <td>1</td>\n",
              "      <td>0</td>\n",
              "      <td>0</td>\n",
              "      <td>...</td>\n",
              "      <td>0</td>\n",
              "      <td>0</td>\n",
              "      <td>NaturalGas</td>\n",
              "      <td>NaturalGas</td>\n",
              "      <td>NaturalGas</td>\n",
              "      <td>1</td>\n",
              "      <td>2.0</td>\n",
              "      <td>1</td>\n",
              "      <td>1</td>\n",
              "      <td>1</td>\n",
              "    </tr>\n",
              "    <tr>\n",
              "      <th>2</th>\n",
              "      <td>20002385823</td>\n",
              "      <td>Free</td>\n",
              "      <td>3</td>\n",
              "      <td>45</td>\n",
              "      <td>3</td>\n",
              "      <td>KeshtGel</td>\n",
              "      <td>0</td>\n",
              "      <td>1</td>\n",
              "      <td>0</td>\n",
              "      <td>0</td>\n",
              "      <td>...</td>\n",
              "      <td>0</td>\n",
              "      <td>0</td>\n",
              "      <td>NaturalGas</td>\n",
              "      <td>NaturalGas</td>\n",
              "      <td>NaturalGas</td>\n",
              "      <td>6</td>\n",
              "      <td>7.0</td>\n",
              "      <td>1</td>\n",
              "      <td>1</td>\n",
              "      <td>1</td>\n",
              "    </tr>\n",
              "    <tr>\n",
              "      <th>3</th>\n",
              "      <td>20013397023</td>\n",
              "      <td>OwnedEstateLand</td>\n",
              "      <td>3</td>\n",
              "      <td>90</td>\n",
              "      <td>3</td>\n",
              "      <td>MetalBlock</td>\n",
              "      <td>1</td>\n",
              "      <td>0</td>\n",
              "      <td>0</td>\n",
              "      <td>0</td>\n",
              "      <td>...</td>\n",
              "      <td>0</td>\n",
              "      <td>0</td>\n",
              "      <td>NaturalGas</td>\n",
              "      <td>NaturalGas</td>\n",
              "      <td>NaturalGas</td>\n",
              "      <td>1</td>\n",
              "      <td>1.0</td>\n",
              "      <td>1</td>\n",
              "      <td>1</td>\n",
              "      <td>1</td>\n",
              "    </tr>\n",
              "    <tr>\n",
              "      <th>4</th>\n",
              "      <td>20013397029</td>\n",
              "      <td>OwnedEstateLand</td>\n",
              "      <td>4</td>\n",
              "      <td>80</td>\n",
              "      <td>3</td>\n",
              "      <td>MetalBlock</td>\n",
              "      <td>1</td>\n",
              "      <td>1</td>\n",
              "      <td>1</td>\n",
              "      <td>0</td>\n",
              "      <td>...</td>\n",
              "      <td>0</td>\n",
              "      <td>0</td>\n",
              "      <td>NaturalGas</td>\n",
              "      <td>NaturalGas</td>\n",
              "      <td>NaturalGas</td>\n",
              "      <td>1</td>\n",
              "      <td>1.0</td>\n",
              "      <td>1</td>\n",
              "      <td>1</td>\n",
              "      <td>1</td>\n",
              "    </tr>\n",
              "  </tbody>\n",
              "</table>\n",
              "<p>5 rows × 50 columns</p>\n",
              "</div>"
            ],
            "text/plain": [
              "       Address           tenure  room  space  construction    material  \\\n",
              "0  20009393015  OwnedEstateLand     2     40             3   WoodKesht   \n",
              "1  20002385819  OwnedEstateLand     5     78             3   BrickWood   \n",
              "2  20002385823             Free     3     45             3    KeshtGel   \n",
              "3  20013397023  OwnedEstateLand     3     90             3  MetalBlock   \n",
              "4  20013397029  OwnedEstateLand     4     80             3  MetalBlock   \n",
              "\n",
              "   vehicle  motorcycle  bicycle  radio  ...  split  wastewater  cookingfuel  \\\n",
              "0        1           0        0      1  ...      0           0   NaturalGas   \n",
              "1        1           1        0      0  ...      0           0   NaturalGas   \n",
              "2        0           1        0      0  ...      0           0   NaturalGas   \n",
              "3        1           0        0      0  ...      0           0   NaturalGas   \n",
              "4        1           1        1      0  ...      0           0   NaturalGas   \n",
              "\n",
              "   heatingfuel  waterheatingfuel  tenure_encoded  Material_encoded  \\\n",
              "0   NaturalGas        NaturalGas               1               6.0   \n",
              "1   NaturalGas        NaturalGas               1               2.0   \n",
              "2   NaturalGas        NaturalGas               6               7.0   \n",
              "3   NaturalGas        NaturalGas               1               1.0   \n",
              "4   NaturalGas        NaturalGas               1               1.0   \n",
              "\n",
              "   cookingFuel_encoded  HeatingFuel_encoded  waterheatingfuel_encoded  \n",
              "0                    1                    1                         1  \n",
              "1                    1                    1                         1  \n",
              "2                    1                    1                         1  \n",
              "3                    1                    1                         1  \n",
              "4                    1                    1                         1  \n",
              "\n",
              "[5 rows x 50 columns]"
            ]
          },
          "execution_count": 160,
          "metadata": {},
          "output_type": "execute_result"
        }
      ],
      "source": [
        "R99P2_cleaned.head()"
      ]
    },
    {
      "cell_type": "code",
      "execution_count": 161,
      "metadata": {},
      "outputs": [
        {
          "data": {
            "text/html": [
              "<div>\n",
              "<style scoped>\n",
              "    .dataframe tbody tr th:only-of-type {\n",
              "        vertical-align: middle;\n",
              "    }\n",
              "\n",
              "    .dataframe tbody tr th {\n",
              "        vertical-align: top;\n",
              "    }\n",
              "\n",
              "    .dataframe thead th {\n",
              "        text-align: right;\n",
              "    }\n",
              "</style>\n",
              "<table border=\"1\" class=\"dataframe\">\n",
              "  <thead>\n",
              "    <tr style=\"text-align: right;\">\n",
              "      <th></th>\n",
              "      <th>Address</th>\n",
              "      <th>room</th>\n",
              "      <th>space</th>\n",
              "      <th>construction</th>\n",
              "      <th>vehicle</th>\n",
              "      <th>motorcycle</th>\n",
              "      <th>bicycle</th>\n",
              "      <th>radio</th>\n",
              "      <th>radiotape</th>\n",
              "      <th>TVbw</th>\n",
              "      <th>...</th>\n",
              "      <th>centralcooling</th>\n",
              "      <th>centralheating</th>\n",
              "      <th>package</th>\n",
              "      <th>split</th>\n",
              "      <th>wastewater</th>\n",
              "      <th>tenure_encoded</th>\n",
              "      <th>Material_encoded</th>\n",
              "      <th>cookingFuel_encoded</th>\n",
              "      <th>HeatingFuel_encoded</th>\n",
              "      <th>waterheatingfuel_encoded</th>\n",
              "    </tr>\n",
              "  </thead>\n",
              "  <tbody>\n",
              "    <tr>\n",
              "      <th>0</th>\n",
              "      <td>20009393015</td>\n",
              "      <td>2</td>\n",
              "      <td>40</td>\n",
              "      <td>3</td>\n",
              "      <td>1</td>\n",
              "      <td>0</td>\n",
              "      <td>0</td>\n",
              "      <td>1</td>\n",
              "      <td>0</td>\n",
              "      <td>0</td>\n",
              "      <td>...</td>\n",
              "      <td>0</td>\n",
              "      <td>0</td>\n",
              "      <td>0</td>\n",
              "      <td>0</td>\n",
              "      <td>0</td>\n",
              "      <td>1</td>\n",
              "      <td>6.0</td>\n",
              "      <td>1</td>\n",
              "      <td>1</td>\n",
              "      <td>1</td>\n",
              "    </tr>\n",
              "    <tr>\n",
              "      <th>1</th>\n",
              "      <td>20002385819</td>\n",
              "      <td>5</td>\n",
              "      <td>78</td>\n",
              "      <td>3</td>\n",
              "      <td>1</td>\n",
              "      <td>1</td>\n",
              "      <td>0</td>\n",
              "      <td>0</td>\n",
              "      <td>0</td>\n",
              "      <td>0</td>\n",
              "      <td>...</td>\n",
              "      <td>0</td>\n",
              "      <td>0</td>\n",
              "      <td>0</td>\n",
              "      <td>0</td>\n",
              "      <td>0</td>\n",
              "      <td>1</td>\n",
              "      <td>2.0</td>\n",
              "      <td>1</td>\n",
              "      <td>1</td>\n",
              "      <td>1</td>\n",
              "    </tr>\n",
              "    <tr>\n",
              "      <th>2</th>\n",
              "      <td>20002385823</td>\n",
              "      <td>3</td>\n",
              "      <td>45</td>\n",
              "      <td>3</td>\n",
              "      <td>0</td>\n",
              "      <td>1</td>\n",
              "      <td>0</td>\n",
              "      <td>0</td>\n",
              "      <td>0</td>\n",
              "      <td>0</td>\n",
              "      <td>...</td>\n",
              "      <td>0</td>\n",
              "      <td>0</td>\n",
              "      <td>0</td>\n",
              "      <td>0</td>\n",
              "      <td>0</td>\n",
              "      <td>6</td>\n",
              "      <td>7.0</td>\n",
              "      <td>1</td>\n",
              "      <td>1</td>\n",
              "      <td>1</td>\n",
              "    </tr>\n",
              "    <tr>\n",
              "      <th>3</th>\n",
              "      <td>20013397023</td>\n",
              "      <td>3</td>\n",
              "      <td>90</td>\n",
              "      <td>3</td>\n",
              "      <td>1</td>\n",
              "      <td>0</td>\n",
              "      <td>0</td>\n",
              "      <td>0</td>\n",
              "      <td>0</td>\n",
              "      <td>0</td>\n",
              "      <td>...</td>\n",
              "      <td>0</td>\n",
              "      <td>0</td>\n",
              "      <td>0</td>\n",
              "      <td>0</td>\n",
              "      <td>0</td>\n",
              "      <td>1</td>\n",
              "      <td>1.0</td>\n",
              "      <td>1</td>\n",
              "      <td>1</td>\n",
              "      <td>1</td>\n",
              "    </tr>\n",
              "    <tr>\n",
              "      <th>4</th>\n",
              "      <td>20013397029</td>\n",
              "      <td>4</td>\n",
              "      <td>80</td>\n",
              "      <td>3</td>\n",
              "      <td>1</td>\n",
              "      <td>1</td>\n",
              "      <td>1</td>\n",
              "      <td>0</td>\n",
              "      <td>0</td>\n",
              "      <td>0</td>\n",
              "      <td>...</td>\n",
              "      <td>0</td>\n",
              "      <td>0</td>\n",
              "      <td>0</td>\n",
              "      <td>0</td>\n",
              "      <td>0</td>\n",
              "      <td>1</td>\n",
              "      <td>1.0</td>\n",
              "      <td>1</td>\n",
              "      <td>1</td>\n",
              "      <td>1</td>\n",
              "    </tr>\n",
              "    <tr>\n",
              "      <th>...</th>\n",
              "      <td>...</td>\n",
              "      <td>...</td>\n",
              "      <td>...</td>\n",
              "      <td>...</td>\n",
              "      <td>...</td>\n",
              "      <td>...</td>\n",
              "      <td>...</td>\n",
              "      <td>...</td>\n",
              "      <td>...</td>\n",
              "      <td>...</td>\n",
              "      <td>...</td>\n",
              "      <td>...</td>\n",
              "      <td>...</td>\n",
              "      <td>...</td>\n",
              "      <td>...</td>\n",
              "      <td>...</td>\n",
              "      <td>...</td>\n",
              "      <td>...</td>\n",
              "      <td>...</td>\n",
              "      <td>...</td>\n",
              "      <td>...</td>\n",
              "    </tr>\n",
              "    <tr>\n",
              "      <th>18246</th>\n",
              "      <td>23002703017</td>\n",
              "      <td>3</td>\n",
              "      <td>85</td>\n",
              "      <td>1</td>\n",
              "      <td>0</td>\n",
              "      <td>0</td>\n",
              "      <td>0</td>\n",
              "      <td>0</td>\n",
              "      <td>0</td>\n",
              "      <td>0</td>\n",
              "      <td>...</td>\n",
              "      <td>0</td>\n",
              "      <td>0</td>\n",
              "      <td>0</td>\n",
              "      <td>0</td>\n",
              "      <td>0</td>\n",
              "      <td>1</td>\n",
              "      <td>NaN</td>\n",
              "      <td>1</td>\n",
              "      <td>1</td>\n",
              "      <td>1</td>\n",
              "    </tr>\n",
              "    <tr>\n",
              "      <th>18247</th>\n",
              "      <td>23002703022</td>\n",
              "      <td>2</td>\n",
              "      <td>100</td>\n",
              "      <td>3</td>\n",
              "      <td>1</td>\n",
              "      <td>1</td>\n",
              "      <td>0</td>\n",
              "      <td>0</td>\n",
              "      <td>0</td>\n",
              "      <td>0</td>\n",
              "      <td>...</td>\n",
              "      <td>0</td>\n",
              "      <td>0</td>\n",
              "      <td>0</td>\n",
              "      <td>0</td>\n",
              "      <td>0</td>\n",
              "      <td>1</td>\n",
              "      <td>1.0</td>\n",
              "      <td>1</td>\n",
              "      <td>1</td>\n",
              "      <td>1</td>\n",
              "    </tr>\n",
              "    <tr>\n",
              "      <th>18248</th>\n",
              "      <td>23003707026</td>\n",
              "      <td>3</td>\n",
              "      <td>80</td>\n",
              "      <td>3</td>\n",
              "      <td>1</td>\n",
              "      <td>0</td>\n",
              "      <td>0</td>\n",
              "      <td>0</td>\n",
              "      <td>0</td>\n",
              "      <td>0</td>\n",
              "      <td>...</td>\n",
              "      <td>0</td>\n",
              "      <td>0</td>\n",
              "      <td>0</td>\n",
              "      <td>0</td>\n",
              "      <td>0</td>\n",
              "      <td>1</td>\n",
              "      <td>1.0</td>\n",
              "      <td>1</td>\n",
              "      <td>1</td>\n",
              "      <td>1</td>\n",
              "    </tr>\n",
              "    <tr>\n",
              "      <th>18249</th>\n",
              "      <td>23003707029</td>\n",
              "      <td>3</td>\n",
              "      <td>95</td>\n",
              "      <td>3</td>\n",
              "      <td>1</td>\n",
              "      <td>0</td>\n",
              "      <td>0</td>\n",
              "      <td>0</td>\n",
              "      <td>0</td>\n",
              "      <td>0</td>\n",
              "      <td>...</td>\n",
              "      <td>0</td>\n",
              "      <td>0</td>\n",
              "      <td>0</td>\n",
              "      <td>0</td>\n",
              "      <td>0</td>\n",
              "      <td>4</td>\n",
              "      <td>1.0</td>\n",
              "      <td>1</td>\n",
              "      <td>1</td>\n",
              "      <td>1</td>\n",
              "    </tr>\n",
              "    <tr>\n",
              "      <th>18250</th>\n",
              "      <td>23002703026</td>\n",
              "      <td>4</td>\n",
              "      <td>110</td>\n",
              "      <td>1</td>\n",
              "      <td>0</td>\n",
              "      <td>0</td>\n",
              "      <td>0</td>\n",
              "      <td>0</td>\n",
              "      <td>0</td>\n",
              "      <td>0</td>\n",
              "      <td>...</td>\n",
              "      <td>0</td>\n",
              "      <td>0</td>\n",
              "      <td>0</td>\n",
              "      <td>0</td>\n",
              "      <td>0</td>\n",
              "      <td>1</td>\n",
              "      <td>NaN</td>\n",
              "      <td>1</td>\n",
              "      <td>1</td>\n",
              "      <td>1</td>\n",
              "    </tr>\n",
              "  </tbody>\n",
              "</table>\n",
              "<p>17597 rows × 45 columns</p>\n",
              "</div>"
            ],
            "text/plain": [
              "           Address  room  space  construction  vehicle  motorcycle  bicycle  \\\n",
              "0      20009393015     2     40             3        1           0        0   \n",
              "1      20002385819     5     78             3        1           1        0   \n",
              "2      20002385823     3     45             3        0           1        0   \n",
              "3      20013397023     3     90             3        1           0        0   \n",
              "4      20013397029     4     80             3        1           1        1   \n",
              "...            ...   ...    ...           ...      ...         ...      ...   \n",
              "18246  23002703017     3     85             1        0           0        0   \n",
              "18247  23002703022     2    100             3        1           1        0   \n",
              "18248  23003707026     3     80             3        1           0        0   \n",
              "18249  23003707029     3     95             3        1           0        0   \n",
              "18250  23002703026     4    110             1        0           0        0   \n",
              "\n",
              "       radio  radiotape  TVbw  ...  centralcooling  centralheating  package  \\\n",
              "0          1          0     0  ...               0               0        0   \n",
              "1          0          0     0  ...               0               0        0   \n",
              "2          0          0     0  ...               0               0        0   \n",
              "3          0          0     0  ...               0               0        0   \n",
              "4          0          0     0  ...               0               0        0   \n",
              "...      ...        ...   ...  ...             ...             ...      ...   \n",
              "18246      0          0     0  ...               0               0        0   \n",
              "18247      0          0     0  ...               0               0        0   \n",
              "18248      0          0     0  ...               0               0        0   \n",
              "18249      0          0     0  ...               0               0        0   \n",
              "18250      0          0     0  ...               0               0        0   \n",
              "\n",
              "       split  wastewater  tenure_encoded  Material_encoded  \\\n",
              "0          0           0               1               6.0   \n",
              "1          0           0               1               2.0   \n",
              "2          0           0               6               7.0   \n",
              "3          0           0               1               1.0   \n",
              "4          0           0               1               1.0   \n",
              "...      ...         ...             ...               ...   \n",
              "18246      0           0               1               NaN   \n",
              "18247      0           0               1               1.0   \n",
              "18248      0           0               1               1.0   \n",
              "18249      0           0               4               1.0   \n",
              "18250      0           0               1               NaN   \n",
              "\n",
              "       cookingFuel_encoded  HeatingFuel_encoded  waterheatingfuel_encoded  \n",
              "0                        1                    1                         1  \n",
              "1                        1                    1                         1  \n",
              "2                        1                    1                         1  \n",
              "3                        1                    1                         1  \n",
              "4                        1                    1                         1  \n",
              "...                    ...                  ...                       ...  \n",
              "18246                    1                    1                         1  \n",
              "18247                    1                    1                         1  \n",
              "18248                    1                    1                         1  \n",
              "18249                    1                    1                         1  \n",
              "18250                    1                    1                         1  \n",
              "\n",
              "[17597 rows x 45 columns]"
            ]
          },
          "execution_count": 161,
          "metadata": {},
          "output_type": "execute_result"
        }
      ],
      "source": [
        "R99P2_cleaned.drop(columns=['tenure', 'material', 'cookingfuel', 'heatingfuel', 'waterheatingfuel'])"
      ]
    },
    {
      "cell_type": "code",
      "execution_count": 162,
      "metadata": {},
      "outputs": [
        {
          "name": "stdout",
          "output_type": "stream",
          "text": [
            "مقادیر یونیک در ستون 'tenure_encoded':\n",
            "[1 6 5 3 4 2 7]\n",
            "--------------------------------------------------\n",
            "مقادیر یونیک در ستون 'Material_encoded':\n",
            "[ 6.  2.  7.  1. nan  4.  3.  8.  5.]\n",
            "--------------------------------------------------\n",
            "مقادیر یونیک در ستون 'cookingFuel_encoded':\n",
            "[1 2 3 4 5 6]\n",
            "--------------------------------------------------\n",
            "مقادیر یونیک در ستون 'HeatingFuel_encoded':\n",
            "[1 2 3 4 5 6]\n",
            "--------------------------------------------------\n",
            "مقادیر یونیک در ستون 'waterheatingfuel_encoded':\n",
            "[1 2 3 4 5 6 7 8]\n",
            "--------------------------------------------------\n"
          ]
        }
      ],
      "source": [
        "# لیست ستون‌های دسته‌بندی‌شده\n",
        "categorical_columns = ['tenure_encoded', 'Material_encoded', 'cookingFuel_encoded', 'HeatingFuel_encoded', 'waterheatingfuel_encoded']\n",
        "\n",
        "# حلقه برای مشاهده داده‌های یونیک در هر ستون\n",
        "for column in categorical_columns:\n",
        "    unique_values = R99P2_cleaned[column].unique()\n",
        "    print(f\"مقادیر یونیک در ستون '{column}':\")\n",
        "    print(unique_values)\n",
        "    print(\"-\" * 50)  # جداکننده برای خوانایی بیشتر"
      ]
    },
    {
      "cell_type": "code",
      "execution_count": 163,
      "metadata": {},
      "outputs": [],
      "source": [
        "R99P2_cleaned = R99P2_cleaned.apply(pd.to_numeric, errors='coerce')"
      ]
    },
    {
      "cell_type": "code",
      "execution_count": 164,
      "metadata": {},
      "outputs": [],
      "source": [
        "df_encoded6 = R99P2_cleaned.copy()"
      ]
    },
    {
      "cell_type": "code",
      "execution_count": 165,
      "metadata": {},
      "outputs": [
        {
          "name": "stdout",
          "output_type": "stream",
          "text": [
            "Accuracy: 0.9937588963100843\n",
            "       Address  tenure  room  space  construction  material  vehicle  \\\n",
            "0  20009393015     NaN     2     40             3       NaN        1   \n",
            "1  20002385819     NaN     5     78             3       NaN        1   \n",
            "2  20002385823     NaN     3     45             3       NaN        0   \n",
            "3  20013397023     NaN     3     90             3       NaN        1   \n",
            "4  20013397029     NaN     4     80             3       NaN        1   \n",
            "\n",
            "   motorcycle  bicycle  radio  ...  split  wastewater  cookingfuel  \\\n",
            "0           0        0      1  ...      0           0          NaN   \n",
            "1           1        0      0  ...      0           0          NaN   \n",
            "2           1        0      0  ...      0           0          NaN   \n",
            "3           0        0      0  ...      0           0          NaN   \n",
            "4           1        1      0  ...      0           0          NaN   \n",
            "\n",
            "   heatingfuel  waterheatingfuel  tenure_encoded  Material_encoded  \\\n",
            "0          NaN               NaN               1               6.0   \n",
            "1          NaN               NaN               1               2.0   \n",
            "2          NaN               NaN               6               7.0   \n",
            "3          NaN               NaN               1               1.0   \n",
            "4          NaN               NaN               1               1.0   \n",
            "\n",
            "   cookingFuel_encoded  HeatingFuel_encoded  waterheatingfuel_encoded  \n",
            "0                    1                    1                         1  \n",
            "1                    1                    1                         1  \n",
            "2                    1                    1                         1  \n",
            "3                    1                    1                         1  \n",
            "4                    1                    1                         1  \n",
            "\n",
            "[5 rows x 50 columns]\n"
          ]
        }
      ],
      "source": [
        "\n",
        "df_not_null = df_encoded6[df_encoded6['Material_encoded'].notnull()]\n",
        "df_null = df_encoded6[df_encoded6['Material_encoded'].isnull()]\n",
        "\n",
        "\n",
        "X = df_not_null.drop(['Material_encoded'], axis=1)\n",
        "y = df_not_null['Material_encoded']\n",
        "\n",
        "\n",
        "X_train, X_test, y_train, y_test = train_test_split(X, y, test_size=0.2, random_state=42)\n",
        "\n",
        "\n",
        "model = RandomForestClassifier()\n",
        "\n",
        "\n",
        "model.fit(X_train, y_train)\n",
        "\n",
        "\n",
        "y_pred = model.predict(X_test)\n",
        "\n",
        "\n",
        "\n",
        "\n",
        "accuracy = accuracy_score(y_test_numeric, y_pred_numeric)\n",
        "print(f'Accuracy: {accuracy}')\n",
        "\n",
        "\n",
        "\n",
        "\n",
        "\n",
        "X_null = df_null.drop(['Material_encoded'], axis=1)\n",
        "\n",
        "\n",
        "df_null.loc[:, 'Material_encoded'] = model.predict(X_null)\n",
        "\n",
        "\n",
        "R99P2_filled = pd.concat([df_not_null, df_null])\n",
        "\n",
        "\n",
        "R99P2_filled.sort_index(inplace=True)\n",
        "\n",
        "\n",
        "print(R99P2_filled.head())"
      ]
    },
    {
      "cell_type": "markdown",
      "metadata": {},
      "source": [
        "شیت نهایی R99P2_filled"
      ]
    },
    {
      "cell_type": "markdown",
      "metadata": {},
      "source": [
        "بررسی شیت P3S01"
      ]
    },
    {
      "cell_type": "code",
      "execution_count": 166,
      "metadata": {},
      "outputs": [
        {
          "data": {
            "text/plain": [
              "Address       0.000000\n",
              "code          0.000000\n",
              "purchased     0.000000\n",
              "gram         76.189482\n",
              "kilogram     24.044922\n",
              "price         9.444614\n",
              "value         0.000201\n",
              "dtype: float64"
            ]
          },
          "execution_count": 166,
          "metadata": {},
          "output_type": "execute_result"
        }
      ],
      "source": [
        "missing_percentage = R99P3S01.isnull().sum() / len(R99P3S01) * 100\n",
        "missing_percentage.sort_values(ascending=False)  \n",
        "missing_percentage"
      ]
    },
    {
      "cell_type": "code",
      "execution_count": 167,
      "metadata": {},
      "outputs": [],
      "source": [
        "R99P3S01_cleaned = R99P3S01.dropna(subset=['price', 'value'])"
      ]
    },
    {
      "cell_type": "code",
      "execution_count": 168,
      "metadata": {},
      "outputs": [
        {
          "name": "stderr",
          "output_type": "stream",
          "text": [
            "/var/folders/ym/18chwp3114b20r5myyx5bf5w0000gn/T/ipykernel_1813/4079076533.py:1: SettingWithCopyWarning: \n",
            "A value is trying to be set on a copy of a slice from a DataFrame.\n",
            "Try using .loc[row_indexer,col_indexer] = value instead\n",
            "\n",
            "See the caveats in the documentation: https://pandas.pydata.org/pandas-docs/stable/user_guide/indexing.html#returning-a-view-versus-a-copy\n",
            "  R99P3S01_cleaned['calculated_amount'] = R99P3S01_cleaned['value'] / R99P3S01_cleaned['price']\n",
            "/var/folders/ym/18chwp3114b20r5myyx5bf5w0000gn/T/ipykernel_1813/4079076533.py:4: SettingWithCopyWarning: \n",
            "A value is trying to be set on a copy of a slice from a DataFrame.\n",
            "Try using .loc[row_indexer,col_indexer] = value instead\n",
            "\n",
            "See the caveats in the documentation: https://pandas.pydata.org/pandas-docs/stable/user_guide/indexing.html#returning-a-view-versus-a-copy\n",
            "  R99P3S01_cleaned['calculated_kg'] = R99P3S01_cleaned['calculated_amount'].apply(np.floor)\n",
            "/var/folders/ym/18chwp3114b20r5myyx5bf5w0000gn/T/ipykernel_1813/4079076533.py:5: SettingWithCopyWarning: \n",
            "A value is trying to be set on a copy of a slice from a DataFrame.\n",
            "Try using .loc[row_indexer,col_indexer] = value instead\n",
            "\n",
            "See the caveats in the documentation: https://pandas.pydata.org/pandas-docs/stable/user_guide/indexing.html#returning-a-view-versus-a-copy\n",
            "  R99P3S01_cleaned['calculated_gram'] = (R99P3S01_cleaned['calculated_amount'] % 1) * 1000\n",
            "/var/folders/ym/18chwp3114b20r5myyx5bf5w0000gn/T/ipykernel_1813/4079076533.py:8: SettingWithCopyWarning: \n",
            "A value is trying to be set on a copy of a slice from a DataFrame.\n",
            "Try using .loc[row_indexer,col_indexer] = value instead\n",
            "\n",
            "See the caveats in the documentation: https://pandas.pydata.org/pandas-docs/stable/user_guide/indexing.html#returning-a-view-versus-a-copy\n",
            "  R99P3S01_cleaned['kilogram'] = R99P3S01_cleaned['kilogram'].fillna(R99P3S01_cleaned['calculated_kg'])\n",
            "/var/folders/ym/18chwp3114b20r5myyx5bf5w0000gn/T/ipykernel_1813/4079076533.py:9: SettingWithCopyWarning: \n",
            "A value is trying to be set on a copy of a slice from a DataFrame.\n",
            "Try using .loc[row_indexer,col_indexer] = value instead\n",
            "\n",
            "See the caveats in the documentation: https://pandas.pydata.org/pandas-docs/stable/user_guide/indexing.html#returning-a-view-versus-a-copy\n",
            "  R99P3S01_cleaned['gram'] = R99P3S01_cleaned['gram'].fillna(R99P3S01_cleaned['calculated_gram'])\n"
          ]
        }
      ],
      "source": [
        "\n",
        "R99P3S01_cleaned['calculated_amount'] = R99P3S01_cleaned['value'] / R99P3S01_cleaned['price']\n",
        "\n",
        "\n",
        "R99P3S01_cleaned['calculated_kg'] = R99P3S01_cleaned['calculated_amount'].apply(np.floor)\n",
        "R99P3S01_cleaned['calculated_gram'] = (R99P3S01_cleaned['calculated_amount'] % 1) * 1000\n",
        "\n",
        "\n",
        "R99P3S01_cleaned['kilogram'] = R99P3S01_cleaned['kilogram'].fillna(R99P3S01_cleaned['calculated_kg'])\n",
        "R99P3S01_cleaned['gram'] = R99P3S01_cleaned['gram'].fillna(R99P3S01_cleaned['calculated_gram'])\n",
        "\n"
      ]
    },
    {
      "cell_type": "code",
      "execution_count": 169,
      "metadata": {},
      "outputs": [
        {
          "data": {
            "text/plain": [
              "Address              0.0\n",
              "code                 0.0\n",
              "purchased            0.0\n",
              "gram                 0.0\n",
              "kilogram             0.0\n",
              "price                0.0\n",
              "value                0.0\n",
              "calculated_amount    0.0\n",
              "calculated_kg        0.0\n",
              "calculated_gram      0.0\n",
              "dtype: float64"
            ]
          },
          "execution_count": 169,
          "metadata": {},
          "output_type": "execute_result"
        }
      ],
      "source": [
        "missing_percentage = R99P3S01_cleaned.isnull().sum() / len(R99P3S01_cleaned) * 100\n",
        "missing_percentage.sort_values(ascending=False)  \n",
        "missing_percentage"
      ]
    },
    {
      "cell_type": "code",
      "execution_count": 171,
      "metadata": {},
      "outputs": [
        {
          "name": "stdout",
          "output_type": "stream",
          "text": [
            "ستون‌های عددی:\n",
            "Index(['Address', 'code', 'purchased', 'kilogram', 'price', 'value',\n",
            "       'calculated_amount', 'calculated_kg', 'calculated_gram'],\n",
            "      dtype='object')\n"
          ]
        }
      ],
      "source": [
        "\n",
        "numerical_columns = R99P3S01_cleaned.select_dtypes(include=['number']).columns\n",
        "print(\"ستون‌های عددی:\")\n",
        "print(numerical_columns)"
      ]
    },
    {
      "cell_type": "markdown",
      "metadata": {},
      "source": []
    },
    {
      "cell_type": "markdown",
      "metadata": {},
      "source": [
        "بررسی شیت P3S02"
      ]
    },
    {
      "cell_type": "code",
      "execution_count": 173,
      "metadata": {},
      "outputs": [
        {
          "data": {
            "text/plain": [
              "Address        0.000000\n",
              "code           0.000000\n",
              "purchased      0.000000\n",
              "gram         100.000000\n",
              "kilogram      20.728368\n",
              "price         20.728368\n",
              "value          0.000000\n",
              "dtype: float64"
            ]
          },
          "execution_count": 173,
          "metadata": {},
          "output_type": "execute_result"
        }
      ],
      "source": [
        "missing_percentage = R99P3S02.isnull().sum() / len(R99P3S02) * 100\n",
        "missing_percentage.sort_values(ascending=False)  \n",
        "missing_percentage"
      ]
    },
    {
      "cell_type": "code",
      "execution_count": 174,
      "metadata": {},
      "outputs": [],
      "source": [
        "R99P3S02_cleaned = R99P3S02.dropna(subset=['price'])"
      ]
    },
    {
      "cell_type": "code",
      "execution_count": 175,
      "metadata": {},
      "outputs": [
        {
          "name": "stderr",
          "output_type": "stream",
          "text": [
            "/var/folders/ym/18chwp3114b20r5myyx5bf5w0000gn/T/ipykernel_1813/1457424044.py:1: SettingWithCopyWarning: \n",
            "A value is trying to be set on a copy of a slice from a DataFrame.\n",
            "Try using .loc[row_indexer,col_indexer] = value instead\n",
            "\n",
            "See the caveats in the documentation: https://pandas.pydata.org/pandas-docs/stable/user_guide/indexing.html#returning-a-view-versus-a-copy\n",
            "  R99P3S02_cleaned['calculated_amount'] = R99P3S02_cleaned['value'] / R99P3S02_cleaned['price']\n",
            "/var/folders/ym/18chwp3114b20r5myyx5bf5w0000gn/T/ipykernel_1813/1457424044.py:4: SettingWithCopyWarning: \n",
            "A value is trying to be set on a copy of a slice from a DataFrame.\n",
            "Try using .loc[row_indexer,col_indexer] = value instead\n",
            "\n",
            "See the caveats in the documentation: https://pandas.pydata.org/pandas-docs/stable/user_guide/indexing.html#returning-a-view-versus-a-copy\n",
            "  R99P3S02_cleaned['calculated_kg'] = R99P3S02_cleaned['calculated_amount'].apply(np.floor)\n",
            "/var/folders/ym/18chwp3114b20r5myyx5bf5w0000gn/T/ipykernel_1813/1457424044.py:5: SettingWithCopyWarning: \n",
            "A value is trying to be set on a copy of a slice from a DataFrame.\n",
            "Try using .loc[row_indexer,col_indexer] = value instead\n",
            "\n",
            "See the caveats in the documentation: https://pandas.pydata.org/pandas-docs/stable/user_guide/indexing.html#returning-a-view-versus-a-copy\n",
            "  R99P3S02_cleaned['calculated_gram'] = (R99P3S02_cleaned['calculated_amount'] % 1) * 1000\n",
            "/var/folders/ym/18chwp3114b20r5myyx5bf5w0000gn/T/ipykernel_1813/1457424044.py:8: SettingWithCopyWarning: \n",
            "A value is trying to be set on a copy of a slice from a DataFrame.\n",
            "Try using .loc[row_indexer,col_indexer] = value instead\n",
            "\n",
            "See the caveats in the documentation: https://pandas.pydata.org/pandas-docs/stable/user_guide/indexing.html#returning-a-view-versus-a-copy\n",
            "  R99P3S02_cleaned['kilogram'] = R99P3S02_cleaned['kilogram'].fillna(R99P3S02_cleaned['calculated_kg'])\n",
            "/var/folders/ym/18chwp3114b20r5myyx5bf5w0000gn/T/ipykernel_1813/1457424044.py:9: SettingWithCopyWarning: \n",
            "A value is trying to be set on a copy of a slice from a DataFrame.\n",
            "Try using .loc[row_indexer,col_indexer] = value instead\n",
            "\n",
            "See the caveats in the documentation: https://pandas.pydata.org/pandas-docs/stable/user_guide/indexing.html#returning-a-view-versus-a-copy\n",
            "  R99P3S02_cleaned['gram'] = R99P3S02_cleaned['gram'].fillna(R99P3S02_cleaned['calculated_gram'])\n"
          ]
        }
      ],
      "source": [
        "\n",
        "R99P3S02_cleaned['calculated_amount'] = R99P3S02_cleaned['value'] / R99P3S02_cleaned['price']\n",
        "\n",
        "\n",
        "R99P3S02_cleaned['calculated_kg'] = R99P3S02_cleaned['calculated_amount'].apply(np.floor)\n",
        "R99P3S02_cleaned['calculated_gram'] = (R99P3S02_cleaned['calculated_amount'] % 1) * 1000\n",
        "\n",
        "\n",
        "R99P3S02_cleaned['kilogram'] = R99P3S02_cleaned['kilogram'].fillna(R99P3S02_cleaned['calculated_kg'])\n",
        "R99P3S02_cleaned['gram'] = R99P3S02_cleaned['gram'].fillna(R99P3S02_cleaned['calculated_gram'])\n"
      ]
    },
    {
      "cell_type": "code",
      "execution_count": 176,
      "metadata": {},
      "outputs": [
        {
          "data": {
            "text/plain": [
              "Address              0.0\n",
              "code                 0.0\n",
              "purchased            0.0\n",
              "gram                 0.0\n",
              "kilogram             0.0\n",
              "price                0.0\n",
              "value                0.0\n",
              "calculated_amount    0.0\n",
              "calculated_kg        0.0\n",
              "calculated_gram      0.0\n",
              "dtype: float64"
            ]
          },
          "execution_count": 176,
          "metadata": {},
          "output_type": "execute_result"
        }
      ],
      "source": [
        "missing_percentage = R99P3S02_cleaned.isnull().sum() / len(R99P3S02_cleaned) * 100\n",
        "missing_percentage.sort_values(ascending=False)  \n",
        "missing_percentage"
      ]
    },
    {
      "cell_type": "markdown",
      "metadata": {},
      "source": [
        "بررسی شیت P3S03"
      ]
    },
    {
      "cell_type": "code",
      "execution_count": 177,
      "metadata": {},
      "outputs": [
        {
          "data": {
            "text/plain": [
              "Address      0.0\n",
              "code         0.0\n",
              "purchased    0.0\n",
              "value        0.0\n",
              "dtype: float64"
            ]
          },
          "execution_count": 177,
          "metadata": {},
          "output_type": "execute_result"
        }
      ],
      "source": [
        "missing_percentage = R99P3S03.isnull().sum() / len(R99P3S03) * 100\n",
        "missing_percentage.sort_values(ascending=False)  \n",
        "missing_percentage"
      ]
    },
    {
      "cell_type": "code",
      "execution_count": 178,
      "metadata": {},
      "outputs": [
        {
          "name": "stdout",
          "output_type": "stream",
          "text": [
            "ستون‌های دسته‌بندی‌شده:\n",
            "Index([], dtype='object')\n"
          ]
        }
      ],
      "source": [
        "categorical_columns = R99P3S03.select_dtypes(include=['object']).columns\n",
        "print(\"ستون‌های دسته‌بندی‌شده:\")\n",
        "print(categorical_columns)\n"
      ]
    },
    {
      "cell_type": "code",
      "execution_count": 179,
      "metadata": {},
      "outputs": [
        {
          "name": "stdout",
          "output_type": "stream",
          "text": [
            "0\n"
          ]
        }
      ],
      "source": [
        "duplicates = R99P3S03.duplicated().sum()\n",
        "print(duplicates)"
      ]
    },
    {
      "cell_type": "code",
      "execution_count": 180,
      "metadata": {},
      "outputs": [
        {
          "name": "stdout",
          "output_type": "stream",
          "text": [
            "Index([], dtype='object')\n"
          ]
        }
      ],
      "source": [
        "categorical_columns = R99P3S03.select_dtypes(include=['object']).columns\n",
        "print(categorical_columns)"
      ]
    },
    {
      "cell_type": "code",
      "execution_count": 181,
      "metadata": {},
      "outputs": [
        {
          "name": "stdout",
          "output_type": "stream",
          "text": [
            "ستون‌های عددی:\n",
            "Index(['Address', 'code', 'purchased', 'value'], dtype='object')\n"
          ]
        }
      ],
      "source": [
        "numerical_columns = R99P3S03.select_dtypes(include=['number']).columns\n",
        "print(\"ستون‌های عددی:\")\n",
        "print(numerical_columns)"
      ]
    },
    {
      "cell_type": "code",
      "execution_count": 182,
      "metadata": {},
      "outputs": [
        {
          "name": "stdout",
          "output_type": "stream",
          "text": [
            "تعداد داده‌های پرت در ستون code: 4013\n",
            "تعداد داده‌های پرت در ستون purchased: 160\n",
            "تعداد داده‌های پرت در ستون value: 1039\n"
          ]
        }
      ],
      "source": [
        "# بررسی داده‌های پرت بر اساس IQR\n",
        "for column in numerical_columns:\n",
        "    Q1 = R99P3S03[column].quantile(0.25)\n",
        "    Q3 = R99P3S03[column].quantile(0.75)\n",
        "    IQR = Q3 - Q1\n",
        "    outliers = ((R99P3S03[column] < (Q1 - 1.5 * IQR)) | (R99P3S03[column] > (Q3 + 1.5 * IQR))).sum()\n",
        "    if outliers > 0:\n",
        "        print(f\"تعداد داده‌های پرت در ستون {column}: {outliers}\")\n"
      ]
    },
    {
      "cell_type": "markdown",
      "metadata": {},
      "source": [
        "اگر اینجا بررسی بشه ایا این داده پرت به نسبت شهر هست یا نه خیلی خوبه"
      ]
    },
    {
      "cell_type": "code",
      "execution_count": null,
      "metadata": {},
      "outputs": [],
      "source": []
    },
    {
      "cell_type": "markdown",
      "metadata": {},
      "source": [
        "بررسی شیت P3S04"
      ]
    },
    {
      "cell_type": "code",
      "execution_count": 183,
      "metadata": {},
      "outputs": [
        {
          "data": {
            "text/plain": [
              "Address       0.000000\n",
              "code          0.000000\n",
              "mortgage     99.087000\n",
              "purchased    23.303587\n",
              "value         0.000000\n",
              "dtype: float64"
            ]
          },
          "execution_count": 183,
          "metadata": {},
          "output_type": "execute_result"
        }
      ],
      "source": [
        "missing_percentage = R99P3S04.isnull().sum() / len(R99P3S04) * 100\n",
        "missing_percentage.sort_values(ascending=False)  \n",
        "missing_percentage"
      ]
    },
    {
      "cell_type": "code",
      "execution_count": 184,
      "metadata": {},
      "outputs": [],
      "source": [
        "R99P3S04_cleaned = R99P3S04.dropna(subset=['mortgage'])"
      ]
    },
    {
      "cell_type": "code",
      "execution_count": 185,
      "metadata": {},
      "outputs": [
        {
          "data": {
            "text/plain": [
              "Address      0.0\n",
              "code         0.0\n",
              "mortgage     0.0\n",
              "purchased    0.0\n",
              "value        0.0\n",
              "dtype: float64"
            ]
          },
          "execution_count": 185,
          "metadata": {},
          "output_type": "execute_result"
        }
      ],
      "source": [
        "missing_percentage = R99P3S04_cleaned.isnull().sum() / len(R99P3S04_cleaned) * 100\n",
        "missing_percentage.sort_values(ascending=False)  \n",
        "missing_percentage"
      ]
    },
    {
      "cell_type": "code",
      "execution_count": 186,
      "metadata": {},
      "outputs": [
        {
          "name": "stdout",
          "output_type": "stream",
          "text": [
            "0\n"
          ]
        }
      ],
      "source": [
        "duplicates = R99P3S04_cleaned.duplicated().sum()\n",
        "print(duplicates)"
      ]
    },
    {
      "cell_type": "code",
      "execution_count": 187,
      "metadata": {},
      "outputs": [
        {
          "name": "stdout",
          "output_type": "stream",
          "text": [
            "ستون‌های دسته‌بندی‌شده:\n",
            "Index(['purchased'], dtype='object')\n"
          ]
        }
      ],
      "source": [
        "categorical_columns = R99P3S04_cleaned.select_dtypes(include=['object']).columns\n",
        "print(\"ستون‌های دسته‌بندی‌شده:\")\n",
        "print(categorical_columns)"
      ]
    },
    {
      "cell_type": "code",
      "execution_count": 188,
      "metadata": {},
      "outputs": [
        {
          "name": "stdout",
          "output_type": "stream",
          "text": [
            "ستون‌های عددی:\n",
            "Index(['Address', 'code', 'mortgage', 'value'], dtype='object')\n"
          ]
        }
      ],
      "source": [
        "numerical_columns = R99P3S04_cleaned.select_dtypes(include=['number']).columns\n",
        "print(\"ستون‌های عددی:\")\n",
        "print(numerical_columns)"
      ]
    },
    {
      "cell_type": "code",
      "execution_count": 189,
      "metadata": {},
      "outputs": [
        {
          "name": "stdout",
          "output_type": "stream",
          "text": [
            "تعداد داده‌های پرت در ستون mortgage: 40\n",
            "تعداد داده‌های پرت در ستون value: 44\n"
          ]
        }
      ],
      "source": [
        "# بررسی داده‌های پرت بر اساس IQR\n",
        "for column in numerical_columns:\n",
        "    Q1 = R99P3S04_cleaned[column].quantile(0.25)\n",
        "    Q3 = R99P3S04_cleaned[column].quantile(0.75)\n",
        "    IQR = Q3 - Q1\n",
        "    outliers = ((R99P3S04_cleaned[column] < (Q1 - 1.5 * IQR)) | (R99P3S04_cleaned[column] > (Q3 + 1.5 * IQR))).sum()\n",
        "    if outliers > 0:\n",
        "        print(f\"تعداد داده‌های پرت در ستون {column}: {outliers}\")\n"
      ]
    },
    {
      "cell_type": "markdown",
      "metadata": {},
      "source": [
        "بررسی شیت P3S05"
      ]
    },
    {
      "cell_type": "code",
      "execution_count": 190,
      "metadata": {},
      "outputs": [
        {
          "data": {
            "text/plain": [
              "Address      0.0\n",
              "code         0.0\n",
              "purchased    0.0\n",
              "value        0.0\n",
              "dtype: float64"
            ]
          },
          "execution_count": 190,
          "metadata": {},
          "output_type": "execute_result"
        }
      ],
      "source": [
        "missing_percentage = R99P3S05.isnull().sum() / len(R99P3S05) * 100\n",
        "missing_percentage.sort_values(ascending=False)  \n",
        "missing_percentage"
      ]
    },
    {
      "cell_type": "code",
      "execution_count": 191,
      "metadata": {},
      "outputs": [
        {
          "data": {
            "text/plain": [
              "np.int64(0)"
            ]
          },
          "execution_count": 191,
          "metadata": {},
          "output_type": "execute_result"
        }
      ],
      "source": [
        "duplicates = R99P3S05.duplicated().sum()\n",
        "duplicates\n",
        "\n"
      ]
    },
    {
      "cell_type": "code",
      "execution_count": 192,
      "metadata": {},
      "outputs": [
        {
          "name": "stdout",
          "output_type": "stream",
          "text": [
            "ستون‌های دسته‌بندی‌شده:\n",
            "Index([], dtype='object')\n"
          ]
        }
      ],
      "source": [
        "\n",
        "categorical_columns = R99P3S05.select_dtypes(include=['object']).columns\n",
        "print(\"ستون‌های دسته‌بندی‌شده:\")\n",
        "print(categorical_columns)\n",
        "\n",
        "\n"
      ]
    },
    {
      "cell_type": "code",
      "execution_count": 193,
      "metadata": {},
      "outputs": [
        {
          "name": "stdout",
          "output_type": "stream",
          "text": [
            "ستون‌های عددی:\n",
            "Index(['Address', 'code', 'purchased', 'value'], dtype='object')\n",
            "تعداد داده‌های پرت در ستون code: 27292\n",
            "تعداد داده‌های پرت در ستون purchased: 1029\n",
            "تعداد داده‌های پرت در ستون value: 6567\n"
          ]
        }
      ],
      "source": [
        "\n",
        "\n",
        "numerical_columns = R99P3S05.select_dtypes(include=['number']).columns\n",
        "print(\"ستون‌های عددی:\")\n",
        "print(numerical_columns)\n",
        "# بررسی داده‌های پرت بر اساس IQR\n",
        "for column in numerical_columns:\n",
        "    Q1 = R99P3S05[column].quantile(0.25)\n",
        "    Q3 = R99P3S05[column].quantile(0.75)\n",
        "    IQR = Q3 - Q1\n",
        "    outliers = ((R99P3S05[column] < (Q1 - 1.5 * IQR)) | (R99P3S05[column] > (Q3 + 1.5 * IQR))).sum()\n",
        "    if outliers > 0:\n",
        "        print(f\"تعداد داده‌های پرت در ستون {column}: {outliers}\")\n"
      ]
    },
    {
      "cell_type": "markdown",
      "metadata": {},
      "source": [
        "P3S06"
      ]
    },
    {
      "cell_type": "code",
      "execution_count": 194,
      "metadata": {},
      "outputs": [
        {
          "data": {
            "text/plain": [
              "Address      0.0\n",
              "code         0.0\n",
              "purchased    0.0\n",
              "value        0.0\n",
              "dtype: float64"
            ]
          },
          "execution_count": 194,
          "metadata": {},
          "output_type": "execute_result"
        }
      ],
      "source": [
        "missing_percentage = R99P3S06.isnull().sum() / len(R99P3S06) * 100\n",
        "missing_percentage.sort_values(ascending=False)  \n",
        "missing_percentage"
      ]
    },
    {
      "cell_type": "code",
      "execution_count": 195,
      "metadata": {},
      "outputs": [
        {
          "name": "stdout",
          "output_type": "stream",
          "text": [
            "0\n",
            "ستون‌های دسته‌بندی‌شده:\n",
            "Index([], dtype='object')\n",
            "ستون‌های عددی:\n",
            "Index(['Address', 'code', 'purchased', 'value'], dtype='object')\n",
            "تعداد داده‌های پرت در ستون code: 13\n",
            "تعداد داده‌های پرت در ستون purchased: 2736\n",
            "تعداد داده‌های پرت در ستون value: 3862\n"
          ]
        }
      ],
      "source": [
        "duplicates = R99P3S06.duplicated().sum()\n",
        "print(duplicates)\n",
        "categorical_columns = R99P3S06.select_dtypes(include=['object']).columns\n",
        "print(\"ستون‌های دسته‌بندی‌شده:\")\n",
        "print(categorical_columns)\n",
        "\n",
        "numerical_columns = R99P3S06.select_dtypes(include=['number']).columns\n",
        "print(\"ستون‌های عددی:\")\n",
        "print(numerical_columns)\n",
        "# بررسی داده‌های پرت بر اساس IQR\n",
        "for column in numerical_columns:\n",
        "    Q1 = R99P3S06[column].quantile(0.25)\n",
        "    Q3 = R99P3S06[column].quantile(0.75)\n",
        "    IQR = Q3 - Q1\n",
        "    outliers = ((R99P3S06[column] < (Q1 - 1.5 * IQR)) | (R99P3S06[column] > (Q3 + 1.5 * IQR))).sum()\n",
        "    if outliers > 0:\n",
        "        print(f\"تعداد داده‌های پرت در ستون {column}: {outliers}\")"
      ]
    },
    {
      "cell_type": "markdown",
      "metadata": {},
      "source": [
        "P3S07"
      ]
    },
    {
      "cell_type": "code",
      "execution_count": 196,
      "metadata": {},
      "outputs": [
        {
          "data": {
            "text/plain": [
              "Address      0.0\n",
              "code         0.0\n",
              "purchased    0.0\n",
              "value        0.0\n",
              "dtype: float64"
            ]
          },
          "execution_count": 196,
          "metadata": {},
          "output_type": "execute_result"
        }
      ],
      "source": [
        "missing_percentage = R99P3S07.isnull().sum() / len(R99P3S07) * 100\n",
        "missing_percentage.sort_values(ascending=False)  \n",
        "missing_percentage"
      ]
    },
    {
      "cell_type": "code",
      "execution_count": 197,
      "metadata": {},
      "outputs": [
        {
          "name": "stdout",
          "output_type": "stream",
          "text": [
            "0\n"
          ]
        }
      ],
      "source": [
        "duplicates = R99P3S07.duplicated().sum()\n",
        "print(duplicates)"
      ]
    },
    {
      "cell_type": "code",
      "execution_count": 198,
      "metadata": {},
      "outputs": [
        {
          "name": "stdout",
          "output_type": "stream",
          "text": [
            "ستون‌های دسته‌بندی‌شده:\n",
            "Index([], dtype='object')\n",
            "ستون‌های عددی:\n",
            "Index(['Address', 'code', 'purchased', 'value'], dtype='object')\n",
            "تعداد داده‌های پرت در ستون purchased: 150\n",
            "تعداد داده‌های پرت در ستون value: 1900\n"
          ]
        }
      ],
      "source": [
        "categorical_columns = R99P3S07.select_dtypes(include=['object']).columns\n",
        "print(\"ستون‌های دسته‌بندی‌شده:\")\n",
        "print(categorical_columns)\n",
        "\n",
        "numerical_columns = R99P3S07.select_dtypes(include=['number']).columns\n",
        "print(\"ستون‌های عددی:\")\n",
        "print(numerical_columns)\n",
        "# بررسی داده‌های پرت بر اساس IQR\n",
        "for column in numerical_columns:\n",
        "    Q1 = R99P3S07[column].quantile(0.25)\n",
        "    Q3 = R99P3S07[column].quantile(0.75)\n",
        "    IQR = Q3 - Q1\n",
        "    outliers = ((R99P3S07[column] < (Q1 - 1.5 * IQR)) | (R99P3S07[column] > (Q3 + 1.5 * IQR))).sum()\n",
        "    if outliers > 0:\n",
        "        print(f\"تعداد داده‌های پرت در ستون {column}: {outliers}\")"
      ]
    },
    {
      "cell_type": "markdown",
      "metadata": {},
      "source": [
        "P3S08"
      ]
    },
    {
      "cell_type": "code",
      "execution_count": 199,
      "metadata": {},
      "outputs": [
        {
          "data": {
            "text/plain": [
              "Address      0.0\n",
              "code         0.0\n",
              "purchased    0.0\n",
              "value        0.0\n",
              "dtype: float64"
            ]
          },
          "execution_count": 199,
          "metadata": {},
          "output_type": "execute_result"
        }
      ],
      "source": [
        "missing_percentage = R99P3S08.isnull().sum() / len(R99P3S08) * 100\n",
        "missing_percentage.sort_values(ascending=False)  \n",
        "missing_percentage"
      ]
    },
    {
      "cell_type": "code",
      "execution_count": 200,
      "metadata": {},
      "outputs": [
        {
          "name": "stdout",
          "output_type": "stream",
          "text": [
            "0\n"
          ]
        }
      ],
      "source": [
        "duplicates = R99P3S08.duplicated().sum()\n",
        "print(duplicates)"
      ]
    },
    {
      "cell_type": "code",
      "execution_count": 201,
      "metadata": {},
      "outputs": [
        {
          "name": "stdout",
          "output_type": "stream",
          "text": [
            "ستون‌های دسته‌بندی‌شده:\n",
            "Index([], dtype='object')\n",
            "ستون‌های عددی:\n",
            "Index(['Address', 'code', 'purchased', 'value'], dtype='object')\n",
            "تعداد داده‌های پرت در ستون code: 7102\n",
            "تعداد داده‌های پرت در ستون purchased: 13\n",
            "تعداد داده‌های پرت در ستون value: 2224\n"
          ]
        }
      ],
      "source": [
        "categorical_columns = R99P3S08.select_dtypes(include=['object']).columns\n",
        "print(\"ستون‌های دسته‌بندی‌شده:\")\n",
        "print(categorical_columns)\n",
        "\n",
        "numerical_columns = R99P3S08.select_dtypes(include=['number']).columns\n",
        "print(\"ستون‌های عددی:\")\n",
        "print(numerical_columns)\n",
        "# بررسی داده‌های پرت بر اساس IQR\n",
        "for column in numerical_columns:\n",
        "    Q1 = R99P3S08[column].quantile(0.25)\n",
        "    Q3 = R99P3S08[column].quantile(0.75)\n",
        "    IQR = Q3 - Q1\n",
        "    outliers = ((R99P3S08[column] < (Q1 - 1.5 * IQR)) | (R99P3S08[column] > (Q3 + 1.5 * IQR))).sum()\n",
        "    if outliers > 0:\n",
        "        print(f\"تعداد داده‌های پرت در ستون {column}: {outliers}\")"
      ]
    },
    {
      "cell_type": "markdown",
      "metadata": {},
      "source": [
        "P3S09"
      ]
    },
    {
      "cell_type": "code",
      "execution_count": 202,
      "metadata": {},
      "outputs": [
        {
          "data": {
            "text/plain": [
              "Address      0.0\n",
              "code         0.0\n",
              "purchased    0.0\n",
              "value        0.0\n",
              "dtype: float64"
            ]
          },
          "execution_count": 202,
          "metadata": {},
          "output_type": "execute_result"
        }
      ],
      "source": [
        "missing_percentage = R99P3S09.isnull().sum() / len(R99P3S09) * 100\n",
        "missing_percentage.sort_values(ascending=False)  \n",
        "missing_percentage"
      ]
    },
    {
      "cell_type": "code",
      "execution_count": 203,
      "metadata": {},
      "outputs": [
        {
          "name": "stdout",
          "output_type": "stream",
          "text": [
            "0\n"
          ]
        }
      ],
      "source": [
        "duplicates = R99P3S09.duplicated().sum()\n",
        "print(duplicates)"
      ]
    },
    {
      "cell_type": "code",
      "execution_count": 204,
      "metadata": {},
      "outputs": [
        {
          "name": "stdout",
          "output_type": "stream",
          "text": [
            "ستون‌های دسته‌بندی‌شده:\n",
            "Index([], dtype='object')\n",
            "ستون‌های عددی:\n",
            "Index(['Address', 'code', 'purchased', 'value'], dtype='object')\n",
            "تعداد داده‌های پرت در ستون code: 1442\n",
            "تعداد داده‌های پرت در ستون purchased: 59\n",
            "تعداد داده‌های پرت در ستون value: 505\n"
          ]
        }
      ],
      "source": [
        "categorical_columns = R99P3S09.select_dtypes(include=['object']).columns\n",
        "print(\"ستون‌های دسته‌بندی‌شده:\")\n",
        "print(categorical_columns)\n",
        "\n",
        "numerical_columns = R99P3S09.select_dtypes(include=['number']).columns\n",
        "print(\"ستون‌های عددی:\")\n",
        "print(numerical_columns)\n",
        "# بررسی داده‌های پرت بر اساس IQR\n",
        "for column in numerical_columns:\n",
        "    Q1 = R99P3S09[column].quantile(0.25)\n",
        "    Q3 = R99P3S09[column].quantile(0.75)\n",
        "    IQR = Q3 - Q1\n",
        "    outliers = ((R99P3S09[column] < (Q1 - 1.5 * IQR)) | (R99P3S09[column] > (Q3 + 1.5 * IQR))).sum()\n",
        "    if outliers > 0:\n",
        "        print(f\"تعداد داده‌های پرت در ستون {column}: {outliers}\")"
      ]
    },
    {
      "cell_type": "markdown",
      "metadata": {},
      "source": [
        "P3S11"
      ]
    },
    {
      "cell_type": "code",
      "execution_count": 205,
      "metadata": {},
      "outputs": [
        {
          "data": {
            "text/plain": [
              "Address      0.0\n",
              "code         0.0\n",
              "purchased    0.0\n",
              "value        0.0\n",
              "dtype: float64"
            ]
          },
          "execution_count": 205,
          "metadata": {},
          "output_type": "execute_result"
        }
      ],
      "source": [
        "missing_percentage = R99P3S11.isnull().sum() / len(R99P3S11) * 100\n",
        "missing_percentage.sort_values(ascending=False)  \n",
        "missing_percentage"
      ]
    },
    {
      "cell_type": "code",
      "execution_count": 206,
      "metadata": {},
      "outputs": [
        {
          "name": "stdout",
          "output_type": "stream",
          "text": [
            "0\n"
          ]
        }
      ],
      "source": [
        "duplicates = R99P3S11.duplicated().sum()\n",
        "print(duplicates)"
      ]
    },
    {
      "cell_type": "code",
      "execution_count": 207,
      "metadata": {},
      "outputs": [
        {
          "name": "stdout",
          "output_type": "stream",
          "text": [
            "ستون‌های دسته‌بندی‌شده:\n",
            "Index([], dtype='object')\n",
            "ستون‌های عددی:\n",
            "Index(['Address', 'code', 'purchased', 'value'], dtype='object')\n",
            "تعداد داده‌های پرت در ستون code: 94\n",
            "تعداد داده‌های پرت در ستون purchased: 204\n",
            "تعداد داده‌های پرت در ستون value: 524\n"
          ]
        }
      ],
      "source": [
        "categorical_columns = R99P3S11.select_dtypes(include=['object']).columns\n",
        "print(\"ستون‌های دسته‌بندی‌شده:\")\n",
        "print(categorical_columns)\n",
        "\n",
        "numerical_columns = R99P3S11.select_dtypes(include=['number']).columns\n",
        "print(\"ستون‌های عددی:\")\n",
        "print(numerical_columns)\n",
        "# بررسی داده‌های پرت بر اساس IQR\n",
        "for column in numerical_columns:\n",
        "    Q1 = R99P3S11[column].quantile(0.25)\n",
        "    Q3 = R99P3S11[column].quantile(0.75)\n",
        "    IQR = Q3 - Q1\n",
        "    outliers = ((R99P3S11[column] < (Q1 - 1.5 * IQR)) | (R99P3S11[column] > (Q3 + 1.5 * IQR))).sum()\n",
        "    if outliers > 0:\n",
        "        print(f\"تعداد داده‌های پرت در ستون {column}: {outliers}\")"
      ]
    },
    {
      "cell_type": "markdown",
      "metadata": {},
      "source": [
        "P3S12"
      ]
    },
    {
      "cell_type": "code",
      "execution_count": 208,
      "metadata": {},
      "outputs": [
        {
          "data": {
            "text/plain": [
              "Address      0.0\n",
              "code         0.0\n",
              "purchased    0.0\n",
              "value        0.0\n",
              "dtype: float64"
            ]
          },
          "execution_count": 208,
          "metadata": {},
          "output_type": "execute_result"
        }
      ],
      "source": [
        "missing_percentage = R99P3S12.isnull().sum() / len(R99P3S12) * 100\n",
        "missing_percentage.sort_values(ascending=False)  \n",
        "missing_percentage"
      ]
    },
    {
      "cell_type": "code",
      "execution_count": 209,
      "metadata": {},
      "outputs": [
        {
          "name": "stdout",
          "output_type": "stream",
          "text": [
            "0\n"
          ]
        }
      ],
      "source": [
        "duplicates = R99P3S12.duplicated().sum()\n",
        "print(duplicates)"
      ]
    },
    {
      "cell_type": "code",
      "execution_count": 210,
      "metadata": {},
      "outputs": [
        {
          "name": "stdout",
          "output_type": "stream",
          "text": [
            "ستون‌های دسته‌بندی‌شده:\n",
            "Index([], dtype='object')\n",
            "ستون‌های عددی:\n",
            "Index(['Address', 'code', 'purchased', 'value'], dtype='object')\n",
            "تعداد داده‌های پرت در ستون code: 720\n",
            "تعداد داده‌های پرت در ستون purchased: 559\n",
            "تعداد داده‌های پرت در ستون value: 5632\n"
          ]
        }
      ],
      "source": [
        "categorical_columns = R99P3S12.select_dtypes(include=['object']).columns\n",
        "print(\"ستون‌های دسته‌بندی‌شده:\")\n",
        "print(categorical_columns)\n",
        "\n",
        "numerical_columns = R99P3S12.select_dtypes(include=['number']).columns\n",
        "print(\"ستون‌های عددی:\")\n",
        "print(numerical_columns)\n",
        "# بررسی داده‌های پرت بر اساس IQR\n",
        "for column in numerical_columns:\n",
        "    Q1 = R99P3S12[column].quantile(0.25)\n",
        "    Q3 = R99P3S12[column].quantile(0.75)\n",
        "    IQR = Q3 - Q1\n",
        "    outliers = ((R99P3S12[column] < (Q1 - 1.5 * IQR)) | (R99P3S12[column] > (Q3 + 1.5 * IQR))).sum()\n",
        "    if outliers > 0:\n",
        "        print(f\"تعداد داده‌های پرت در ستون {column}: {outliers}\")"
      ]
    },
    {
      "cell_type": "markdown",
      "metadata": {},
      "source": [
        "P3S13"
      ]
    },
    {
      "cell_type": "code",
      "execution_count": 211,
      "metadata": {},
      "outputs": [
        {
          "data": {
            "text/plain": [
              "Address    0.000000\n",
              "code       0.000000\n",
              "value      0.281687\n",
              "dtype: float64"
            ]
          },
          "execution_count": 211,
          "metadata": {},
          "output_type": "execute_result"
        }
      ],
      "source": [
        "missing_percentage = R99P3S13.isnull().sum() / len(R99P3S13) * 100\n",
        "missing_percentage.sort_values(ascending=False)  \n",
        "missing_percentage"
      ]
    },
    {
      "cell_type": "code",
      "execution_count": 212,
      "metadata": {},
      "outputs": [],
      "source": [
        "R99P3S13 = R99P3S13.dropna(subset=['value'])"
      ]
    },
    {
      "cell_type": "code",
      "execution_count": 213,
      "metadata": {},
      "outputs": [
        {
          "name": "stdout",
          "output_type": "stream",
          "text": [
            "170\n"
          ]
        }
      ],
      "source": [
        "duplicates = R99P3S13.duplicated().sum()\n",
        "print(duplicates)"
      ]
    },
    {
      "cell_type": "code",
      "execution_count": 214,
      "metadata": {},
      "outputs": [],
      "source": [
        "R99P3S13 = R99P3S13.drop_duplicates()"
      ]
    },
    {
      "cell_type": "code",
      "execution_count": 215,
      "metadata": {},
      "outputs": [
        {
          "name": "stdout",
          "output_type": "stream",
          "text": [
            "0\n"
          ]
        }
      ],
      "source": [
        "duplicates = R99P3S13.duplicated().sum()\n",
        "print(duplicates)"
      ]
    },
    {
      "cell_type": "code",
      "execution_count": 216,
      "metadata": {},
      "outputs": [
        {
          "name": "stdout",
          "output_type": "stream",
          "text": [
            "ستون‌های دسته‌بندی‌شده:\n",
            "Index(['value'], dtype='object')\n",
            "ستون‌های عددی:\n",
            "Index(['Address', 'code'], dtype='object')\n"
          ]
        }
      ],
      "source": [
        "categorical_columns = R99P3S13.select_dtypes(include=['object']).columns\n",
        "print(\"ستون‌های دسته‌بندی‌شده:\")\n",
        "print(categorical_columns)\n",
        "\n",
        "numerical_columns = R99P3S13.select_dtypes(include=['number']).columns\n",
        "print(\"ستون‌های عددی:\")\n",
        "print(numerical_columns)\n",
        "# بررسی داده‌های پرت بر اساس IQR\n",
        "for column in numerical_columns:\n",
        "    Q1 = R99P3S13[column].quantile(0.25)\n",
        "    Q3 = R99P3S13[column].quantile(0.75)\n",
        "    IQR = Q3 - Q1\n",
        "    outliers = ((R99P3S13[column] < (Q1 - 1.5 * IQR)) | (R99P3S13[column] > (Q3 + 1.5 * IQR))).sum()\n",
        "    if outliers > 0:\n",
        "        print(f\"تعداد داده‌های پرت در ستون {column}: {outliers}\")"
      ]
    },
    {
      "cell_type": "markdown",
      "metadata": {},
      "source": [
        "P3S14"
      ]
    },
    {
      "cell_type": "code",
      "execution_count": 217,
      "metadata": {},
      "outputs": [
        {
          "data": {
            "text/plain": [
              "Address      0.000000\n",
              "code         0.000000\n",
              "purchased    4.740244\n",
              "value        5.242997\n",
              "dtype: float64"
            ]
          },
          "execution_count": 217,
          "metadata": {},
          "output_type": "execute_result"
        }
      ],
      "source": [
        "missing_percentage = R99P3S14.isnull().sum() / len(R99P3S14) * 100\n",
        "missing_percentage.sort_values(ascending=False)  \n",
        "missing_percentage"
      ]
    },
    {
      "cell_type": "code",
      "execution_count": 218,
      "metadata": {},
      "outputs": [],
      "source": [
        "R99P3S14 = R99P3S14.dropna(subset=['purchased','value'])"
      ]
    },
    {
      "cell_type": "code",
      "execution_count": 219,
      "metadata": {},
      "outputs": [
        {
          "data": {
            "text/plain": [
              "Address      0.0\n",
              "code         0.0\n",
              "purchased    0.0\n",
              "value        0.0\n",
              "dtype: float64"
            ]
          },
          "execution_count": 219,
          "metadata": {},
          "output_type": "execute_result"
        }
      ],
      "source": [
        "missing_percentage = R99P3S14.isnull().sum() / len(R99P3S14) * 100\n",
        "missing_percentage.sort_values(ascending=False)  \n",
        "missing_percentage"
      ]
    },
    {
      "cell_type": "code",
      "execution_count": 220,
      "metadata": {},
      "outputs": [
        {
          "name": "stdout",
          "output_type": "stream",
          "text": [
            "0\n"
          ]
        }
      ],
      "source": [
        "duplicates = R99P3S14.duplicated().sum()\n",
        "print(duplicates)"
      ]
    },
    {
      "cell_type": "code",
      "execution_count": 221,
      "metadata": {},
      "outputs": [
        {
          "name": "stdout",
          "output_type": "stream",
          "text": [
            "ستون‌های دسته‌بندی‌شده:\n",
            "Index(['purchased'], dtype='object')\n",
            "ستون‌های عددی:\n",
            "Index(['Address', 'code', 'value'], dtype='object')\n",
            "تعداد داده‌های پرت در ستون Address: 471\n",
            "تعداد داده‌های پرت در ستون value: 641\n"
          ]
        }
      ],
      "source": [
        "categorical_columns = R99P3S14.select_dtypes(include=['object']).columns\n",
        "print(\"ستون‌های دسته‌بندی‌شده:\")\n",
        "print(categorical_columns)\n",
        "\n",
        "numerical_columns = R99P3S14.select_dtypes(include=['number']).columns\n",
        "print(\"ستون‌های عددی:\")\n",
        "print(numerical_columns)\n",
        "# بررسی داده‌های پرت بر اساس IQR\n",
        "for column in numerical_columns:\n",
        "    Q1 = R99P3S14[column].quantile(0.25)\n",
        "    Q3 = R99P3S14[column].quantile(0.75)\n",
        "    IQR = Q3 - Q1\n",
        "    outliers = ((R99P3S14[column] < (Q1 - 1.5 * IQR)) | (R99P3S14[column] > (Q3 + 1.5 * IQR))).sum()\n",
        "    if outliers > 0:\n",
        "        print(f\"تعداد داده‌های پرت در ستون {column}: {outliers}\")"
      ]
    },
    {
      "cell_type": "markdown",
      "metadata": {},
      "source": [
        "P4S01"
      ]
    },
    {
      "cell_type": "code",
      "execution_count": 222,
      "metadata": {},
      "outputs": [
        {
          "data": {
            "text/plain": [
              "Address            0.000000\n",
              "member             0.000000\n",
              "employed_w         0.000000\n",
              "ISCO_w             0.000000\n",
              "ISIC_w             0.000000\n",
              "status_w           0.000000\n",
              "hours_w           10.985579\n",
              "days_w            10.985579\n",
              "income_w_m         0.000000\n",
              "income_w_y         0.000000\n",
              "wage_w_m           0.128594\n",
              "wage_w_y           0.009185\n",
              "perk_w_m           0.082667\n",
              "perk_w_y           0.018371\n",
              "netincome_w_m      0.000000\n",
              "netincome_w_y      0.000000\n",
              "Fasl               0.000000\n",
              "year               0.000000\n",
              "DYCOL00          100.000000\n",
              "dtype: float64"
            ]
          },
          "execution_count": 222,
          "metadata": {},
          "output_type": "execute_result"
        }
      ],
      "source": [
        "missing_percentage = R99P4S01.isnull().sum() / len(R99P4S01) * 100\n",
        "missing_percentage.sort_values(ascending=False)  \n",
        "missing_percentage"
      ]
    },
    {
      "cell_type": "code",
      "execution_count": 225,
      "metadata": {},
      "outputs": [],
      "source": [
        "R99P4S01 = R99P4S01.drop(columns='DYCOL00')"
      ]
    },
    {
      "cell_type": "code",
      "execution_count": 231,
      "metadata": {},
      "outputs": [],
      "source": [
        "\n",
        "R99P4S01_cleaned = R99P4S01.dropna(subset=['hours_w','days_w','wage_w_m','wage_w_y','perk_w_m','perk_w_y'])"
      ]
    },
    {
      "cell_type": "code",
      "execution_count": 232,
      "metadata": {},
      "outputs": [
        {
          "data": {
            "text/plain": [
              "Address          0.0\n",
              "member           0.0\n",
              "employed_w       0.0\n",
              "ISCO_w           0.0\n",
              "ISIC_w           0.0\n",
              "status_w         0.0\n",
              "hours_w          0.0\n",
              "days_w           0.0\n",
              "income_w_m       0.0\n",
              "income_w_y       0.0\n",
              "wage_w_m         0.0\n",
              "wage_w_y         0.0\n",
              "perk_w_m         0.0\n",
              "perk_w_y         0.0\n",
              "netincome_w_m    0.0\n",
              "netincome_w_y    0.0\n",
              "Fasl             0.0\n",
              "year             0.0\n",
              "dtype: float64"
            ]
          },
          "execution_count": 232,
          "metadata": {},
          "output_type": "execute_result"
        }
      ],
      "source": [
        "missing_percentage = R99P4S01_cleaned.isnull().sum() / len(R99P4S01_cleaned) * 100\n",
        "missing_percentage.sort_values(ascending=False)  \n",
        "missing_percentage"
      ]
    },
    {
      "cell_type": "markdown",
      "metadata": {},
      "source": [
        "P4S02"
      ]
    },
    {
      "cell_type": "code",
      "execution_count": 233,
      "metadata": {},
      "outputs": [
        {
          "data": {
            "text/plain": [
              "Address              0.000000\n",
              "member               0.007724\n",
              "employed_s           0.007724\n",
              "ISCO_s               0.023173\n",
              "ISIC_s               0.023173\n",
              "status_s             0.007724\n",
              "agriculture          0.000000\n",
              "hours_s              1.313147\n",
              "days_s               1.266801\n",
              "cost_employment     11.084505\n",
              "cost_raw             2.533601\n",
              "cost_machinery      10.528349\n",
              "cost_others          5.770122\n",
              "cost_tax            13.973428\n",
              "sale                 1.676193\n",
              "income_s_y           0.007724\n",
              "Fasl                 0.000000\n",
              "year                 0.000000\n",
              "DYCOL00            100.000000\n",
              "dtype: float64"
            ]
          },
          "execution_count": 233,
          "metadata": {},
          "output_type": "execute_result"
        }
      ],
      "source": [
        "missing_percentage = R99P4S02.isnull().sum() / len(R99P4S02) * 100\n",
        "missing_percentage.sort_values(ascending=False)  \n",
        "missing_percentage"
      ]
    },
    {
      "cell_type": "code",
      "execution_count": 234,
      "metadata": {},
      "outputs": [],
      "source": [
        "R99P4S02 = R99P4S02.drop(columns='DYCOL00')"
      ]
    },
    {
      "cell_type": "code",
      "execution_count": 236,
      "metadata": {},
      "outputs": [],
      "source": [
        "R99P4S02_cleaned = R99P4S02.dropna(subset=['member','employed_s','ISCO_s','ISIC_s','hours_s','cost_raw','cost_others','sale'])"
      ]
    },
    {
      "cell_type": "code",
      "execution_count": 237,
      "metadata": {},
      "outputs": [
        {
          "data": {
            "text/plain": [
              "Address            0.000000\n",
              "member             0.000000\n",
              "employed_s         0.000000\n",
              "ISCO_s             0.000000\n",
              "ISIC_s             0.000000\n",
              "status_s           0.000000\n",
              "agriculture        0.000000\n",
              "hours_s            0.000000\n",
              "days_s             0.000000\n",
              "cost_employment    6.658333\n",
              "cost_raw           0.000000\n",
              "cost_machinery     5.691667\n",
              "cost_others        0.000000\n",
              "cost_tax           8.475000\n",
              "sale               0.000000\n",
              "income_s_y         0.000000\n",
              "Fasl               0.000000\n",
              "year               0.000000\n",
              "dtype: float64"
            ]
          },
          "execution_count": 237,
          "metadata": {},
          "output_type": "execute_result"
        }
      ],
      "source": [
        "missing_percentage = R99P4S02_cleaned.isnull().sum() / len(R99P4S02_cleaned) * 100\n",
        "missing_percentage.sort_values(ascending=False)  \n",
        "missing_percentage"
      ]
    },
    {
      "cell_type": "code",
      "execution_count": 238,
      "metadata": {},
      "outputs": [],
      "source": [
        "R99P4S02_cleaned = R99P4S02.dropna(subset=['cost_employment','cost_machinery','cost_tax'])"
      ]
    },
    {
      "cell_type": "markdown",
      "metadata": {},
      "source": [
        "P4S03"
      ]
    },
    {
      "cell_type": "code",
      "execution_count": 239,
      "metadata": {},
      "outputs": [
        {
          "data": {
            "text/plain": [
              "Address              0.000000\n",
              "member               0.008337\n",
              "income_pension      67.703210\n",
              "income_rent         72.551063\n",
              "income_interest     33.509796\n",
              "income_aid          21.117132\n",
              "income_resale       74.568570\n",
              "income_transfer     61.950813\n",
              "Fasl                 0.000000\n",
              "year                 0.000000\n",
              "DYCOL00            100.000000\n",
              "dtype: float64"
            ]
          },
          "execution_count": 239,
          "metadata": {},
          "output_type": "execute_result"
        }
      ],
      "source": [
        "missing_percentage = R99P4S03.isnull().sum() / len(R99P4S03) * 100\n",
        "missing_percentage.sort_values(ascending=False)  \n",
        "missing_percentage"
      ]
    },
    {
      "cell_type": "code",
      "execution_count": null,
      "metadata": {},
      "outputs": [],
      "source": []
    },
    {
      "cell_type": "code",
      "execution_count": 240,
      "metadata": {},
      "outputs": [],
      "source": [
        "R99P4S03 = R99P4S03.drop(columns='DYCOL00')"
      ]
    },
    {
      "cell_type": "code",
      "execution_count": 241,
      "metadata": {},
      "outputs": [],
      "source": [
        "R99P4S03_cleaned = R99P4S03.dropna(subset=['member'])"
      ]
    },
    {
      "cell_type": "code",
      "execution_count": 244,
      "metadata": {},
      "outputs": [
        {
          "name": "stdout",
          "output_type": "stream",
          "text": [
            "Address              int64\n",
            "member             float64\n",
            "income_pension      object\n",
            "income_rent         object\n",
            "income_interest    float64\n",
            "income_aid         float64\n",
            "income_resale      float64\n",
            "income_transfer    float64\n",
            "Fasl                 int64\n",
            "year                 int64\n",
            "dtype: object\n"
          ]
        }
      ],
      "source": [
        "print(R99P4S03_cleaned.dtypes)"
      ]
    },
    {
      "cell_type": "code",
      "execution_count": 247,
      "metadata": {},
      "outputs": [],
      "source": [
        "R99P4S03_cleaned = R99P4S03_cleaned.apply(pd.to_numeric, errors='coerce')\n"
      ]
    },
    {
      "cell_type": "code",
      "execution_count": 248,
      "metadata": {},
      "outputs": [],
      "source": [
        "df_encoded7 = R99P4S03_cleaned.copy()"
      ]
    },
    {
      "cell_type": "markdown",
      "metadata": {},
      "source": [
        "اینجا برای ترین کردن از کمترین درصد نال شروع میکنم که اگر ترین غلط باشه حداقل اونایی که نالشون زیاده تاثیر زیادی نذارن"
      ]
    },
    {
      "cell_type": "code",
      "execution_count": 249,
      "metadata": {},
      "outputs": [
        {
          "name": "stdout",
          "output_type": "stream",
          "text": [
            "Accuracy for income_aid : 0.17992073976221928\n"
          ]
        },
        {
          "ename": "NameError",
          "evalue": "name 'R99P4S031_filled' is not defined",
          "output_type": "error",
          "traceback": [
            "\u001b[0;31m---------------------------------------------------------------------------\u001b[0m",
            "\u001b[0;31mNameError\u001b[0m                                 Traceback (most recent call last)",
            "\u001b[1;32m/Users/saraoliay/Downloads/R99-cleaning.ipynb Cell 191\u001b[0m line \u001b[0;36m3\n\u001b[1;32m     <a href='vscode-notebook-cell:/Users/saraoliay/Downloads/R99-cleaning.ipynb#Y401sZmlsZQ%3D%3D?line=29'>30</a>\u001b[0m R99P4S03_filled \u001b[39m=\u001b[39m pd\u001b[39m.\u001b[39mconcat([df_not_null, df_null])\n\u001b[1;32m     <a href='vscode-notebook-cell:/Users/saraoliay/Downloads/R99-cleaning.ipynb#Y401sZmlsZQ%3D%3D?line=32'>33</a>\u001b[0m R99P4S03_filled\u001b[39m.\u001b[39msort_index(inplace\u001b[39m=\u001b[39m\u001b[39mTrue\u001b[39;00m)\n\u001b[0;32m---> <a href='vscode-notebook-cell:/Users/saraoliay/Downloads/R99-cleaning.ipynb#Y401sZmlsZQ%3D%3D?line=35'>36</a>\u001b[0m \u001b[39mprint\u001b[39m(R99P4S031_filled\u001b[39m.\u001b[39mhead())\n",
            "\u001b[0;31mNameError\u001b[0m: name 'R99P4S031_filled' is not defined"
          ]
        }
      ],
      "source": [
        "df_not_null = df_encoded7[df_encoded7['income_aid'].notnull()]\n",
        "df_null = df_encoded7[df_encoded7['income_aid'].isnull()]\n",
        "\n",
        "\n",
        "X = df_not_null.drop(['income_aid'], axis=1)\n",
        "y = df_not_null['income_aid']\n",
        "\n",
        "\n",
        "X_train, X_test, y_train, y_test = train_test_split(X, y, test_size=0.2, random_state=42)\n",
        "\n",
        "\n",
        "model = RandomForestClassifier()\n",
        "\n",
        "\n",
        "model.fit(X_train, y_train)\n",
        "\n",
        "\n",
        "y_pred = model.predict(X_test)\n",
        "\n",
        "\n",
        "print(f'Accuracy for income_aid : {accuracy_score(y_test, y_pred)}')\n",
        "\n",
        "\n",
        "X_null = df_null.drop(['income_aid'], axis=1)\n",
        "\n",
        "\n",
        "df_null.loc[:, 'income_aid'] = model.predict(X_null)\n",
        "\n",
        "\n",
        "R99P4S03_filled = pd.concat([df_not_null, df_null])\n",
        "\n",
        "\n",
        "R99P4S03_filled.sort_index(inplace=True)\n",
        "\n",
        "\n",
        "print(R99P4S031_filled.head())"
      ]
    },
    {
      "cell_type": "markdown",
      "metadata": {},
      "source": [
        "P4S04"
      ]
    },
    {
      "cell_type": "code",
      "execution_count": 250,
      "metadata": {},
      "outputs": [
        {
          "data": {
            "text/plain": [
              "Address             0.000000\n",
              "member              0.000000\n",
              "subsidy_number      0.017189\n",
              "subsidy_month       0.003438\n",
              "subsidy             0.006876\n",
              "Fasl                0.000000\n",
              "year                0.000000\n",
              "DYCOL00           100.000000\n",
              "dtype: float64"
            ]
          },
          "execution_count": 250,
          "metadata": {},
          "output_type": "execute_result"
        }
      ],
      "source": [
        "missing_percentage = R99P4S04.isnull().sum() / len(R99P4S04) * 100\n",
        "missing_percentage.sort_values(ascending=False)  \n",
        "missing_percentage"
      ]
    },
    {
      "cell_type": "code",
      "execution_count": 251,
      "metadata": {},
      "outputs": [],
      "source": [
        "R99P4S04 = R99P4S04.drop(columns='DYCOL00')"
      ]
    },
    {
      "cell_type": "code",
      "execution_count": 253,
      "metadata": {},
      "outputs": [],
      "source": [
        "R99P4S04_cleaned = R99P4S04.dropna(subset=['subsidy_number','subsidy_month','subsidy'])"
      ]
    },
    {
      "cell_type": "code",
      "execution_count": null,
      "metadata": {},
      "outputs": [],
      "source": [
        "#p3_sheets = {\n",
        "    'R99P3S01_cleaned': 'Food',\n",
        "    'R99P3S02_cleaned': 'Tobacco',\n",
        "    'R99P3S03': 'Clothing',\n",
        "    'R99P3S04_cleaned': 'Housing',\n",
        "    'R99P3S05': 'Furniture',\n",
        "    'R99P3S06': 'Health',\n",
        "    'R99P3S07': 'Transport',\n",
        "    'R99P3S08': 'Communication',\n",
        "    'R99P3S09': 'Recreation',\n",
        "    'R99P3S11': 'Education',\n",
        "    'R99P3S12': 'Hotel',\n",
        "    'R99P3S13': 'Miscellaneous',\n",
        "    'R99P3S14': 'Investment'\n",
        "}"
      ]
    },
    {
      "cell_type": "code",
      "execution_count": null,
      "metadata": {
        "id": "OSty35jTMv7h"
      },
      "outputs": [],
      "source": [
        "combined_df = pd.merge(data99['R99Data_cleaned'], data99['df_P1_filled'], on='Address')\n",
        "combined_df = combined_df.merge(data99['R99P2_filled'], on='Address')\n",
        "\n",
        "\n",
        "for sheet_name in p3_sheets.keys():\n",
        "    combined_df = combined_df.merge(data99[sheet_name], on='Address', how='outer', suffixes=(None, f'_{sheet_name}'))\n",
        "\n",
        "\n",
        "combined_df = combined_df.merge(data99['R99P4S01_cleaned'], on='Address')\n",
        "combined_df = combined_df.merge(data99['R99P4S02_cleaned'], on='Address')\n",
        "combined_df = combined_df.merge(data99['R99P4S03_cleaned'], on='Address')\n",
        "combined_df = combined_df.merge(data99['R99P4S04_cleaned'], on='Address')"
      ]
    }
  ],
  "metadata": {
    "colab": {
      "provenance": []
    },
    "kernelspec": {
      "display_name": "quera",
      "language": "python",
      "name": "python3"
    },
    "language_info": {
      "codemirror_mode": {
        "name": "ipython",
        "version": 3
      },
      "file_extension": ".py",
      "mimetype": "text/x-python",
      "name": "python",
      "nbconvert_exporter": "python",
      "pygments_lexer": "ipython3",
      "version": "3.12.4"
    }
  },
  "nbformat": 4,
  "nbformat_minor": 0
}
