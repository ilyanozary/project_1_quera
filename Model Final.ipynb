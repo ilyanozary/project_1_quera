{
 "cells": [
  {
   "cell_type": "code",
   "execution_count": 1,
   "id": "98c8210e",
   "metadata": {},
   "outputs": [],
   "source": [
    "import os\n",
    "import re\n",
    "import numpy as np\n",
    "import pandas as pd\n",
    "import matplotlib.pyplot as plt\n",
    "\n",
    "from sklearn.tree import DecisionTreeRegressor\n",
    "from sklearn.ensemble import RandomForestRegressor, AdaBoostRegressor, GradientBoostingRegressor\n",
    "from catboost import CatBoostRegressor\n",
    "from sklearn.neighbors import KNeighborsRegressor\n",
    "from sklearn.svm import SVR\n",
    "from sklearn.linear_model import LinearRegression, Ridge, Lasso\n",
    "\n",
    "from sklearn.model_selection import KFold, train_test_split, cross_val_score, GridSearchCV, RandomizedSearchCV\n",
    "from sklearn.metrics import r2_score, mean_squared_error\n",
    "from sklearn.decomposition import PCA\n",
    "from sklearn.preprocessing import PolynomialFeatures, StandardScaler\n",
    "from sklearn.pipeline import Pipeline\n",
    "from sklearn.datasets import make_regression\n"
   ]
  },
  {
   "cell_type": "code",
   "execution_count": 2,
   "id": "e5976486",
   "metadata": {},
   "outputs": [],
   "source": [
    "da = pd.read_excel('./final_dataset.xlsx')"
   ]
  },
  {
   "cell_type": "markdown",
   "id": "bbeef9ea",
   "metadata": {},
   "source": [
    "با استفاده از فیچر فصل، نال های ماه مراجعه را پر می‌کنیم"
   ]
  },
  {
   "cell_type": "code",
   "execution_count": 3,
   "id": "4173108e",
   "metadata": {},
   "outputs": [],
   "source": [
    "relation_by_khanevartype = da.dropna(subset=['MahMorajeh']).groupby('Fasl')['MahMorajeh'].apply(lambda x: x.mode()[0]).to_dict()\n",
    "\n",
    "da['MahMorajeh'] = da.apply(\n",
    "    lambda row: relation_by_khanevartype[row['Fasl']] if pd.isna(row['MahMorajeh']) else row['MahMorajeh'],\n",
    "    axis=1\n",
    ")"
   ]
  },
  {
   "cell_type": "code",
   "execution_count": 4,
   "id": "b9b7fbd4",
   "metadata": {},
   "outputs": [
    {
     "data": {
      "text/html": [
       "<div>\n",
       "<style scoped>\n",
       "    .dataframe tbody tr th:only-of-type {\n",
       "        vertical-align: middle;\n",
       "    }\n",
       "\n",
       "    .dataframe tbody tr th {\n",
       "        vertical-align: top;\n",
       "    }\n",
       "\n",
       "    .dataframe thead th {\n",
       "        text-align: right;\n",
       "    }\n",
       "</style>\n",
       "<table border=\"1\" class=\"dataframe\">\n",
       "  <thead>\n",
       "    <tr style=\"text-align: right;\">\n",
       "      <th></th>\n",
       "      <th>Address</th>\n",
       "      <th>MahMorajeh</th>\n",
       "      <th>Fasl</th>\n",
       "      <th>weight</th>\n",
       "      <th>khanevartype</th>\n",
       "      <th>Takmil</th>\n",
       "      <th>town</th>\n",
       "      <th>province_encoded</th>\n",
       "      <th>Urban</th>\n",
       "      <th>Year</th>\n",
       "      <th>...</th>\n",
       "      <th>value_Transport</th>\n",
       "      <th>value_Expenditure</th>\n",
       "      <th>value_invesments</th>\n",
       "      <th>value_vehicle</th>\n",
       "      <th>income_pension</th>\n",
       "      <th>income_rent</th>\n",
       "      <th>income_interest</th>\n",
       "      <th>income_aid</th>\n",
       "      <th>income_resale</th>\n",
       "      <th>income_transfer</th>\n",
       "    </tr>\n",
       "  </thead>\n",
       "  <tbody>\n",
       "    <tr>\n",
       "      <th>0</th>\n",
       "      <td>20001383908</td>\n",
       "      <td>5.0</td>\n",
       "      <td>2</td>\n",
       "      <td>5.148654</td>\n",
       "      <td>1</td>\n",
       "      <td>1</td>\n",
       "      <td>1</td>\n",
       "      <td>0</td>\n",
       "      <td>False</td>\n",
       "      <td>1398</td>\n",
       "      <td>...</td>\n",
       "      <td>750000</td>\n",
       "      <td>63213552.0</td>\n",
       "      <td>1.358880e+07</td>\n",
       "      <td>5.100000e+06</td>\n",
       "      <td>1.013905e+08</td>\n",
       "      <td>1.106307e+07</td>\n",
       "      <td>8.321593e+06</td>\n",
       "      <td>3.292025e+07</td>\n",
       "      <td>1.611713e+06</td>\n",
       "      <td>9.194932e+06</td>\n",
       "    </tr>\n",
       "    <tr>\n",
       "      <th>1</th>\n",
       "      <td>20001383908</td>\n",
       "      <td>5.0</td>\n",
       "      <td>2</td>\n",
       "      <td>5.148654</td>\n",
       "      <td>1</td>\n",
       "      <td>1</td>\n",
       "      <td>1</td>\n",
       "      <td>0</td>\n",
       "      <td>False</td>\n",
       "      <td>1398</td>\n",
       "      <td>...</td>\n",
       "      <td>750000</td>\n",
       "      <td>63213552.0</td>\n",
       "      <td>1.358880e+07</td>\n",
       "      <td>5.100000e+06</td>\n",
       "      <td>1.013905e+08</td>\n",
       "      <td>1.106307e+07</td>\n",
       "      <td>8.321593e+06</td>\n",
       "      <td>3.292025e+07</td>\n",
       "      <td>1.611713e+06</td>\n",
       "      <td>9.194932e+06</td>\n",
       "    </tr>\n",
       "    <tr>\n",
       "      <th>2</th>\n",
       "      <td>20001383908</td>\n",
       "      <td>5.0</td>\n",
       "      <td>2</td>\n",
       "      <td>5.148654</td>\n",
       "      <td>1</td>\n",
       "      <td>1</td>\n",
       "      <td>1</td>\n",
       "      <td>0</td>\n",
       "      <td>False</td>\n",
       "      <td>1398</td>\n",
       "      <td>...</td>\n",
       "      <td>750000</td>\n",
       "      <td>63213552.0</td>\n",
       "      <td>1.358880e+07</td>\n",
       "      <td>5.100000e+06</td>\n",
       "      <td>1.013905e+08</td>\n",
       "      <td>1.106307e+07</td>\n",
       "      <td>8.321593e+06</td>\n",
       "      <td>3.292025e+07</td>\n",
       "      <td>1.611713e+06</td>\n",
       "      <td>9.194932e+06</td>\n",
       "    </tr>\n",
       "    <tr>\n",
       "      <th>3</th>\n",
       "      <td>20001383908</td>\n",
       "      <td>5.0</td>\n",
       "      <td>2</td>\n",
       "      <td>5.148654</td>\n",
       "      <td>1</td>\n",
       "      <td>1</td>\n",
       "      <td>1</td>\n",
       "      <td>0</td>\n",
       "      <td>False</td>\n",
       "      <td>1398</td>\n",
       "      <td>...</td>\n",
       "      <td>750000</td>\n",
       "      <td>63213552.0</td>\n",
       "      <td>1.358880e+07</td>\n",
       "      <td>5.100000e+06</td>\n",
       "      <td>1.013905e+08</td>\n",
       "      <td>1.106307e+07</td>\n",
       "      <td>8.321593e+06</td>\n",
       "      <td>3.292025e+07</td>\n",
       "      <td>1.611713e+06</td>\n",
       "      <td>9.194932e+06</td>\n",
       "    </tr>\n",
       "    <tr>\n",
       "      <th>4</th>\n",
       "      <td>20001383911</td>\n",
       "      <td>5.0</td>\n",
       "      <td>2</td>\n",
       "      <td>5.148654</td>\n",
       "      <td>1</td>\n",
       "      <td>2</td>\n",
       "      <td>1</td>\n",
       "      <td>0</td>\n",
       "      <td>False</td>\n",
       "      <td>1398</td>\n",
       "      <td>...</td>\n",
       "      <td>370000</td>\n",
       "      <td>38560000.0</td>\n",
       "      <td>1.358880e+07</td>\n",
       "      <td>5.009111e+07</td>\n",
       "      <td>0.000000e+00</td>\n",
       "      <td>0.000000e+00</td>\n",
       "      <td>0.000000e+00</td>\n",
       "      <td>3.300000e+07</td>\n",
       "      <td>0.000000e+00</td>\n",
       "      <td>1.000000e+07</td>\n",
       "    </tr>\n",
       "    <tr>\n",
       "      <th>...</th>\n",
       "      <td>...</td>\n",
       "      <td>...</td>\n",
       "      <td>...</td>\n",
       "      <td>...</td>\n",
       "      <td>...</td>\n",
       "      <td>...</td>\n",
       "      <td>...</td>\n",
       "      <td>...</td>\n",
       "      <td>...</td>\n",
       "      <td>...</td>\n",
       "      <td>...</td>\n",
       "      <td>...</td>\n",
       "      <td>...</td>\n",
       "      <td>...</td>\n",
       "      <td>...</td>\n",
       "      <td>...</td>\n",
       "      <td>...</td>\n",
       "      <td>...</td>\n",
       "      <td>...</td>\n",
       "      <td>...</td>\n",
       "      <td>...</td>\n",
       "    </tr>\n",
       "    <tr>\n",
       "      <th>455785</th>\n",
       "      <td>13006383838</td>\n",
       "      <td>5.0</td>\n",
       "      <td>2</td>\n",
       "      <td>7.675848</td>\n",
       "      <td>1</td>\n",
       "      <td>2</td>\n",
       "      <td>6</td>\n",
       "      <td>30</td>\n",
       "      <td>True</td>\n",
       "      <td>1401</td>\n",
       "      <td>...</td>\n",
       "      <td>5600000</td>\n",
       "      <td>507572000.0</td>\n",
       "      <td>1.358880e+07</td>\n",
       "      <td>5.009111e+07</td>\n",
       "      <td>0.000000e+00</td>\n",
       "      <td>0.000000e+00</td>\n",
       "      <td>0.000000e+00</td>\n",
       "      <td>3.837000e+07</td>\n",
       "      <td>0.000000e+00</td>\n",
       "      <td>0.000000e+00</td>\n",
       "    </tr>\n",
       "    <tr>\n",
       "      <th>455786</th>\n",
       "      <td>13006383838</td>\n",
       "      <td>5.0</td>\n",
       "      <td>2</td>\n",
       "      <td>7.675848</td>\n",
       "      <td>1</td>\n",
       "      <td>2</td>\n",
       "      <td>6</td>\n",
       "      <td>30</td>\n",
       "      <td>True</td>\n",
       "      <td>1401</td>\n",
       "      <td>...</td>\n",
       "      <td>5600000</td>\n",
       "      <td>507572000.0</td>\n",
       "      <td>1.358880e+07</td>\n",
       "      <td>5.009111e+07</td>\n",
       "      <td>0.000000e+00</td>\n",
       "      <td>0.000000e+00</td>\n",
       "      <td>0.000000e+00</td>\n",
       "      <td>3.837000e+07</td>\n",
       "      <td>0.000000e+00</td>\n",
       "      <td>0.000000e+00</td>\n",
       "    </tr>\n",
       "    <tr>\n",
       "      <th>455787</th>\n",
       "      <td>13006383841</td>\n",
       "      <td>5.0</td>\n",
       "      <td>2</td>\n",
       "      <td>7.675848</td>\n",
       "      <td>1</td>\n",
       "      <td>1</td>\n",
       "      <td>6</td>\n",
       "      <td>30</td>\n",
       "      <td>True</td>\n",
       "      <td>1401</td>\n",
       "      <td>...</td>\n",
       "      <td>3100000</td>\n",
       "      <td>26700000.0</td>\n",
       "      <td>1.358880e+07</td>\n",
       "      <td>5.009111e+07</td>\n",
       "      <td>0.000000e+00</td>\n",
       "      <td>0.000000e+00</td>\n",
       "      <td>0.000000e+00</td>\n",
       "      <td>3.837000e+07</td>\n",
       "      <td>0.000000e+00</td>\n",
       "      <td>0.000000e+00</td>\n",
       "    </tr>\n",
       "    <tr>\n",
       "      <th>455788</th>\n",
       "      <td>13006383841</td>\n",
       "      <td>5.0</td>\n",
       "      <td>2</td>\n",
       "      <td>7.675848</td>\n",
       "      <td>1</td>\n",
       "      <td>1</td>\n",
       "      <td>6</td>\n",
       "      <td>30</td>\n",
       "      <td>True</td>\n",
       "      <td>1401</td>\n",
       "      <td>...</td>\n",
       "      <td>3100000</td>\n",
       "      <td>26700000.0</td>\n",
       "      <td>1.358880e+07</td>\n",
       "      <td>5.009111e+07</td>\n",
       "      <td>0.000000e+00</td>\n",
       "      <td>0.000000e+00</td>\n",
       "      <td>0.000000e+00</td>\n",
       "      <td>3.837000e+07</td>\n",
       "      <td>0.000000e+00</td>\n",
       "      <td>0.000000e+00</td>\n",
       "    </tr>\n",
       "    <tr>\n",
       "      <th>455789</th>\n",
       "      <td>13006383841</td>\n",
       "      <td>5.0</td>\n",
       "      <td>2</td>\n",
       "      <td>7.675848</td>\n",
       "      <td>1</td>\n",
       "      <td>1</td>\n",
       "      <td>6</td>\n",
       "      <td>30</td>\n",
       "      <td>True</td>\n",
       "      <td>1401</td>\n",
       "      <td>...</td>\n",
       "      <td>3100000</td>\n",
       "      <td>26700000.0</td>\n",
       "      <td>1.358880e+07</td>\n",
       "      <td>5.009111e+07</td>\n",
       "      <td>0.000000e+00</td>\n",
       "      <td>0.000000e+00</td>\n",
       "      <td>0.000000e+00</td>\n",
       "      <td>3.837000e+07</td>\n",
       "      <td>0.000000e+00</td>\n",
       "      <td>0.000000e+00</td>\n",
       "    </tr>\n",
       "  </tbody>\n",
       "</table>\n",
       "<p>455790 rows × 44 columns</p>\n",
       "</div>"
      ],
      "text/plain": [
       "            Address  MahMorajeh  Fasl    weight  khanevartype  Takmil  town  \\\n",
       "0       20001383908         5.0     2  5.148654             1       1     1   \n",
       "1       20001383908         5.0     2  5.148654             1       1     1   \n",
       "2       20001383908         5.0     2  5.148654             1       1     1   \n",
       "3       20001383908         5.0     2  5.148654             1       1     1   \n",
       "4       20001383911         5.0     2  5.148654             1       2     1   \n",
       "...             ...         ...   ...       ...           ...     ...   ...   \n",
       "455785  13006383838         5.0     2  7.675848             1       2     6   \n",
       "455786  13006383838         5.0     2  7.675848             1       2     6   \n",
       "455787  13006383841         5.0     2  7.675848             1       1     6   \n",
       "455788  13006383841         5.0     2  7.675848             1       1     6   \n",
       "455789  13006383841         5.0     2  7.675848             1       1     6   \n",
       "\n",
       "        province_encoded  Urban  Year  ...  value_Transport  \\\n",
       "0                      0  False  1398  ...           750000   \n",
       "1                      0  False  1398  ...           750000   \n",
       "2                      0  False  1398  ...           750000   \n",
       "3                      0  False  1398  ...           750000   \n",
       "4                      0  False  1398  ...           370000   \n",
       "...                  ...    ...   ...  ...              ...   \n",
       "455785                30   True  1401  ...          5600000   \n",
       "455786                30   True  1401  ...          5600000   \n",
       "455787                30   True  1401  ...          3100000   \n",
       "455788                30   True  1401  ...          3100000   \n",
       "455789                30   True  1401  ...          3100000   \n",
       "\n",
       "        value_Expenditure  value_invesments  value_vehicle  income_pension  \\\n",
       "0              63213552.0      1.358880e+07   5.100000e+06    1.013905e+08   \n",
       "1              63213552.0      1.358880e+07   5.100000e+06    1.013905e+08   \n",
       "2              63213552.0      1.358880e+07   5.100000e+06    1.013905e+08   \n",
       "3              63213552.0      1.358880e+07   5.100000e+06    1.013905e+08   \n",
       "4              38560000.0      1.358880e+07   5.009111e+07    0.000000e+00   \n",
       "...                   ...               ...            ...             ...   \n",
       "455785        507572000.0      1.358880e+07   5.009111e+07    0.000000e+00   \n",
       "455786        507572000.0      1.358880e+07   5.009111e+07    0.000000e+00   \n",
       "455787         26700000.0      1.358880e+07   5.009111e+07    0.000000e+00   \n",
       "455788         26700000.0      1.358880e+07   5.009111e+07    0.000000e+00   \n",
       "455789         26700000.0      1.358880e+07   5.009111e+07    0.000000e+00   \n",
       "\n",
       "         income_rent  income_interest    income_aid  income_resale  \\\n",
       "0       1.106307e+07     8.321593e+06  3.292025e+07   1.611713e+06   \n",
       "1       1.106307e+07     8.321593e+06  3.292025e+07   1.611713e+06   \n",
       "2       1.106307e+07     8.321593e+06  3.292025e+07   1.611713e+06   \n",
       "3       1.106307e+07     8.321593e+06  3.292025e+07   1.611713e+06   \n",
       "4       0.000000e+00     0.000000e+00  3.300000e+07   0.000000e+00   \n",
       "...              ...              ...           ...            ...   \n",
       "455785  0.000000e+00     0.000000e+00  3.837000e+07   0.000000e+00   \n",
       "455786  0.000000e+00     0.000000e+00  3.837000e+07   0.000000e+00   \n",
       "455787  0.000000e+00     0.000000e+00  3.837000e+07   0.000000e+00   \n",
       "455788  0.000000e+00     0.000000e+00  3.837000e+07   0.000000e+00   \n",
       "455789  0.000000e+00     0.000000e+00  3.837000e+07   0.000000e+00   \n",
       "\n",
       "        income_transfer  \n",
       "0          9.194932e+06  \n",
       "1          9.194932e+06  \n",
       "2          9.194932e+06  \n",
       "3          9.194932e+06  \n",
       "4          1.000000e+07  \n",
       "...                 ...  \n",
       "455785     0.000000e+00  \n",
       "455786     0.000000e+00  \n",
       "455787     0.000000e+00  \n",
       "455788     0.000000e+00  \n",
       "455789     0.000000e+00  \n",
       "\n",
       "[455790 rows x 44 columns]"
      ]
     },
     "execution_count": 4,
     "metadata": {},
     "output_type": "execute_result"
    }
   ],
   "source": [
    "fda = da.fillna(da.mean())\n",
    "fda"
   ]
  },
  {
   "cell_type": "markdown",
   "id": "e3a09fe8",
   "metadata": {},
   "source": [
    "برای آماده سازی داده برای آموزش، داده را با توجه به آدرس(تفکیک خانوار) سال و شهری یا روستایی بودن گروه بندی می‌کنیم"
   ]
  },
  {
   "cell_type": "code",
   "execution_count": 18,
   "id": "dfe835f1",
   "metadata": {},
   "outputs": [],
   "source": [
    "gfda = fda.groupby(['Address', 'Year', 'Urban']).agg({i: 'mean' for i in fda.drop(columns=['Address', 'Year', 'Urban']).columns}).reset_index()"
   ]
  },
  {
   "cell_type": "code",
   "execution_count": 84,
   "id": "a1ad8fd0",
   "metadata": {},
   "outputs": [],
   "source": [
    "X = gfda.drop(columns=['value_Transport', 'Address'])\n",
    "y = gfda.value_Transport"
   ]
  },
  {
   "cell_type": "code",
   "execution_count": 86,
   "id": "87f4a927",
   "metadata": {},
   "outputs": [
    {
     "data": {
      "text/plain": [
       "<Axes: xlabel='Year'>"
      ]
     },
     "execution_count": 86,
     "metadata": {},
     "output_type": "execute_result"
    },
    {
     "data": {
      "image/png": "[encoded data removed]",
      "text/plain": [
       "<Figure size 432x288 with 1 Axes>"
      ]
     },
     "metadata": {
      "needs_background": "light"
     },
     "output_type": "display_data"
    }
   ],
   "source": [
    "# تعداد برای هر سال\n",
    "X.Year.value_counts().plot(kind='bar')"
   ]
  },
  {
   "cell_type": "markdown",
   "id": "c3e2548b",
   "metadata": {},
   "source": [
    "برای انکه مطمئن باشیم داده ها برای سال خاصی چولگی ندارند این پلات رسم شده"
   ]
  },
  {
   "cell_type": "code",
   "execution_count": 95,
   "id": "4d950679",
   "metadata": {},
   "outputs": [
    {
     "data": {
      "text/html": [
       "<div>\n",
       "<style scoped>\n",
       "    .dataframe tbody tr th:only-of-type {\n",
       "        vertical-align: middle;\n",
       "    }\n",
       "\n",
       "    .dataframe tbody tr th {\n",
       "        vertical-align: top;\n",
       "    }\n",
       "\n",
       "    .dataframe thead th {\n",
       "        text-align: right;\n",
       "    }\n",
       "</style>\n",
       "<table border=\"1\" class=\"dataframe\">\n",
       "  <thead>\n",
       "    <tr style=\"text-align: right;\">\n",
       "      <th></th>\n",
       "      <th></th>\n",
       "      <th>Urban</th>\n",
       "    </tr>\n",
       "    <tr>\n",
       "      <th>Year</th>\n",
       "      <th>Urban</th>\n",
       "      <th></th>\n",
       "    </tr>\n",
       "  </thead>\n",
       "  <tbody>\n",
       "    <tr>\n",
       "      <th rowspan=\"2\" valign=\"top\">1398</th>\n",
       "      <th>True</th>\n",
       "      <td>18712</td>\n",
       "    </tr>\n",
       "    <tr>\n",
       "      <th>False</th>\n",
       "      <td>16781</td>\n",
       "    </tr>\n",
       "    <tr>\n",
       "      <th rowspan=\"2\" valign=\"top\">1399</th>\n",
       "      <th>True</th>\n",
       "      <td>17675</td>\n",
       "    </tr>\n",
       "    <tr>\n",
       "      <th>False</th>\n",
       "      <td>15915</td>\n",
       "    </tr>\n",
       "    <tr>\n",
       "      <th rowspan=\"2\" valign=\"top\">1400</th>\n",
       "      <th>True</th>\n",
       "      <td>18133</td>\n",
       "    </tr>\n",
       "    <tr>\n",
       "      <th>False</th>\n",
       "      <td>16163</td>\n",
       "    </tr>\n",
       "    <tr>\n",
       "      <th rowspan=\"2\" valign=\"top\">1401</th>\n",
       "      <th>True</th>\n",
       "      <td>13662</td>\n",
       "    </tr>\n",
       "    <tr>\n",
       "      <th>False</th>\n",
       "      <td>12096</td>\n",
       "    </tr>\n",
       "  </tbody>\n",
       "</table>\n",
       "</div>"
      ],
      "text/plain": [
       "            Urban\n",
       "Year Urban       \n",
       "1398 True   18712\n",
       "     False  16781\n",
       "1399 True   17675\n",
       "     False  15915\n",
       "1400 True   18133\n",
       "     False  16163\n",
       "1401 True   13662\n",
       "     False  12096"
      ]
     },
     "execution_count": 95,
     "metadata": {},
     "output_type": "execute_result"
    }
   ],
   "source": [
    "# تقریبا پخش نرماله و از هر سال به تعداد منطقی شهری و روستایی داریم\n",
    "X.groupby('Year').agg({'Urban': 'value_counts'})"
   ]
  },
  {
   "cell_type": "markdown",
   "id": "3a114a00",
   "metadata": {},
   "source": [
    "### Validation Data"
   ]
  },
  {
   "cell_type": "code",
   "execution_count": 20,
   "id": "75ee9699",
   "metadata": {},
   "outputs": [],
   "source": [
    "X_train, X_test, y_train, y_test = train_test_split(X, y, test_size=0.2, random_state=42)"
   ]
  },
  {
   "cell_type": "code",
   "execution_count": 10,
   "id": "20d13a57",
   "metadata": {},
   "outputs": [],
   "source": [
    "from sklearn.preprocessing import MinMaxScaler"
   ]
  },
  {
   "cell_type": "code",
   "execution_count": 21,
   "id": "da2e9141",
   "metadata": {},
   "outputs": [],
   "source": [
    "mms = MinMaxScaler()\n",
    "X_train = mms.fit_transform(X_train)\n",
    "X_test = mms.transform(X_test)"
   ]
  },
  {
   "cell_type": "code",
   "execution_count": 22,
   "id": "85ec4efa",
   "metadata": {},
   "outputs": [],
   "source": [
    "from sklearn.decomposition import PCA\n",
    "\n",
    "pca = PCA(n_components=30)"
   ]
  },
  {
   "cell_type": "code",
   "execution_count": 23,
   "id": "4f6caefb",
   "metadata": {},
   "outputs": [],
   "source": [
    "X_train = pca.fit_transform(X_train)\n",
    "X_test = pca.transform(X_test)"
   ]
  },
  {
   "cell_type": "code",
   "execution_count": 24,
   "id": "dfb5cc7b",
   "metadata": {},
   "outputs": [
    {
     "data": {
      "text/plain": [
       "(103309, 30)"
      ]
     },
     "execution_count": 24,
     "metadata": {},
     "output_type": "execute_result"
    }
   ],
   "source": [
    "X_train.shape"
   ]
  },
  {
   "cell_type": "code",
   "execution_count": 41,
   "id": "fcdf965b",
   "metadata": {
    "scrolled": false
   },
   "outputs": [
    {
     "data": {
      "text/plain": [
       "['Address',\n",
       " 'Year',\n",
       " 'Urban',\n",
       " 'MahMorajeh',\n",
       " 'Fasl',\n",
       " 'weight',\n",
       " 'khanevartype',\n",
       " 'Takmil',\n",
       " 'town',\n",
       " 'province_encoded',\n",
       " 'member_x',\n",
       " 'age',\n",
       " 'relation_encoded',\n",
       " 'gender_encoded',\n",
       " 'studying_encoded',\n",
       " 'degree_encoded',\n",
       " 'occupationalst_encoded_x',\n",
       " 'maritalst_encoded',\n",
       " 'member_y',\n",
       " 'occupationalst_encoded_y',\n",
       " 'room',\n",
       " 'space',\n",
       " 'construction',\n",
       " 'vehicle',\n",
       " 'refridgerator',\n",
       " 'fridge',\n",
       " 'sewingmachine',\n",
       " 'fan',\n",
       " 'telephone',\n",
       " 'evapcooling',\n",
       " 'tenure_encoded',\n",
       " 'Material_encoded',\n",
       " 'HeatingFuel_encoded',\n",
       " 'waterheatingfuel_encoded',\n",
       " 'value_Transport',\n",
       " 'value_Expenditure',\n",
       " 'value_invesments',\n",
       " 'value_vehicle',\n",
       " 'income_pension',\n",
       " 'income_rent',\n",
       " 'income_interest',\n",
       " 'income_aid',\n",
       " 'income_resale',\n",
       " 'income_transfer']"
      ]
     },
     "execution_count": 41,
     "metadata": {},
     "output_type": "execute_result"
    }
   ],
   "source": [
    "[*gfda.columns]"
   ]
  },
  {
   "cell_type": "code",
   "execution_count": 56,
   "id": "65b46944",
   "metadata": {
    "scrolled": true
   },
   "outputs": [],
   "source": [
    "#gfda[['Fasl', 'Urban', 'Year', 'member_y', 'age', 'vehicle', ]]"
   ]
  },
  {
   "cell_type": "code",
   "execution_count": 37,
   "id": "3e0fb008",
   "metadata": {
    "scrolled": true
   },
   "outputs": [
    {
     "data": {
      "text/html": [
       "<style>#sk-container-id-6 {color: black;}#sk-container-id-6 pre{padding: 0;}#sk-container-id-6 div.sk-toggleable {background-color: white;}#sk-container-id-6 label.sk-toggleable__label {cursor: pointer;display: block;width: 100%;margin-bottom: 0;padding: 0.3em;box-sizing: border-box;text-align: center;}#sk-container-id-6 label.sk-toggleable__label-arrow:before {content: \"▸\";float: left;margin-right: 0.25em;color: #696969;}#sk-container-id-6 label.sk-toggleable__label-arrow:hover:before {color: black;}#sk-container-id-6 div.sk-estimator:hover label.sk-toggleable__label-arrow:before {color: black;}#sk-container-id-6 div.sk-toggleable__content {max-height: 0;max-width: 0;overflow: hidden;text-align: left;background-color: #f0f8ff;}#sk-container-id-6 div.sk-toggleable__content pre {margin: 0.2em;color: black;border-radius: 0.25em;background-color: #f0f8ff;}#sk-container-id-6 input.sk-toggleable__control:checked~div.sk-toggleable__content {max-height: 200px;max-width: 100%;overflow: auto;}#sk-container-id-6 input.sk-toggleable__control:checked~label.sk-toggleable__label-arrow:before {content: \"▾\";}#sk-container-id-6 div.sk-estimator input.sk-toggleable__control:checked~label.sk-toggleable__label {background-color: #d4ebff;}#sk-container-id-6 div.sk-label input.sk-toggleable__control:checked~label.sk-toggleable__label {background-color: #d4ebff;}#sk-container-id-6 input.sk-hidden--visually {border: 0;clip: rect(1px 1px 1px 1px);clip: rect(1px, 1px, 1px, 1px);height: 1px;margin: -1px;overflow: hidden;padding: 0;position: absolute;width: 1px;}#sk-container-id-6 div.sk-estimator {font-family: monospace;background-color: #f0f8ff;border: 1px dotted black;border-radius: 0.25em;box-sizing: border-box;margin-bottom: 0.5em;}#sk-container-id-6 div.sk-estimator:hover {background-color: #d4ebff;}#sk-container-id-6 div.sk-parallel-item::after {content: \"\";width: 100%;border-bottom: 1px solid gray;flex-grow: 1;}#sk-container-id-6 div.sk-label:hover label.sk-toggleable__label {background-color: #d4ebff;}#sk-container-id-6 div.sk-serial::before {content: \"\";position: absolute;border-left: 1px solid gray;box-sizing: border-box;top: 0;bottom: 0;left: 50%;z-index: 0;}#sk-container-id-6 div.sk-serial {display: flex;flex-direction: column;align-items: center;background-color: white;padding-right: 0.2em;padding-left: 0.2em;position: relative;}#sk-container-id-6 div.sk-item {position: relative;z-index: 1;}#sk-container-id-6 div.sk-parallel {display: flex;align-items: stretch;justify-content: center;background-color: white;position: relative;}#sk-container-id-6 div.sk-item::before, #sk-container-id-6 div.sk-parallel-item::before {content: \"\";position: absolute;border-left: 1px solid gray;box-sizing: border-box;top: 0;bottom: 0;left: 50%;z-index: -1;}#sk-container-id-6 div.sk-parallel-item {display: flex;flex-direction: column;z-index: 1;position: relative;background-color: white;}#sk-container-id-6 div.sk-parallel-item:first-child::after {align-self: flex-end;width: 50%;}#sk-container-id-6 div.sk-parallel-item:last-child::after {align-self: flex-start;width: 50%;}#sk-container-id-6 div.sk-parallel-item:only-child::after {width: 0;}#sk-container-id-6 div.sk-dashed-wrapped {border: 1px dashed gray;margin: 0 0.4em 0.5em 0.4em;box-sizing: border-box;padding-bottom: 0.4em;background-color: white;}#sk-container-id-6 div.sk-label label {font-family: monospace;font-weight: bold;display: inline-block;line-height: 1.2em;}#sk-container-id-6 div.sk-label-container {text-align: center;}#sk-container-id-6 div.sk-container {/* jupyter's `normalize.less` sets `[hidden] { display: none; }` but bootstrap.min.css set `[hidden] { display: none !important; }` so we also need the `!important` here to be able to override the default hidden behavior on the sphinx rendered scikit-learn.org. See: https://github.com/scikit-learn/scikit-learn/issues/21755 */display: inline-block !important;position: relative;}#sk-container-id-6 div.sk-text-repr-fallback {display: none;}</style><div id=\"sk-container-id-6\" class=\"sk-top-container\"><div class=\"sk-text-repr-fallback\"><pre>GradientBoostingRegressor(n_estimators=500)</pre><b>In a Jupyter environment, please rerun this cell to show the HTML representation or trust the notebook. <br />On GitHub, the HTML representation is unable to render, please try loading this page with nbviewer.org.</b></div><div class=\"sk-container\" hidden><div class=\"sk-item\"><div class=\"sk-estimator sk-toggleable\"><input class=\"sk-toggleable__control sk-hidden--visually\" id=\"sk-estimator-id-6\" type=\"checkbox\" checked><label for=\"sk-estimator-id-6\" class=\"sk-toggleable__label sk-toggleable__label-arrow\">GradientBoostingRegressor</label><div class=\"sk-toggleable__content\"><pre>GradientBoostingRegressor(n_estimators=500)</pre></div></div></div></div></div>"
      ],
      "text/plain": [
       "GradientBoostingRegressor(n_estimators=500)"
      ]
     },
     "execution_count": 37,
     "metadata": {},
     "output_type": "execute_result"
    }
   ],
   "source": [
    "rfr = GradientBoostingRegressor(n_estimators=500)\n",
    "rfr.fit(X_train, y_train)"
   ]
  },
  {
   "cell_type": "code",
   "execution_count": 55,
   "id": "40fb861e",
   "metadata": {},
   "outputs": [
    {
     "data": {
      "text/plain": [
       "0.17227186493908353"
      ]
     },
     "execution_count": 55,
     "metadata": {},
     "output_type": "execute_result"
    }
   ],
   "source": [
    "r2_score(y_test, rfr.predict(X_test))"
   ]
  },
  {
   "cell_type": "markdown",
   "id": "c9f449ce",
   "metadata": {},
   "source": [
    "همانطور که مشاهده میشود به علت زید بودن فیچرهای انتخابی(با وجود فیچرسلکشن) مدل از نتیجه خوبی برخوردار نیست\n",
    "پس از مدل پیچیده تری استفاده می‌کنیم"
   ]
  },
  {
   "cell_type": "code",
   "execution_count": null,
   "id": "50d507e4",
   "metadata": {},
   "outputs": [],
   "source": [
    "models = {\n",
    "    'RandomForestRegressor': (\n",
    "        RandomForestRegressor(),\n",
    "        {\n",
    "            'max_depth': [None],\n",
    "            'min_samples_split': [2, 5, 10],\n",
    "        },\n",
    "    ),\n",
    "    'DecisionTreeRegressor': (\n",
    "        DecisionTreeRegressor(),\n",
    "        {\n",
    "            'max_depth': [3, 5, 10, 20, None],\n",
    "            'min_samples_split': [2, 5, 10],\n",
    "            'min_samples_leaf': [1, 2, 4],\n",
    "        },\n",
    "    ),\n",
    "    'CatBoostRegressor': (\n",
    "        CatBoostRegressor(),\n",
    "        {\n",
    "            'learning_rate': [0.01, 0.03, 0.1, 1],\n",
    "            'depth': [4, 6, 10],\n",
    "            'l2_leaf_reg': [1, 3, 5, 7, 9]\n",
    "        }\n",
    "    ),\n",
    "    'GradientBoostingRegressor': (\n",
    "        GradientBoostingRegressor(),\n",
    "        {\n",
    "            'n_estimators': [100, 200, 500],\n",
    "            'learning_rate': [0.01, 0.1, 1],\n",
    "            'max_depth': [3, 5, 10, 20],\n",
    "            'alpha': [0.5, 0.9]\n",
    "        },\n",
    "    ),\n",
    "}"
   ]
  },
  {
   "cell_type": "code",
   "execution_count": 67,
   "id": "d610f8f8",
   "metadata": {},
   "outputs": [],
   "source": []
  },
  {
   "cell_type": "code",
   "execution_count": 68,
   "id": "0ea1a58d",
   "metadata": {},
   "outputs": [
    {
     "name": "stdout",
     "output_type": "stream",
     "text": [
      "Fitting 5 folds for each of 72 candidates, totalling 360 fits\n"
     ]
    },
    {
     "data": {
      "text/html": [
       "<style>#sk-container-id-8 {color: black;}#sk-container-id-8 pre{padding: 0;}#sk-container-id-8 div.sk-toggleable {background-color: white;}#sk-container-id-8 label.sk-toggleable__label {cursor: pointer;display: block;width: 100%;margin-bottom: 0;padding: 0.3em;box-sizing: border-box;text-align: center;}#sk-container-id-8 label.sk-toggleable__label-arrow:before {content: \"▸\";float: left;margin-right: 0.25em;color: #696969;}#sk-container-id-8 label.sk-toggleable__label-arrow:hover:before {color: black;}#sk-container-id-8 div.sk-estimator:hover label.sk-toggleable__label-arrow:before {color: black;}#sk-container-id-8 div.sk-toggleable__content {max-height: 0;max-width: 0;overflow: hidden;text-align: left;background-color: #f0f8ff;}#sk-container-id-8 div.sk-toggleable__content pre {margin: 0.2em;color: black;border-radius: 0.25em;background-color: #f0f8ff;}#sk-container-id-8 input.sk-toggleable__control:checked~div.sk-toggleable__content {max-height: 200px;max-width: 100%;overflow: auto;}#sk-container-id-8 input.sk-toggleable__control:checked~label.sk-toggleable__label-arrow:before {content: \"▾\";}#sk-container-id-8 div.sk-estimator input.sk-toggleable__control:checked~label.sk-toggleable__label {background-color: #d4ebff;}#sk-container-id-8 div.sk-label input.sk-toggleable__control:checked~label.sk-toggleable__label {background-color: #d4ebff;}#sk-container-id-8 input.sk-hidden--visually {border: 0;clip: rect(1px 1px 1px 1px);clip: rect(1px, 1px, 1px, 1px);height: 1px;margin: -1px;overflow: hidden;padding: 0;position: absolute;width: 1px;}#sk-container-id-8 div.sk-estimator {font-family: monospace;background-color: #f0f8ff;border: 1px dotted black;border-radius: 0.25em;box-sizing: border-box;margin-bottom: 0.5em;}#sk-container-id-8 div.sk-estimator:hover {background-color: #d4ebff;}#sk-container-id-8 div.sk-parallel-item::after {content: \"\";width: 100%;border-bottom: 1px solid gray;flex-grow: 1;}#sk-container-id-8 div.sk-label:hover label.sk-toggleable__label {background-color: #d4ebff;}#sk-container-id-8 div.sk-serial::before {content: \"\";position: absolute;border-left: 1px solid gray;box-sizing: border-box;top: 0;bottom: 0;left: 50%;z-index: 0;}#sk-container-id-8 div.sk-serial {display: flex;flex-direction: column;align-items: center;background-color: white;padding-right: 0.2em;padding-left: 0.2em;position: relative;}#sk-container-id-8 div.sk-item {position: relative;z-index: 1;}#sk-container-id-8 div.sk-parallel {display: flex;align-items: stretch;justify-content: center;background-color: white;position: relative;}#sk-container-id-8 div.sk-item::before, #sk-container-id-8 div.sk-parallel-item::before {content: \"\";position: absolute;border-left: 1px solid gray;box-sizing: border-box;top: 0;bottom: 0;left: 50%;z-index: -1;}#sk-container-id-8 div.sk-parallel-item {display: flex;flex-direction: column;z-index: 1;position: relative;background-color: white;}#sk-container-id-8 div.sk-parallel-item:first-child::after {align-self: flex-end;width: 50%;}#sk-container-id-8 div.sk-parallel-item:last-child::after {align-self: flex-start;width: 50%;}#sk-container-id-8 div.sk-parallel-item:only-child::after {width: 0;}#sk-container-id-8 div.sk-dashed-wrapped {border: 1px dashed gray;margin: 0 0.4em 0.5em 0.4em;box-sizing: border-box;padding-bottom: 0.4em;background-color: white;}#sk-container-id-8 div.sk-label label {font-family: monospace;font-weight: bold;display: inline-block;line-height: 1.2em;}#sk-container-id-8 div.sk-label-container {text-align: center;}#sk-container-id-8 div.sk-container {/* jupyter's `normalize.less` sets `[hidden] { display: none; }` but bootstrap.min.css set `[hidden] { display: none !important; }` so we also need the `!important` here to be able to override the default hidden behavior on the sphinx rendered scikit-learn.org. See: https://github.com/scikit-learn/scikit-learn/issues/21755 */display: inline-block !important;position: relative;}#sk-container-id-8 div.sk-text-repr-fallback {display: none;}</style><div id=\"sk-container-id-8\" class=\"sk-top-container\"><div class=\"sk-text-repr-fallback\"><pre>GridSearchCV(estimator=GradientBoostingRegressor(), n_jobs=-1,\n",
       "             param_grid={&#x27;alpha&#x27;: [0.5, 0.9], &#x27;learning_rate&#x27;: [0.01, 0.1, 1],\n",
       "                         &#x27;max_depth&#x27;: [3, 5, 10, 20],\n",
       "                         &#x27;n_estimators&#x27;: [100, 200, 500]},\n",
       "             scoring=&#x27;r2&#x27;, verbose=1)</pre><b>In a Jupyter environment, please rerun this cell to show the HTML representation or trust the notebook. <br />On GitHub, the HTML representation is unable to render, please try loading this page with nbviewer.org.</b></div><div class=\"sk-container\" hidden><div class=\"sk-item sk-dashed-wrapped\"><div class=\"sk-label-container\"><div class=\"sk-label sk-toggleable\"><input class=\"sk-toggleable__control sk-hidden--visually\" id=\"sk-estimator-id-10\" type=\"checkbox\" ><label for=\"sk-estimator-id-10\" class=\"sk-toggleable__label sk-toggleable__label-arrow\">GridSearchCV</label><div class=\"sk-toggleable__content\"><pre>GridSearchCV(estimator=GradientBoostingRegressor(), n_jobs=-1,\n",
       "             param_grid={&#x27;alpha&#x27;: [0.5, 0.9], &#x27;learning_rate&#x27;: [0.01, 0.1, 1],\n",
       "                         &#x27;max_depth&#x27;: [3, 5, 10, 20],\n",
       "                         &#x27;n_estimators&#x27;: [100, 200, 500]},\n",
       "             scoring=&#x27;r2&#x27;, verbose=1)</pre></div></div></div><div class=\"sk-parallel\"><div class=\"sk-parallel-item\"><div class=\"sk-item\"><div class=\"sk-label-container\"><div class=\"sk-label sk-toggleable\"><input class=\"sk-toggleable__control sk-hidden--visually\" id=\"sk-estimator-id-11\" type=\"checkbox\" ><label for=\"sk-estimator-id-11\" class=\"sk-toggleable__label sk-toggleable__label-arrow\">estimator: GradientBoostingRegressor</label><div class=\"sk-toggleable__content\"><pre>GradientBoostingRegressor()</pre></div></div></div><div class=\"sk-serial\"><div class=\"sk-item\"><div class=\"sk-estimator sk-toggleable\"><input class=\"sk-toggleable__control sk-hidden--visually\" id=\"sk-estimator-id-12\" type=\"checkbox\" ><label for=\"sk-estimator-id-12\" class=\"sk-toggleable__label sk-toggleable__label-arrow\">GradientBoostingRegressor</label><div class=\"sk-toggleable__content\"><pre>GradientBoostingRegressor()</pre></div></div></div></div></div></div></div></div></div></div>"
      ],
      "text/plain": [
       "GridSearchCV(estimator=GradientBoostingRegressor(), n_jobs=-1,\n",
       "             param_grid={'alpha': [0.5, 0.9], 'learning_rate': [0.01, 0.1, 1],\n",
       "                         'max_depth': [3, 5, 10, 20],\n",
       "                         'n_estimators': [100, 200, 500]},\n",
       "             scoring='r2', verbose=1)"
      ]
     },
     "execution_count": 68,
     "metadata": {},
     "output_type": "execute_result"
    }
   ],
   "source": [
    "param = {\n",
    "            'n_estimators': [100, 200, 500],\n",
    "            'learning_rate': [0.01, 0.1, 1],\n",
    "            'max_depth': [3, 5, 10, 20],\n",
    "            'alpha': [0.5, 0.9]\n",
    "        }\n",
    "grid = GridSearchCV(estimator=GradientBoostingRegressor(), param_grid=param, scoring='r2', n_jobs=-1, verbose=1)\n",
    "grid.fit(X_train, y_train)"
   ]
  },
  {
   "cell_type": "code",
   "execution_count": null,
   "id": "cb9d4c3d",
   "metadata": {},
   "outputs": [],
   "source": [
    "best_model = grid.best_estimator_\n",
    "grid.best_score_"
   ]
  },
  {
   "cell_type": "markdown",
   "id": "654e7847",
   "metadata": {},
   "source": [
    "#### نتیجه روی داده تست"
   ]
  },
  {
   "cell_type": "code",
   "execution_count": null,
   "id": "d30c6494",
   "metadata": {},
   "outputs": [],
   "source": [
    "test = pd.read_excel('./TestData.xlsx')\n",
    "X_test = test.drop(columns=['Address', 'value_Transport'])\n",
    "y_test = test.value_Transport\n",
    "r2_score(y_test, best_model.predict(X_test))"
   ]
  },
  {
   "cell_type": "code",
   "execution_count": 82,
   "id": "c84eda08",
   "metadata": {},
   "outputs": [
    {
     "data": {
      "image/png": "[encoded data removed]",
      "text/plain": [
       "<Figure size 720x432 with 1 Axes>"
      ]
     },
     "metadata": {
      "needs_background": "light"
     },
     "output_type": "display_data"
    }
   ],
   "source": [
    "cv_results = grid.cv_results_\n",
    "\n",
    "n_estimators = cv_results['param_n_estimators'].data\n",
    "mean_test_scores = cv_results['mean_test_score']\n",
    "d = {i: -1 for i in n_estimators}\n",
    "for i, j in zip(n_estimators, mean_test_scores):\n",
    "    d[i] = max(d[i], j)\n",
    "\n",
    "plt.figure(figsize=(10,6))\n",
    "plt.plot(d.keys(), d.values(), marker='o')\n",
    "plt.title('Difference in Scores for Different n_estimators')\n",
    "plt.xlabel('n_estimators')\n",
    "plt.ylabel('Score Difference')\n",
    "plt.grid(axis='y', ls=':', color='k')\n",
    "plt.show()"
   ]
  },
  {
   "cell_type": "markdown",
   "id": "732422b7",
   "metadata": {},
   "source": [
    "همانطور که مشاهده میشود با افزایش تعداد estimator ها عملکرد بهبود میابد\n",
    "مهم ترین بهبود نیز از افزایش تعداد ۱۰۰ به ۲۰۰ رخ میدهد"
   ]
  }
 ],
 "metadata": {
  "kernelspec": {
   "display_name": "Python 3.12 (quera)",
   "language": "python",
   "name": "quera"
  },
  "language_info": {
   "codemirror_mode": {
    "name": "ipython",
    "version": 3
   },
   "file_extension": ".py",
   "mimetype": "text/x-python",
   "name": "python",
   "nbconvert_exporter": "python",
   "pygments_lexer": "ipython3",
   "version": "3.12.4"
  }
 },
 "nbformat": 4,
 "nbformat_minor": 5
}
