{
  "cells": [
    {
      "cell_type": "code",
      "execution_count": 1,
      "metadata": {
        "id": "HHy0mmEv-nAJ"
      },
      "outputs": [],
      "source": [
        "import pandas as pd\n",
        "import numpy as np\n",
        "import matplotlib as plt\n",
        "import seaborn as sns"
      ]
    },
    {
      "cell_type": "code",
      "execution_count": 2,
      "metadata": {
        "id": "aIaf84aYMl5T"
      },
      "outputs": [],
      "source": [
        "filepath ='R98.xlsx'\n",
        "data99 = pd.read_excel(filepath, sheet_name= None)"
      ]
    },
    {
      "cell_type": "code",
      "execution_count": 3,
      "metadata": {
        "id": "0nZhgR8-Mrkn"
      },
      "outputs": [],
      "source": [
        "p3_sheets = {\n",
        "    'R98P3S01': 'Food',\n",
        "    'R98P3S02': 'Tobacco',\n",
        "    'R98P3S03': 'Clothing',\n",
        "    'R98P3S04': 'Housing',\n",
        "    'R98P3S05': 'Furniture',\n",
        "    'R98P3S06': 'Health',\n",
        "    'R98P3S07': 'Transport',\n",
        "    'R98P3S08': 'Communication',\n",
        "    'R98P3S09': 'Recreation',\n",
        "    'R98P3S11': 'Education',\n",
        "    'R98P3S12': 'Hotel',\n",
        "    'R98P3S13': 'Miscellaneous',\n",
        "    'R98P3S14': 'Investment'\n",
        "}"
      ]
    },
    {
      "cell_type": "code",
      "execution_count": 4,
      "metadata": {
        "id": "Dzq_pQtFMtfJ"
      },
      "outputs": [],
      "source": [
        "for sheet_name, expense_type in p3_sheets.items():\n",
        "    if sheet_name in data99:\n",
        "        columns_to_rename = {}\n",
        "\n",
        "\n",
        "        if 'code' in data99[sheet_name].columns:\n",
        "            columns_to_rename['code'] = f'{expense_type}_Code'\n",
        "\n",
        "        if 'purchased' in data99[sheet_name].columns:\n",
        "            columns_to_rename['purchased'] = f'{expense_type}_Purchased'\n",
        "\n",
        "        if 'gram' in data99[sheet_name].columns:\n",
        "            columns_to_rename['gram'] = f'{expense_type}_Gram'\n",
        "\n",
        "        if 'kilogram' in data99[sheet_name].columns:\n",
        "            columns_to_rename['kilogram'] = f'{expense_type}_Kilogram'\n",
        "\n",
        "        if 'price' in data99[sheet_name].columns:\n",
        "            columns_to_rename['price'] = f'{expense_type}_Price'\n",
        "\n",
        "        if 'value' in data99[sheet_name].columns:\n",
        "            columns_to_rename['value'] = f'{expense_type}_Value'\n",
        "\n",
        "        if 'mortgage' in data99[sheet_name].columns:\n",
        "            columns_to_rename['mortgage'] = f'{expense_type}_Mortgage'\n",
        "\n",
        "\n",
        "        data99[sheet_name] = data99[sheet_name].rename(columns=columns_to_rename)"
      ]
    },
    {
      "cell_type": "code",
      "execution_count": 5,
      "metadata": {},
      "outputs": [],
      "source": [
        "R98Data=pd.read_excel(filepath, sheet_name='R98Data')\n",
        "R98P1=pd.read_excel(filepath, sheet_name='R98P1')\n",
        "R98P2=pd.read_excel(filepath, sheet_name='R98P2')\n",
        "R98P3S01=pd.read_excel(filepath, sheet_name='R98P3S01')\n",
        "R98P3S02=pd.read_excel(filepath, sheet_name='R98P3S02')\n",
        "R98P3S03=pd.read_excel(filepath, sheet_name='R98P3S03')\n",
        "R98P3S04=pd.read_excel(filepath, sheet_name='R98P3S04')\n",
        "R98P3S05=pd.read_excel(filepath, sheet_name='R98P3S05')\n",
        "R98P3S06=pd.read_excel(filepath, sheet_name='R98P3S06')\n",
        "R98P3S07=pd.read_excel(filepath, sheet_name='R98P3S07')\n",
        "R98P3S08=pd.read_excel(filepath, sheet_name='R98P3S08')\n",
        "R98P3S09=pd.read_excel(filepath, sheet_name='R98P3S09')\n",
        "R98P3S11=pd.read_excel(filepath, sheet_name='R98P3S11')\n",
        "R98P3S12=pd.read_excel(filepath, sheet_name='R98P3S12')\n",
        "R98P3S13=pd.read_excel(filepath, sheet_name='R98P3S13')\n",
        "R98P3S14=pd.read_excel(filepath, sheet_name='R98P3S14')\n",
        "R98P4S01=pd.read_excel(filepath, sheet_name='R98P4S01')\n",
        "R98P4S02=pd.read_excel(filepath, sheet_name='R98P4S02')\n",
        "R98P4S03=pd.read_excel(filepath, sheet_name='R98P4S03')\n",
        "R98P4S04=pd.read_excel(filepath, sheet_name='R98P4S04')"
      ]
    },
    {
      "cell_type": "code",
      "execution_count": 6,
      "metadata": {
        "id": "uFHKr_dyMpwz"
      },
      "outputs": [],
      "source": [
        "\n",
        "for sheet_name, df in data99.items():\n",
        "    if 'Value' in df.columns:\n",
        "        df['Value'] = pd.to_numeric(df['Value'], errors='coerce')\n",
        "\n",
        "    data99[sheet_name] = df\n"
      ]
    },
    {
      "cell_type": "markdown",
      "metadata": {},
      "source": [
        "بررسی شیت R98Data"
      ]
    },
    {
      "cell_type": "code",
      "execution_count": 7,
      "metadata": {},
      "outputs": [],
      "source": [
        "R98Data=pd.read_excel(filepath, sheet_name='R98Data')"
      ]
    },
    {
      "cell_type": "code",
      "execution_count": 8,
      "metadata": {},
      "outputs": [
        {
          "data": {
            "text/html": [
              "<div>\n",
              "<style scoped>\n",
              "    .dataframe tbody tr th:only-of-type {\n",
              "        vertical-align: middle;\n",
              "    }\n",
              "\n",
              "    .dataframe tbody tr th {\n",
              "        vertical-align: top;\n",
              "    }\n",
              "\n",
              "    .dataframe thead th {\n",
              "        text-align: right;\n",
              "    }\n",
              "</style>\n",
              "<table border=\"1\" class=\"dataframe\">\n",
              "  <thead>\n",
              "    <tr style=\"text-align: right;\">\n",
              "      <th></th>\n",
              "      <th>Address</th>\n",
              "      <th>MahMorajeh</th>\n",
              "      <th>Fasl</th>\n",
              "      <th>weight</th>\n",
              "      <th>khanevartype</th>\n",
              "      <th>Takmil</th>\n",
              "      <th>TakmilDescA</th>\n",
              "      <th>TakmilDescB</th>\n",
              "      <th>TakmilDescC</th>\n",
              "      <th>Jaygozin</th>\n",
              "      <th>JaygozinDescA</th>\n",
              "      <th>JaygozinDescB</th>\n",
              "      <th>JaygozinDescC</th>\n",
              "      <th>BlkAbdJaygozin</th>\n",
              "      <th>RadifJaygozin</th>\n",
              "      <th>province</th>\n",
              "      <th>town</th>\n",
              "    </tr>\n",
              "  </thead>\n",
              "  <tbody>\n",
              "    <tr>\n",
              "      <th>0</th>\n",
              "      <td>20001383908</td>\n",
              "      <td>5</td>\n",
              "      <td>2</td>\n",
              "      <td>171.199524</td>\n",
              "      <td>1</td>\n",
              "      <td>1</td>\n",
              "      <td>NaN</td>\n",
              "      <td>NaN</td>\n",
              "      <td>NaN</td>\n",
              "      <td>NaN</td>\n",
              "      <td>NaN</td>\n",
              "      <td>NaN</td>\n",
              "      <td>NaN</td>\n",
              "      <td>NaN</td>\n",
              "      <td>NaN</td>\n",
              "      <td>Markazi</td>\n",
              "      <td>1</td>\n",
              "    </tr>\n",
              "    <tr>\n",
              "      <th>1</th>\n",
              "      <td>20001383911</td>\n",
              "      <td>5</td>\n",
              "      <td>2</td>\n",
              "      <td>171.199524</td>\n",
              "      <td>1</td>\n",
              "      <td>2</td>\n",
              "      <td>NaN</td>\n",
              "      <td>1.0</td>\n",
              "      <td>NaN</td>\n",
              "      <td>1.0</td>\n",
              "      <td>NaN</td>\n",
              "      <td>NaN</td>\n",
              "      <td>NaN</td>\n",
              "      <td>33.0</td>\n",
              "      <td>9.0</td>\n",
              "      <td>Markazi</td>\n",
              "      <td>1</td>\n",
              "    </tr>\n",
              "    <tr>\n",
              "      <th>2</th>\n",
              "      <td>20001383915</td>\n",
              "      <td>5</td>\n",
              "      <td>2</td>\n",
              "      <td>171.199524</td>\n",
              "      <td>1</td>\n",
              "      <td>2</td>\n",
              "      <td>NaN</td>\n",
              "      <td>1.0</td>\n",
              "      <td>NaN</td>\n",
              "      <td>1.0</td>\n",
              "      <td>NaN</td>\n",
              "      <td>NaN</td>\n",
              "      <td>NaN</td>\n",
              "      <td>33.0</td>\n",
              "      <td>14.0</td>\n",
              "      <td>Markazi</td>\n",
              "      <td>1</td>\n",
              "    </tr>\n",
              "    <tr>\n",
              "      <th>3</th>\n",
              "      <td>20001383916</td>\n",
              "      <td>5</td>\n",
              "      <td>2</td>\n",
              "      <td>171.199524</td>\n",
              "      <td>1</td>\n",
              "      <td>1</td>\n",
              "      <td>NaN</td>\n",
              "      <td>NaN</td>\n",
              "      <td>NaN</td>\n",
              "      <td>NaN</td>\n",
              "      <td>NaN</td>\n",
              "      <td>NaN</td>\n",
              "      <td>NaN</td>\n",
              "      <td>NaN</td>\n",
              "      <td>NaN</td>\n",
              "      <td>Markazi</td>\n",
              "      <td>1</td>\n",
              "    </tr>\n",
              "    <tr>\n",
              "      <th>4</th>\n",
              "      <td>20001383920</td>\n",
              "      <td>5</td>\n",
              "      <td>2</td>\n",
              "      <td>171.199524</td>\n",
              "      <td>1</td>\n",
              "      <td>2</td>\n",
              "      <td>NaN</td>\n",
              "      <td>1.0</td>\n",
              "      <td>NaN</td>\n",
              "      <td>1.0</td>\n",
              "      <td>NaN</td>\n",
              "      <td>NaN</td>\n",
              "      <td>NaN</td>\n",
              "      <td>35.0</td>\n",
              "      <td>19.0</td>\n",
              "      <td>Markazi</td>\n",
              "      <td>1</td>\n",
              "    </tr>\n",
              "  </tbody>\n",
              "</table>\n",
              "</div>"
            ],
            "text/plain": [
              "       Address  MahMorajeh  Fasl      weight  khanevartype  Takmil  \\\n",
              "0  20001383908           5     2  171.199524             1       1   \n",
              "1  20001383911           5     2  171.199524             1       2   \n",
              "2  20001383915           5     2  171.199524             1       2   \n",
              "3  20001383916           5     2  171.199524             1       1   \n",
              "4  20001383920           5     2  171.199524             1       2   \n",
              "\n",
              "   TakmilDescA  TakmilDescB TakmilDescC  Jaygozin  JaygozinDescA  \\\n",
              "0          NaN          NaN         NaN       NaN            NaN   \n",
              "1          NaN          1.0         NaN       1.0            NaN   \n",
              "2          NaN          1.0         NaN       1.0            NaN   \n",
              "3          NaN          NaN         NaN       NaN            NaN   \n",
              "4          NaN          1.0         NaN       1.0            NaN   \n",
              "\n",
              "   JaygozinDescB  JaygozinDescC  BlkAbdJaygozin  RadifJaygozin province  town  \n",
              "0            NaN            NaN             NaN            NaN  Markazi     1  \n",
              "1            NaN            NaN            33.0            9.0  Markazi     1  \n",
              "2            NaN            NaN            33.0           14.0  Markazi     1  \n",
              "3            NaN            NaN             NaN            NaN  Markazi     1  \n",
              "4            NaN            NaN            35.0           19.0  Markazi     1  "
            ]
          },
          "execution_count": 8,
          "metadata": {},
          "output_type": "execute_result"
        }
      ],
      "source": [
        "R98Data.head()"
      ]
    },
    {
      "cell_type": "code",
      "execution_count": 9,
      "metadata": {},
      "outputs": [
        {
          "data": {
            "text/plain": [
              "Address             0.000000\n",
              "MahMorajeh          0.000000\n",
              "Fasl                0.000000\n",
              "weight              0.000000\n",
              "khanevartype        0.000000\n",
              "Takmil              0.000000\n",
              "TakmilDescA       100.000000\n",
              "TakmilDescB        81.117743\n",
              "TakmilDescC        99.864352\n",
              "Jaygozin           81.117743\n",
              "JaygozinDescA     100.000000\n",
              "JaygozinDescB     100.000000\n",
              "JaygozinDescC     100.000000\n",
              "BlkAbdJaygozin     81.117743\n",
              "RadifJaygozin      81.117743\n",
              "province            0.000000\n",
              "town                0.000000\n",
              "dtype: float64"
            ]
          },
          "execution_count": 9,
          "metadata": {},
          "output_type": "execute_result"
        }
      ],
      "source": [
        "missing_percentage = R98Data.isnull().sum() / len(R98Data) * 100\n",
        "missing_percentage.sort_values(ascending=False)  \n",
        "missing_percentage"
      ]
    },
    {
      "cell_type": "code",
      "execution_count": 10,
      "metadata": {},
      "outputs": [],
      "source": [
        "threshold = 70"
      ]
    },
    {
      "cell_type": "code",
      "execution_count": 11,
      "metadata": {},
      "outputs": [],
      "source": [
        "threshold = 70\n",
        "R98Data_cleaned = R98Data.dropna(axis=1, thresh=int((1-threshold/100)*len(R98Data)))"
      ]
    },
    {
      "cell_type": "code",
      "execution_count": 12,
      "metadata": {},
      "outputs": [
        {
          "data": {
            "text/plain": [
              "Address         0.0\n",
              "MahMorajeh      0.0\n",
              "Fasl            0.0\n",
              "weight          0.0\n",
              "khanevartype    0.0\n",
              "Takmil          0.0\n",
              "province        0.0\n",
              "town            0.0\n",
              "dtype: float64"
            ]
          },
          "execution_count": 12,
          "metadata": {},
          "output_type": "execute_result"
        }
      ],
      "source": [
        "missing_percentage = R98Data_cleaned.isnull().sum() / len(R98Data_cleaned) * 100\n",
        "missing_percentage.sort_values(ascending=False)  \n",
        "missing_percentage"
      ]
    },
    {
      "cell_type": "code",
      "execution_count": 13,
      "metadata": {},
      "outputs": [],
      "source": [
        "# فقط در سال 99این دو فیچر در دیتاست سال های دیگر نبودند\n",
        "#R98Data_cleaned = R98Data_cleaned.drop(columns=['IsTel', 'FVam'])\n"
      ]
    },
    {
      "cell_type": "code",
      "execution_count": 14,
      "metadata": {},
      "outputs": [
        {
          "data": {
            "text/plain": [
              "Address         0.0\n",
              "MahMorajeh      0.0\n",
              "Fasl            0.0\n",
              "weight          0.0\n",
              "khanevartype    0.0\n",
              "Takmil          0.0\n",
              "province        0.0\n",
              "town            0.0\n",
              "dtype: float64"
            ]
          },
          "execution_count": 14,
          "metadata": {},
          "output_type": "execute_result"
        }
      ],
      "source": [
        "missing_percentage = R98Data_cleaned.isnull().sum() / len(R98Data_cleaned) * 100\n",
        "missing_percentage.sort_values(ascending=False)  \n",
        "missing_percentage"
      ]
    },
    {
      "cell_type": "code",
      "execution_count": 15,
      "metadata": {},
      "outputs": [
        {
          "name": "stdout",
          "output_type": "stream",
          "text": [
            "0\n"
          ]
        }
      ],
      "source": [
        "duplicates = R98Data_cleaned.duplicated().sum()\n",
        "print(duplicates)"
      ]
    },
    {
      "cell_type": "code",
      "execution_count": 16,
      "metadata": {},
      "outputs": [
        {
          "name": "stdout",
          "output_type": "stream",
          "text": [
            "ستون‌های دسته‌بندی‌شده:\n",
            "Index(['province'], dtype='object')\n"
          ]
        }
      ],
      "source": [
        "categorical_columns = R98Data_cleaned.select_dtypes(include=['object']).columns\n",
        "print(\"ستون‌های دسته‌بندی‌شده:\")\n",
        "print(categorical_columns)\n"
      ]
    },
    {
      "cell_type": "code",
      "execution_count": 17,
      "metadata": {},
      "outputs": [
        {
          "name": "stdout",
          "output_type": "stream",
          "text": [
            "ستون‌های عددی:\n",
            "Index(['Address', 'MahMorajeh', 'Fasl', 'weight', 'khanevartype', 'Takmil',\n",
            "       'town'],\n",
            "      dtype='object')\n"
          ]
        }
      ],
      "source": [
        "\n",
        "numerical_columns = R98Data_cleaned.select_dtypes(include=['number']).columns\n",
        "print(\"ستون‌های عددی:\")\n",
        "print(numerical_columns)\n"
      ]
    },
    {
      "cell_type": "code",
      "execution_count": 18,
      "metadata": {},
      "outputs": [
        {
          "name": "stdout",
          "output_type": "stream",
          "text": [
            "مقادیر منحصر به فرد در ستون province:\n",
            "['Markazi' 'Gilan' 'Mazandaran' 'AzarbaijanSharghi' 'AzarbaijanGharbi'\n",
            " 'Kermanshah' 'Kouzestan' 'Fars' 'Kerman' 'KhorasanRazavi' 'Esfahan'\n",
            " 'SistanBalouchestan' 'Kordestan' 'Hamedan' 'CharmahalBakhtiari'\n",
            " 'Lorestan' 'Ilam' 'KohkilouyeBoyerahamad' 'Boushehr' 'Zanjan' 'Semnan'\n",
            " 'Yazd' 'Hormozgan' 'Tehran' 'Ardebil' 'Qom' 'Qazvin' 'Golestan'\n",
            " 'KhorasanShomali' 'KhorasanJonoubi' 'Alborz']\n"
          ]
        }
      ],
      "source": [
        "unique_provinces = R98Data_cleaned['province'].unique()\n",
        "print(\"مقادیر منحصر به فرد در ستون province:\")\n",
        "print(unique_provinces)"
      ]
    },
    {
      "cell_type": "code",
      "execution_count": 19,
      "metadata": {},
      "outputs": [
        {
          "name": "stdout",
          "output_type": "stream",
          "text": [
            "تعداد هر دسته در ستون province:\n",
            "province\n",
            "Markazi                  836\n",
            "KhorasanRazavi           816\n",
            "Fars                     788\n",
            "Kouzestan                738\n",
            "KhorasanJonoubi          705\n",
            "Kermanshah               696\n",
            "KhorasanShomali          685\n",
            "Golestan                 684\n",
            "SistanBalouchestan       680\n",
            "AzarbaijanSharghi        677\n",
            "Esfahan                  658\n",
            "Hormozgan                655\n",
            "Yazd                     653\n",
            "AzarbaijanGharbi         629\n",
            "Kerman                   609\n",
            "Hamedan                  593\n",
            "KohkilouyeBoyerahamad    584\n",
            "Qazvin                   572\n",
            "Lorestan                 572\n",
            "Ilam                     533\n",
            "Mazandaran               531\n",
            "Alborz                   525\n",
            "Boushehr                 517\n",
            "Zanjan                   509\n",
            "Tehran                   485\n",
            "Semnan                   482\n",
            "CharmahalBakhtiari       474\n",
            "Ardebil                  433\n",
            "Gilan                    405\n",
            "Qom                      390\n",
            "Kordestan                316\n",
            "Name: count, dtype: int64\n"
          ]
        }
      ],
      "source": [
        "# مشاهده تعداد هر دسته‌بندی در ستون province\n",
        "province_counts = R98Data_cleaned['province'].value_counts()\n",
        "print(\"تعداد هر دسته در ستون province:\")\n",
        "print(province_counts)\n"
      ]
    },
    {
      "cell_type": "code",
      "execution_count": 20,
      "metadata": {},
      "outputs": [],
      "source": [
        "# دیکشنری برای انکود کردن مقادیر province\n",
        "province_encoding = {\n",
        "    'Markazi': '00', 'Gilan': '01', 'Mazandaran': '02', 'AzarbaijanSharghi': '03', \n",
        "    'AzarbaijanGharbi': '04', 'Kermanshah': '05', 'Kouzestan': '06', 'Fars': '07', \n",
        "    'Kerman': '08', 'KhorasanRazavi': '09', 'Esfahan': '10', 'SistanBalouchestan': '11', \n",
        "    'Kordestan': '12', 'Hamedan': '13', 'CharmahalBakhtiari': '14', 'Lorestan': '15', \n",
        "    'Ilam': '16', 'KohkilouyeBoyerahamad': '17', 'Boushehr': '18', 'Zanjan': '19', \n",
        "    'Semnan': '20', 'Yazd': '21', 'Hormozgan': '22', 'Tehran': '23', 'Ardebil': '24', \n",
        "    'Qom': '25', 'Qazvin': '26', 'Golestan': '27', 'KhorasanShomali': '28', \n",
        "    'KhorasanJonoubi': '29', 'Alborz': '30'\n",
        "}\n"
      ]
    },
    {
      "cell_type": "code",
      "execution_count": 21,
      "metadata": {},
      "outputs": [
        {
          "name": "stdout",
          "output_type": "stream",
          "text": [
            "  province province_encoded\n",
            "0  Markazi               00\n",
            "1  Markazi               00\n",
            "2  Markazi               00\n",
            "3  Markazi               00\n",
            "4  Markazi               00\n"
          ]
        },
        {
          "name": "stderr",
          "output_type": "stream",
          "text": [
            "C:\\Users\\Admin\\AppData\\Local\\Temp\\ipykernel_13308\\4173686901.py:2: SettingWithCopyWarning: \n",
            "A value is trying to be set on a copy of a slice from a DataFrame.\n",
            "Try using .loc[row_indexer,col_indexer] = value instead\n",
            "\n",
            "See the caveats in the documentation: https://pandas.pydata.org/pandas-docs/stable/user_guide/indexing.html#returning-a-view-versus-a-copy\n",
            "  R98Data_cleaned['province_encoded'] = R98Data_cleaned['province'].map(province_encoding)\n"
          ]
        }
      ],
      "source": [
        "# انکود کردن ستون province با استفاده از دیکشنری\n",
        "R98Data_cleaned['province_encoded'] = R98Data_cleaned['province'].map(province_encoding)\n",
        "\n",
        "# بررسی نتیجه\n",
        "print(R98Data_cleaned[['province', 'province_encoded']].head())\n"
      ]
    },
    {
      "cell_type": "code",
      "execution_count": 22,
      "metadata": {},
      "outputs": [
        {
          "name": "stdout",
          "output_type": "stream",
          "text": [
            "مقادیر منحصر به فرد در ستون province_encoded:\n",
            "['00' '01' '02' '03' '04' '05' '06' '07' '08' '09' '10' '11' '12' '13'\n",
            " '14' '15' '16' '17' '18' '19' '20' '21' '22' '23' '24' '25' '26' '27'\n",
            " '28' '29' '30']\n"
          ]
        }
      ],
      "source": [
        "unique_provinces = R98Data_cleaned['province_encoded'].unique()\n",
        "print(\"مقادیر منحصر به فرد در ستون province_encoded:\")\n",
        "print(unique_provinces)"
      ]
    },
    {
      "cell_type": "code",
      "execution_count": 23,
      "metadata": {},
      "outputs": [],
      "source": [
        "R98Data_cleaned = R98Data_cleaned.drop(columns=['province'])"
      ]
    },
    {
      "cell_type": "code",
      "execution_count": 24,
      "metadata": {},
      "outputs": [
        {
          "name": "stdout",
          "output_type": "stream",
          "text": [
            "تعداد داده‌های پرت در ستون weight: 514\n",
            "تعداد داده‌های پرت در ستون khanevartype: 9\n",
            "تعداد داده‌های پرت در ستون Takmil: 3913\n",
            "تعداد داده‌های پرت در ستون town: 993\n"
          ]
        }
      ],
      "source": [
        "\n",
        "# بررسی داده‌های پرت بر اساس IQR\n",
        "for column in numerical_columns:\n",
        "    Q1 = R98Data_cleaned[column].quantile(0.25)\n",
        "    Q3 = R98Data_cleaned[column].quantile(0.75)\n",
        "    IQR = Q3 - Q1\n",
        "    outliers = ((R98Data_cleaned[column] < (Q1 - 1.5 * IQR)) | (R98Data_cleaned[column] > (Q3 + 1.5 * IQR))).sum()\n",
        "    if outliers > 0:\n",
        "        print(f\"تعداد داده‌های پرت در ستون {column}: {outliers}\")\n"
      ]
    },
    {
      "cell_type": "code",
      "execution_count": 25,
      "metadata": {},
      "outputs": [],
      "source": [
        "\n",
        "\n",
        "# محاسبه IQR و اعمال بازه‌بندی (Capping)\n",
        "for column in ['weight']:\n",
        "    Q1 = R98Data_cleaned[column].quantile(0.25)\n",
        "    Q3 = R98Data_cleaned[column].quantile(0.75)\n",
        "    IQR = Q3 - Q1\n",
        "    \n",
        "    lower_bound = Q1 - 1.5 * IQR\n",
        "    upper_bound = Q3 + 1.5 * IQR\n",
        "    \n",
        "    # اعمال بازه‌بندی\n",
        "    R98Data_cleaned[column] = np.where(R98Data_cleaned[column] < lower_bound, lower_bound, R98Data_cleaned[column])\n",
        "    R98Data_cleaned[column] = np.where(R98Data_cleaned[column] > upper_bound, upper_bound, R98Data_cleaned[column])\n",
        "    \n",
        "    # اعمال تبدیل لگاریتمی برای مقادیر مثبت\n",
        "    R98Data_cleaned[column] = np.log1p(R98Data_cleaned[column])"
      ]
    },
    {
      "cell_type": "code",
      "execution_count": 26,
      "metadata": {},
      "outputs": [],
      "source": [
        "# جایگزینی مقادیر پرت با Mode (پرتکرارترین مقدار)\n",
        "def replace_outliers_with_mode(column, threshold=0.01):\n",
        "    mode = R98Data_cleaned[column].mode()[0]\n",
        "    \n",
        "    # شناسایی دسته‌های نادر (کمتر از آستانه threshold)\n",
        "    value_counts = R98Data_cleaned[column].value_counts(normalize=True)\n",
        "    rare_values = value_counts[value_counts < threshold].index\n",
        "    \n",
        "    # جایگزینی مقادیر نادر با Mode\n",
        "    R98Data_cleaned[column] = R98Data_cleaned[column].apply(lambda x: mode if x in rare_values else x)\n",
        "\n",
        "# اعمال جایگزینی با Mode برای ستون‌های دسته‌ای\n",
        "for column in ['khanevartype', 'Takmil', 'town']:\n",
        "    replace_outliers_with_mode(column)\n"
      ]
    },
    {
      "cell_type": "code",
      "execution_count": 27,
      "metadata": {},
      "outputs": [],
      "source": [
        "# بررسی و اصلاح اوت‌لیرهای نادرست در ستون‌های MahMorajeh و Fasl\n",
        "# برای ماه محدوده باید بین 1 تا 12 باشد و برای فصل باید بین 1 تا 4 باشد\n",
        "def fix_invalid_values(column, valid_range):\n",
        "    R98Data_cleaned[column] = np.where(~R98Data_cleaned[column].isin(valid_range), np.nan, R98Data_cleaned[column])\n",
        "\n",
        "# اعمال اصلاح برای ستون‌های MahMorajeh و Fasl\n",
        "fix_invalid_values('MahMorajeh', range(1, 13))  # ماه‌ها باید بین 1 تا 12 باشند\n",
        "fix_invalid_values('Fasl', range(1, 5))  # فصل‌ها باید بین 1 تا 4 باشند\n"
      ]
    },
    {
      "cell_type": "code",
      "execution_count": 28,
      "metadata": {},
      "outputs": [
        {
          "name": "stdout",
          "output_type": "stream",
          "text": [
            "[ 1  2  3  4  5  6  7  9 10 11 12 13  8 14 15 16 19 20 17]\n"
          ]
        }
      ],
      "source": [
        "unique_values = R98Data_cleaned['town'].unique()\n",
        "print(unique_values)"
      ]
    },
    {
      "cell_type": "code",
      "execution_count": 29,
      "metadata": {},
      "outputs": [
        {
          "name": "stdout",
          "output_type": "stream",
          "text": [
            "[1 2]\n"
          ]
        }
      ],
      "source": [
        "unique_values = R98Data_cleaned['Takmil'].unique()\n",
        "print(unique_values)"
      ]
    },
    {
      "cell_type": "code",
      "execution_count": 30,
      "metadata": {},
      "outputs": [
        {
          "name": "stdout",
          "output_type": "stream",
          "text": [
            "<class 'pandas.core.frame.DataFrame'>\n",
            "RangeIndex: 18430 entries, 0 to 18429\n",
            "Data columns (total 8 columns):\n",
            " #   Column            Non-Null Count  Dtype  \n",
            "---  ------            --------------  -----  \n",
            " 0   Address           18430 non-null  int64  \n",
            " 1   MahMorajeh        18430 non-null  float64\n",
            " 2   Fasl              18430 non-null  float64\n",
            " 3   weight            18430 non-null  float64\n",
            " 4   khanevartype      18430 non-null  int64  \n",
            " 5   Takmil            18430 non-null  int64  \n",
            " 6   town              18430 non-null  int64  \n",
            " 7   province_encoded  18430 non-null  object \n",
            "dtypes: float64(3), int64(4), object(1)\n",
            "memory usage: 1.1+ MB\n"
          ]
        }
      ],
      "source": [
        "R98Data_cleaned.info()"
      ]
    },
    {
      "cell_type": "markdown",
      "metadata": {},
      "source": [
        "بررسی شیت R98P1"
      ]
    },
    {
      "cell_type": "code",
      "execution_count": 31,
      "metadata": {},
      "outputs": [
        {
          "data": {
            "text/plain": [
              "Index(['Address', 'member', 'relation', 'gender', 'age', 'literacy',\n",
              "       'studying', 'degree', 'occupationalst', 'maritalst'],\n",
              "      dtype='object')"
            ]
          },
          "execution_count": 31,
          "metadata": {},
          "output_type": "execute_result"
        }
      ],
      "source": [
        "R98P1.columns\n"
      ]
    },
    {
      "cell_type": "code",
      "execution_count": 32,
      "metadata": {},
      "outputs": [
        {
          "data": {
            "text/plain": [
              "Address            0.000000\n",
              "member             0.000000\n",
              "relation           0.000000\n",
              "gender             0.000000\n",
              "age                0.000000\n",
              "literacy           9.703559\n",
              "studying          29.735909\n",
              "degree            29.735909\n",
              "occupationalst    16.623118\n",
              "maritalst         16.621563\n",
              "dtype: float64"
            ]
          },
          "execution_count": 32,
          "metadata": {},
          "output_type": "execute_result"
        }
      ],
      "source": [
        "missing_percentage = R98P1.isnull().sum() / len(R98P1) * 100\n",
        "missing_percentage.sort_values(ascending=False)  \n",
        "missing_percentage"
      ]
    },
    {
      "cell_type": "code",
      "execution_count": null,
      "metadata": {},
      "outputs": [],
      "source": []
    },
    {
      "cell_type": "code",
      "execution_count": 33,
      "metadata": {},
      "outputs": [
        {
          "name": "stdout",
          "output_type": "stream",
          "text": [
            "تعداد ردیف‌های تکراری: 0\n"
          ]
        }
      ],
      "source": [
        "# بررسی وجود داده‌های تکراری\n",
        "duplicate_rows = R98P1.duplicated().sum()\n",
        "print(f\"تعداد ردیف‌های تکراری: {duplicate_rows}\")\n"
      ]
    },
    {
      "cell_type": "code",
      "execution_count": 34,
      "metadata": {},
      "outputs": [
        {
          "name": "stdout",
          "output_type": "stream",
          "text": [
            "ستون‌های دسته‌بندی‌شده:\n",
            "Index(['relation', 'gender', 'literacy', 'studying', 'degree',\n",
            "       'occupationalst', 'maritalst'],\n",
            "      dtype='object')\n"
          ]
        }
      ],
      "source": [
        "# بررسی ستون‌های دسته‌بندی‌شده (غیر عددی)\n",
        "categorical_columns = R98P1.select_dtypes(include=['object']).columns\n",
        "print(\"ستون‌های دسته‌بندی‌شده:\")\n",
        "print(categorical_columns)\n"
      ]
    },
    {
      "cell_type": "code",
      "execution_count": 35,
      "metadata": {},
      "outputs": [
        {
          "name": "stdout",
          "output_type": "stream",
          "text": [
            "مقادیر یونیک در ستون 'relation':\n",
            "['Head' 'Spouse' 'Child' 'Parent' 'GrandSonDaughter' 'Sibling'\n",
            " 'OtherRelative' 'SonDaughter_inLaw' 'NonRelative']\n",
            "--------------------------------------------------\n",
            "مقادیر یونیک در ستون 'gender':\n",
            "['Male' 'Female']\n",
            "--------------------------------------------------\n",
            "مقادیر یونیک در ستون 'literacy':\n",
            "['literate' 'illiterate' nan]\n",
            "--------------------------------------------------\n",
            "مقادیر یونیک در ستون 'studying':\n",
            "['No' nan 'Yes']\n",
            "--------------------------------------------------\n",
            "مقادیر یونیک در ستون 'degree':\n",
            "['Elemantry' nan 'Bachelor' 'Secondary' 'Diploma' 'Master' 'HighSchool'\n",
            " 'College' 'Other' 'PhD']\n",
            "--------------------------------------------------\n",
            "مقادیر یونیک در ستون 'occupationalst':\n",
            "['employed' 'Housewife' 'Student' nan 'IncomeWOJob' 'unemployed' 'Other']\n",
            "--------------------------------------------------\n",
            "مقادیر یونیک در ستون 'maritalst':\n",
            "['Married' 'Single' nan 'Widowed' 'Divorced']\n",
            "--------------------------------------------------\n"
          ]
        }
      ],
      "source": [
        "# لیست ستون‌های دسته‌بندی‌شده\n",
        "categorical_columns = ['relation', 'gender', 'literacy', 'studying', 'degree', 'occupationalst', 'maritalst']\n",
        "\n",
        "# حلقه برای مشاهده داده‌های یونیک در هر ستون\n",
        "for column in categorical_columns:\n",
        "    unique_values = R98P1[column].unique()\n",
        "    print(f\"مقادیر یونیک در ستون '{column}':\")\n",
        "    print(unique_values)\n",
        "    print(\"-\" * 50)  # جداکننده برای خوانایی بیشتر\n"
      ]
    },
    {
      "cell_type": "code",
      "execution_count": 36,
      "metadata": {},
      "outputs": [],
      "source": [
        "# دیکشنری‌های انکودینگ\n",
        "relation_encoding = {\n",
        "    'Head': '1', 'Spouse': '2', 'Child': '3', 'SonDaughter_inLaw': '4', \n",
        "    'GrandSonDaughter': '5', 'Parent': '6', 'Sibling': '7', 'OtherRelative': '8', \n",
        "    'NonRelative': '9'\n",
        "}\n",
        "\n",
        "gender_encoding = {'Male': '1', 'Female': '2'}\n",
        "\n",
        "literacy_encoding = {'literate': '1', 'illiterate': '2'}\n",
        "\n",
        "yesno_encoding = {'Yes': '1', 'No': '2'}\n",
        "\n",
        "education_encoding = {\n",
        "    'Elemantry': '1', 'Secondary': '2', 'HighSchool': '3', 'Diploma': '4', \n",
        "    'College': '5', 'Bachelor': '6', 'Master': '7', 'PhD': '8', 'Other': '9'\n",
        "}\n",
        "\n",
        "occupation_encoding = {\n",
        "    'employed': '1', 'unemployed': '2', 'IncomeWOJob': '3', 'Student': '4', \n",
        "    'Housewife': '5', 'Other': '6'\n",
        "}\n",
        "\n",
        "marital_encoding = {'Married': '1', 'Widowed': '2', 'Divorced': '3', 'Single': '4'}\n"
      ]
    },
    {
      "cell_type": "code",
      "execution_count": 37,
      "metadata": {},
      "outputs": [],
      "source": [
        "\n",
        "R98P1['relation_encoded'] = R98P1['relation'].map(relation_encoding)\n",
        "R98P1['gender_encoded'] = R98P1['gender'].map(gender_encoding)\n",
        "R98P1['literacy_encoded'] = R98P1['literacy'].map(literacy_encoding)\n",
        "R98P1['studying_encoded'] = R98P1['studying'].map(yesno_encoding)\n",
        "R98P1['degree_encoded'] = R98P1['degree'].map(education_encoding)\n",
        "R98P1['occupationalst_encoded'] = R98P1['occupationalst'].map(occupation_encoding)\n",
        "R98P1['maritalst_encoded'] = R98P1['maritalst'].map(marital_encoding)\n"
      ]
    },
    {
      "cell_type": "code",
      "execution_count": 38,
      "metadata": {},
      "outputs": [],
      "source": [
        "R98P1 = R98P1.drop(columns=['relation', 'gender', 'literacy', 'studying', 'degree', 'occupationalst', 'maritalst'])"
      ]
    },
    {
      "cell_type": "code",
      "execution_count": 39,
      "metadata": {},
      "outputs": [
        {
          "data": {
            "text/html": [
              "<div>\n",
              "<style scoped>\n",
              "    .dataframe tbody tr th:only-of-type {\n",
              "        vertical-align: middle;\n",
              "    }\n",
              "\n",
              "    .dataframe tbody tr th {\n",
              "        vertical-align: top;\n",
              "    }\n",
              "\n",
              "    .dataframe thead th {\n",
              "        text-align: right;\n",
              "    }\n",
              "</style>\n",
              "<table border=\"1\" class=\"dataframe\">\n",
              "  <thead>\n",
              "    <tr style=\"text-align: right;\">\n",
              "      <th></th>\n",
              "      <th>Address</th>\n",
              "      <th>member</th>\n",
              "      <th>age</th>\n",
              "      <th>relation_encoded</th>\n",
              "      <th>gender_encoded</th>\n",
              "      <th>literacy_encoded</th>\n",
              "      <th>studying_encoded</th>\n",
              "      <th>degree_encoded</th>\n",
              "      <th>occupationalst_encoded</th>\n",
              "      <th>maritalst_encoded</th>\n",
              "    </tr>\n",
              "  </thead>\n",
              "  <tbody>\n",
              "    <tr>\n",
              "      <th>0</th>\n",
              "      <td>20010394208</td>\n",
              "      <td>1</td>\n",
              "      <td>50</td>\n",
              "      <td>1</td>\n",
              "      <td>1</td>\n",
              "      <td>1</td>\n",
              "      <td>2</td>\n",
              "      <td>1</td>\n",
              "      <td>1</td>\n",
              "      <td>1</td>\n",
              "    </tr>\n",
              "    <tr>\n",
              "      <th>1</th>\n",
              "      <td>20010394208</td>\n",
              "      <td>2</td>\n",
              "      <td>45</td>\n",
              "      <td>2</td>\n",
              "      <td>2</td>\n",
              "      <td>2</td>\n",
              "      <td>NaN</td>\n",
              "      <td>NaN</td>\n",
              "      <td>5</td>\n",
              "      <td>1</td>\n",
              "    </tr>\n",
              "    <tr>\n",
              "      <th>2</th>\n",
              "      <td>20010394208</td>\n",
              "      <td>3</td>\n",
              "      <td>26</td>\n",
              "      <td>3</td>\n",
              "      <td>2</td>\n",
              "      <td>1</td>\n",
              "      <td>2</td>\n",
              "      <td>1</td>\n",
              "      <td>5</td>\n",
              "      <td>1</td>\n",
              "    </tr>\n",
              "    <tr>\n",
              "      <th>3</th>\n",
              "      <td>20010394208</td>\n",
              "      <td>4</td>\n",
              "      <td>25</td>\n",
              "      <td>3</td>\n",
              "      <td>1</td>\n",
              "      <td>1</td>\n",
              "      <td>2</td>\n",
              "      <td>6</td>\n",
              "      <td>1</td>\n",
              "      <td>4</td>\n",
              "    </tr>\n",
              "    <tr>\n",
              "      <th>4</th>\n",
              "      <td>20010394208</td>\n",
              "      <td>5</td>\n",
              "      <td>14</td>\n",
              "      <td>3</td>\n",
              "      <td>1</td>\n",
              "      <td>1</td>\n",
              "      <td>1</td>\n",
              "      <td>2</td>\n",
              "      <td>4</td>\n",
              "      <td>4</td>\n",
              "    </tr>\n",
              "  </tbody>\n",
              "</table>\n",
              "</div>"
            ],
            "text/plain": [
              "       Address  member  age relation_encoded gender_encoded literacy_encoded  \\\n",
              "0  20010394208       1   50                1              1                1   \n",
              "1  20010394208       2   45                2              2                2   \n",
              "2  20010394208       3   26                3              2                1   \n",
              "3  20010394208       4   25                3              1                1   \n",
              "4  20010394208       5   14                3              1                1   \n",
              "\n",
              "  studying_encoded degree_encoded occupationalst_encoded maritalst_encoded  \n",
              "0                2              1                      1                 1  \n",
              "1              NaN            NaN                      5                 1  \n",
              "2                2              1                      5                 1  \n",
              "3                2              6                      1                 4  \n",
              "4                1              2                      4                 4  "
            ]
          },
          "execution_count": 39,
          "metadata": {},
          "output_type": "execute_result"
        }
      ],
      "source": [
        "R98P1.head()"
      ]
    },
    {
      "cell_type": "code",
      "execution_count": 40,
      "metadata": {},
      "outputs": [
        {
          "name": "stdout",
          "output_type": "stream",
          "text": [
            "نوع داده‌های هر ستون:\n",
            "Address                    int64\n",
            "member                     int64\n",
            "age                        int64\n",
            "relation_encoded          object\n",
            "gender_encoded            object\n",
            "literacy_encoded          object\n",
            "studying_encoded          object\n",
            "degree_encoded            object\n",
            "occupationalst_encoded    object\n",
            "maritalst_encoded         object\n",
            "dtype: object\n"
          ]
        }
      ],
      "source": [
        "# نمایش نوع داده‌ها برای هر ستون\n",
        "print(\"نوع داده‌های هر ستون:\")\n",
        "print(R98P1.dtypes)\n"
      ]
    },
    {
      "cell_type": "code",
      "execution_count": 41,
      "metadata": {},
      "outputs": [
        {
          "name": "stdout",
          "output_type": "stream",
          "text": [
            "مقادیر یونیک در ستون 'relation_encoded': ['1' '2' '3' '6' '5' '7' '8' '4' '9']\n",
            "مقادیر یونیک در ستون 'gender_encoded': ['1' '2']\n",
            "مقادیر یونیک در ستون 'literacy_encoded': ['1' '2' nan]\n",
            "مقادیر یونیک در ستون 'studying_encoded': ['2' nan '1']\n",
            "مقادیر یونیک در ستون 'degree_encoded': ['1' nan '6' '2' '4' '7' '3' '5' '9' '8']\n",
            "مقادیر یونیک در ستون 'occupationalst_encoded': ['1' '5' '4' nan '3' '2' '6']\n",
            "مقادیر یونیک در ستون 'maritalst_encoded': ['1' '4' nan '2' '3']\n"
          ]
        }
      ],
      "source": [
        "# بررسی مقادیر یونیک در هر ستون انکود شده\n",
        "print(\"مقادیر یونیک در ستون 'relation_encoded':\", R98P1['relation_encoded'].unique())\n",
        "print(\"مقادیر یونیک در ستون 'gender_encoded':\", R98P1['gender_encoded'].unique())\n",
        "print(\"مقادیر یونیک در ستون 'literacy_encoded':\", R98P1['literacy_encoded'].unique())\n",
        "print(\"مقادیر یونیک در ستون 'studying_encoded':\", R98P1['studying_encoded'].unique())\n",
        "print(\"مقادیر یونیک در ستون 'degree_encoded':\", R98P1['degree_encoded'].unique())\n",
        "print(\"مقادیر یونیک در ستون 'occupationalst_encoded':\", R98P1['occupationalst_encoded'].unique())\n",
        "print(\"مقادیر یونیک در ستون 'maritalst_encoded':\", R98P1['maritalst_encoded'].unique())\n"
      ]
    },
    {
      "cell_type": "code",
      "execution_count": 42,
      "metadata": {},
      "outputs": [],
      "source": [
        "from sklearn.ensemble import RandomForestClassifier\n",
        "from sklearn.model_selection import train_test_split\n",
        "from sklearn.metrics import accuracy_score, recall_score, f1_score, classification_report\n"
      ]
    },
    {
      "cell_type": "code",
      "execution_count": 43,
      "metadata": {},
      "outputs": [],
      "source": [
        "df_encoded = R98P1.copy()"
      ]
    },
    {
      "cell_type": "code",
      "execution_count": 44,
      "metadata": {},
      "outputs": [],
      "source": [
        "# بررسی ستون‌ها و جدا کردن داده‌های مفقود و غیر مفقود\n",
        "df_not_null = df_encoded[df_encoded['studying_encoded'].notnull()]\n",
        "df_null = df_encoded[df_encoded['studying_encoded'].isnull()]"
      ]
    },
    {
      "cell_type": "code",
      "execution_count": 45,
      "metadata": {},
      "outputs": [],
      "source": [
        "X = df_not_null.drop(['studying_encoded'], axis=1)\n",
        "y = df_not_null['studying_encoded']\n"
      ]
    },
    {
      "cell_type": "code",
      "execution_count": 46,
      "metadata": {},
      "outputs": [],
      "source": [
        "X_train, X_test, y_train, y_test = train_test_split(X, y, test_size=0.2, random_state=42)"
      ]
    },
    {
      "cell_type": "code",
      "execution_count": 47,
      "metadata": {},
      "outputs": [
        {
          "name": "stdout",
          "output_type": "stream",
          "text": [
            "Accuracy: 0.9942452412571935\n",
            "Recall: 0.9843107956667911\n",
            "F1 Score: 0.9902292371288989\n"
          ]
        }
      ],
      "source": [
        "\n",
        "model = RandomForestClassifier()\n",
        "\n",
        "\n",
        "model.fit(X_train, y_train)\n",
        "\n",
        "\n",
        "y_pred = model.predict(X_test)\n",
        "\n",
        "\n",
        "y_test_numeric = y_test.astype(int)\n",
        "y_pred_numeric = y_pred.astype(int)\n",
        "\n",
        "# محاسبه دقت (Accuracy)\n",
        "accuracy = accuracy_score(y_test_numeric, y_pred_numeric)\n",
        "print(f'Accuracy: {accuracy}')\n",
        "\n",
        "# محاسبه Recall و F1 Score\n",
        "recall = recall_score(y_test_numeric, y_pred_numeric)\n",
        "f1 = f1_score(y_test_numeric, y_pred_numeric)\n",
        "\n",
        "print(f'Recall: {recall}')\n",
        "print(f'F1 Score: {f1}')"
      ]
    },
    {
      "cell_type": "code",
      "execution_count": 48,
      "metadata": {},
      "outputs": [
        {
          "name": "stdout",
          "output_type": "stream",
          "text": [
            "       Address  member  age relation_encoded gender_encoded literacy_encoded  \\\n",
            "0  20010394208       1   50                1              1                1   \n",
            "1  20010394208       2   45                2              2                2   \n",
            "2  20010394208       3   26                3              2                1   \n",
            "3  20010394208       4   25                3              1                1   \n",
            "4  20010394208       5   14                3              1                1   \n",
            "\n",
            "  studying_encoded degree_encoded occupationalst_encoded maritalst_encoded  \n",
            "0                2              1                      1                 1  \n",
            "1                2            NaN                      5                 1  \n",
            "2                2              1                      5                 1  \n",
            "3                2              6                      1                 4  \n",
            "4                1              2                      4                 4  \n"
          ]
        }
      ],
      "source": [
        "\n",
        "X_null = df_null.drop(['studying_encoded'], axis=1)\n",
        "\n",
        "\n",
        "df_null.loc[:, 'studying_encoded'] = model.predict(X_null)\n",
        "\n",
        "\n",
        "R98P1_filled = pd.concat([df_not_null, df_null])\n",
        "\n",
        "\n",
        "R98P1_filled.sort_index(inplace=True)\n",
        "\n",
        "\n",
        "print(R98P1_filled.head())"
      ]
    },
    {
      "cell_type": "code",
      "execution_count": 49,
      "metadata": {},
      "outputs": [
        {
          "data": {
            "text/plain": [
              "Address                    0.000000\n",
              "member                     0.000000\n",
              "age                        0.000000\n",
              "relation_encoded           0.000000\n",
              "gender_encoded             0.000000\n",
              "literacy_encoded           9.703559\n",
              "studying_encoded           0.000000\n",
              "degree_encoded            29.735909\n",
              "occupationalst_encoded    16.623118\n",
              "maritalst_encoded         16.621563\n",
              "dtype: float64"
            ]
          },
          "execution_count": 49,
          "metadata": {},
          "output_type": "execute_result"
        }
      ],
      "source": [
        "missing_percentage = R98P1_filled.isnull().sum() / len(R98P1) * 100\n",
        "missing_percentage.sort_values(ascending=False)  \n",
        "missing_percentage"
      ]
    },
    {
      "cell_type": "code",
      "execution_count": 50,
      "metadata": {},
      "outputs": [],
      "source": [
        "df_encoded2 = R98P1_filled.copy()"
      ]
    },
    {
      "cell_type": "code",
      "execution_count": 51,
      "metadata": {},
      "outputs": [
        {
          "name": "stdout",
          "output_type": "stream",
          "text": [
            "Accuracy: 0.9942452412571935\n",
            "       Address  member  age relation_encoded gender_encoded literacy_encoded  \\\n",
            "0  20010394208       1   50                1              1                1   \n",
            "1  20010394208       2   45                2              2                2   \n",
            "2  20010394208       3   26                3              2                1   \n",
            "3  20010394208       4   25                3              1                1   \n",
            "4  20010394208       5   14                3              1                1   \n",
            "\n",
            "  studying_encoded degree_encoded occupationalst_encoded maritalst_encoded  \n",
            "0                2              1                      1                 1  \n",
            "1                2            NaN                      5                 1  \n",
            "2                2              1                      5                 1  \n",
            "3                2              6                      1                 4  \n",
            "4                1              2                      4                 4  \n"
          ]
        }
      ],
      "source": [
        "\n",
        "df_not_null = df_encoded2[df_encoded2['literacy_encoded'].notnull()]\n",
        "df_null = df_encoded2[df_encoded2['literacy_encoded'].isnull()]\n",
        "\n",
        "\n",
        "X = df_not_null.drop(['literacy_encoded'], axis=1)\n",
        "y = df_not_null['literacy_encoded']\n",
        "\n",
        "\n",
        "X_train, X_test, y_train, y_test = train_test_split(X, y, test_size=0.2, random_state=42)\n",
        "\n",
        "\n",
        "model = RandomForestClassifier()\n",
        "\n",
        "\n",
        "model.fit(X_train, y_train)\n",
        "\n",
        "\n",
        "y_pred = model.predict(X_test)\n",
        "\n",
        "\n",
        "\n",
        "\n",
        "accuracy = accuracy_score(y_test_numeric, y_pred_numeric)\n",
        "print(f'Accuracy: {accuracy}')\n",
        "\n",
        "\n",
        "\n",
        "\n",
        "\n",
        "X_null = df_null.drop(['literacy_encoded'], axis=1)\n",
        "\n",
        "\n",
        "df_null.loc[:, 'literacy_encoded'] = model.predict(X_null)\n",
        "\n",
        "\n",
        "R98P1_filled = pd.concat([df_not_null, df_null])\n",
        "\n",
        "\n",
        "R98P1_filled.sort_index(inplace=True)\n",
        "\n",
        "\n",
        "print(R98P1_filled.head())"
      ]
    },
    {
      "cell_type": "code",
      "execution_count": 52,
      "metadata": {},
      "outputs": [
        {
          "data": {
            "text/plain": [
              "Address                    0.000000\n",
              "member                     0.000000\n",
              "age                        0.000000\n",
              "relation_encoded           0.000000\n",
              "gender_encoded             0.000000\n",
              "literacy_encoded           0.000000\n",
              "studying_encoded           0.000000\n",
              "degree_encoded            29.735909\n",
              "occupationalst_encoded    16.623118\n",
              "maritalst_encoded         16.621563\n",
              "dtype: float64"
            ]
          },
          "execution_count": 52,
          "metadata": {},
          "output_type": "execute_result"
        }
      ],
      "source": [
        "missing_percentage = R98P1_filled.isnull().sum() / len(R98P1) * 100\n",
        "missing_percentage.sort_values(ascending=False)  \n",
        "missing_percentage"
      ]
    },
    {
      "cell_type": "code",
      "execution_count": null,
      "metadata": {},
      "outputs": [],
      "source": []
    },
    {
      "cell_type": "code",
      "execution_count": 53,
      "metadata": {},
      "outputs": [],
      "source": [
        "df_encoded3 = R98P1_filled.copy()"
      ]
    },
    {
      "cell_type": "code",
      "execution_count": 54,
      "metadata": {},
      "outputs": [
        {
          "name": "stdout",
          "output_type": "stream",
          "text": [
            "Accuracy for degree_encoded: 0.5303231518370961\n",
            "       Address  member  age relation_encoded gender_encoded literacy_encoded  \\\n",
            "0  20010394208       1   50                1              1                1   \n",
            "1  20010394208       2   45                2              2                2   \n",
            "2  20010394208       3   26                3              2                1   \n",
            "3  20010394208       4   25                3              1                1   \n",
            "4  20010394208       5   14                3              1                1   \n",
            "\n",
            "  studying_encoded degree_encoded occupationalst_encoded maritalst_encoded  \n",
            "0                2              1                      1                 1  \n",
            "1                2              1                      5                 1  \n",
            "2                2              1                      5                 1  \n",
            "3                2              6                      1                 4  \n",
            "4                1              2                      4                 4  \n"
          ]
        }
      ],
      "source": [
        "\n",
        "df_not_null = df_encoded3[df_encoded3['degree_encoded'].notnull()]\n",
        "df_null = df_encoded3[df_encoded3['degree_encoded'].isnull()]\n",
        "\n",
        "\n",
        "X = df_not_null.drop(['degree_encoded'], axis=1)\n",
        "y = df_not_null['degree_encoded']\n",
        "\n",
        "\n",
        "X_train, X_test, y_train, y_test = train_test_split(X, y, test_size=0.2, random_state=42)\n",
        "\n",
        "\n",
        "model = RandomForestClassifier()\n",
        "\n",
        "\n",
        "model.fit(X_train, y_train)\n",
        "\n",
        "\n",
        "y_pred = model.predict(X_test)\n",
        "\n",
        "\n",
        "print(f'Accuracy for degree_encoded: {accuracy_score(y_test, y_pred)}')\n",
        "\n",
        "\n",
        "X_null = df_null.drop(['degree_encoded'], axis=1)\n",
        "\n",
        "\n",
        "df_null.loc[:, 'degree_encoded'] = model.predict(X_null)\n",
        "\n",
        "\n",
        "R98P1_filled = pd.concat([df_not_null, df_null])\n",
        "\n",
        "\n",
        "R98P1_filled.sort_index(inplace=True)\n",
        "\n",
        "\n",
        "print(R98P1_filled.head())"
      ]
    },
    {
      "cell_type": "code",
      "execution_count": 55,
      "metadata": {},
      "outputs": [
        {
          "data": {
            "text/plain": [
              "Address                    0.000000\n",
              "member                     0.000000\n",
              "age                        0.000000\n",
              "relation_encoded           0.000000\n",
              "gender_encoded             0.000000\n",
              "literacy_encoded           0.000000\n",
              "studying_encoded           0.000000\n",
              "degree_encoded             0.000000\n",
              "occupationalst_encoded    16.623118\n",
              "maritalst_encoded         16.621563\n",
              "dtype: float64"
            ]
          },
          "execution_count": 55,
          "metadata": {},
          "output_type": "execute_result"
        }
      ],
      "source": [
        "missing_percentage = R98P1_filled.isnull().sum() / len(R98P1) * 100\n",
        "missing_percentage.sort_values(ascending=False)  \n",
        "missing_percentage"
      ]
    },
    {
      "cell_type": "code",
      "execution_count": 56,
      "metadata": {},
      "outputs": [],
      "source": [
        "df_encoded4 = R98P1_filled.copy()"
      ]
    },
    {
      "cell_type": "code",
      "execution_count": 57,
      "metadata": {},
      "outputs": [
        {
          "name": "stdout",
          "output_type": "stream",
          "text": [
            "Accuracy for occupationalst_encoded : 0.7983585152023877\n",
            "       Address  member  age relation_encoded gender_encoded literacy_encoded  \\\n",
            "0  20010394208       1   50                1              1                1   \n",
            "1  20010394208       2   45                2              2                2   \n",
            "2  20010394208       3   26                3              2                1   \n",
            "3  20010394208       4   25                3              1                1   \n",
            "4  20010394208       5   14                3              1                1   \n",
            "\n",
            "  studying_encoded degree_encoded occupationalst_encoded maritalst_encoded  \n",
            "0                2              1                      1                 1  \n",
            "1                2              1                      5                 1  \n",
            "2                2              1                      5                 1  \n",
            "3                2              6                      1                 4  \n",
            "4                1              2                      4                 4  \n"
          ]
        }
      ],
      "source": [
        "\n",
        "df_not_null = df_encoded4[df_encoded4['occupationalst_encoded'].notnull()]\n",
        "df_null = df_encoded4[df_encoded4['occupationalst_encoded'].isnull()]\n",
        "\n",
        "\n",
        "X = df_not_null.drop(['occupationalst_encoded'], axis=1)\n",
        "y = df_not_null['occupationalst_encoded']\n",
        "\n",
        "\n",
        "X_train, X_test, y_train, y_test = train_test_split(X, y, test_size=0.2, random_state=42)\n",
        "\n",
        "\n",
        "model = RandomForestClassifier()\n",
        "\n",
        "\n",
        "model.fit(X_train, y_train)\n",
        "\n",
        "\n",
        "y_pred = model.predict(X_test)\n",
        "\n",
        "\n",
        "print(f'Accuracy for occupationalst_encoded : {accuracy_score(y_test, y_pred)}')\n",
        "\n",
        "\n",
        "X_null = df_null.drop(['occupationalst_encoded'], axis=1)\n",
        "\n",
        "\n",
        "df_null.loc[:, 'occupationalst_encoded'] = model.predict(X_null)\n",
        "\n",
        "\n",
        "R98P1_filled = pd.concat([df_not_null, df_null])\n",
        "\n",
        "\n",
        "R98P1_filled.sort_index(inplace=True)\n",
        "\n",
        "\n",
        "print(R98P1_filled.head())"
      ]
    },
    {
      "cell_type": "code",
      "execution_count": 58,
      "metadata": {},
      "outputs": [
        {
          "data": {
            "text/plain": [
              "Address                    0.000000\n",
              "member                     0.000000\n",
              "age                        0.000000\n",
              "relation_encoded           0.000000\n",
              "gender_encoded             0.000000\n",
              "literacy_encoded           0.000000\n",
              "studying_encoded           0.000000\n",
              "degree_encoded             0.000000\n",
              "occupationalst_encoded     0.000000\n",
              "maritalst_encoded         16.621563\n",
              "dtype: float64"
            ]
          },
          "execution_count": 58,
          "metadata": {},
          "output_type": "execute_result"
        }
      ],
      "source": [
        "missing_percentage = R98P1_filled.isnull().sum() / len(R98P1) * 100\n",
        "missing_percentage.sort_values(ascending=False)  \n",
        "missing_percentage"
      ]
    },
    {
      "cell_type": "code",
      "execution_count": 59,
      "metadata": {},
      "outputs": [],
      "source": [
        "df_encoded5 = R98P1_filled.copy()"
      ]
    },
    {
      "cell_type": "code",
      "execution_count": 60,
      "metadata": {},
      "outputs": [
        {
          "name": "stdout",
          "output_type": "stream",
          "text": [
            "Accuracy for maritalst_encoded : 0.9271591121059504\n",
            "       Address  member  age relation_encoded gender_encoded literacy_encoded  \\\n",
            "0  20010394208       1   50                1              1                1   \n",
            "1  20010394208       2   45                2              2                2   \n",
            "2  20010394208       3   26                3              2                1   \n",
            "3  20010394208       4   25                3              1                1   \n",
            "4  20010394208       5   14                3              1                1   \n",
            "\n",
            "  studying_encoded degree_encoded occupationalst_encoded maritalst_encoded  \n",
            "0                2              1                      1                 1  \n",
            "1                2              1                      5                 1  \n",
            "2                2              1                      5                 1  \n",
            "3                2              6                      1                 4  \n",
            "4                1              2                      4                 4  \n"
          ]
        }
      ],
      "source": [
        "\n",
        "df_not_null = df_encoded5[df_encoded5['maritalst_encoded'].notnull()]\n",
        "df_null = df_encoded5[df_encoded5['maritalst_encoded'].isnull()]\n",
        "\n",
        "\n",
        "X = df_not_null.drop(['maritalst_encoded'], axis=1)\n",
        "y = df_not_null['maritalst_encoded']\n",
        "\n",
        "\n",
        "X_train, X_test, y_train, y_test = train_test_split(X, y, test_size=0.2, random_state=42)\n",
        "\n",
        "\n",
        "model = RandomForestClassifier()\n",
        "\n",
        "\n",
        "model.fit(X_train, y_train)\n",
        "\n",
        "\n",
        "y_pred = model.predict(X_test)\n",
        "\n",
        "\n",
        "print(f'Accuracy for maritalst_encoded : {accuracy_score(y_test, y_pred)}')\n",
        "\n",
        "\n",
        "X_null = df_null.drop(['maritalst_encoded'], axis=1)\n",
        "\n",
        "\n",
        "df_null.loc[:, 'maritalst_encoded'] = model.predict(X_null)\n",
        "\n",
        "\n",
        "R98P1_filled = pd.concat([df_not_null, df_null])\n",
        "\n",
        "\n",
        "R98P1_filled.sort_index(inplace=True)\n",
        "\n",
        "\n",
        "print(R98P1_filled.head())"
      ]
    },
    {
      "cell_type": "markdown",
      "metadata": {},
      "source": [
        "اسم شیت نهایی R98P1_filled"
      ]
    },
    {
      "cell_type": "markdown",
      "metadata": {},
      "source": [
        "----------------روش دوم"
      ]
    },
    {
      "cell_type": "code",
      "execution_count": null,
      "metadata": {},
      "outputs": [],
      "source": [
        "R98P1_filled = R98P1.copy()"
      ]
    },
    {
      "cell_type": "code",
      "execution_count": null,
      "metadata": {},
      "outputs": [],
      "source": [
        "print(\"\\nدرصد مقادیر نال قبل از پر کردن:\")\n",
        "print(R98P1_filled[feature_columns].isnull().mean() * 100)"
      ]
    },
    {
      "cell_type": "code",
      "execution_count": null,
      "metadata": {},
      "outputs": [],
      "source": [
        "from sklearn.ensemble import RandomForestRegressor, RandomForestClassifier\n",
        "from sklearn.experimental import enable_iterative_imputer\n",
        "from sklearn.impute import IterativeImputer\n",
        "from sklearn.preprocessing import LabelEncoder\n"
      ]
    },
    {
      "cell_type": "code",
      "execution_count": null,
      "metadata": {},
      "outputs": [],
      "source": [
        "categorical_columns = ['relation_encoded', 'gender_encoded', 'literacy_encoded', 'studying_encoded', 'degree_encoded', \n",
        "\n",
        "                     'occupationalst_encoded', 'maritalst_encoded']\n",
        "feature_columns = ['Address', 'member', 'age', 'relation_encoded', 'gender_encoded'] + categorical_columns"
      ]
    },
    {
      "cell_type": "code",
      "execution_count": null,
      "metadata": {},
      "outputs": [],
      "source": [
        "def round_to_integer(x):\n",
        "    return np.round(x).astype(int)"
      ]
    },
    {
      "cell_type": "code",
      "execution_count": null,
      "metadata": {},
      "outputs": [],
      "source": [
        "# پر کردن مقادیر نال برای ستون‌های کتگوریکال\n",
        "for col in categorical_columns:\n",
        "    # ایجاد یک IterativeImputer با RandomForestClassifier\n",
        "    imputer = IterativeImputer(\n",
        "        estimator=RandomForestClassifier(n_estimators=100, random_state=42),\n",
        "        random_state=42,\n",
        "        max_iter=10\n",
        "    )\n",
        "    \n",
        "    # اعمال imputer روی داده‌ها\n",
        "    imputed_data = imputer.fit_transform(R98P1_filled[feature_columns])\n",
        "    \n",
        "    # جایگزینی مقادیر پر شده و گرد کردن به نزدیک‌ترین عدد صحیح\n",
        "    col_index = feature_columns.index(col)\n",
        "    R98P1_filled[col] = round_to_integer(imputed_data[:, col_index])\n",
        "\n",
        "\n",
        "    \n",
        "    imputed_data = imputer.fit_transform(R98P1_filled[feature_columns])\n",
        "    \n",
        "\n",
        "\n",
        "#print(\"داده‌ها با موفقیت در دیتافریم df_imputed پر شدند.\")"
      ]
    },
    {
      "cell_type": "code",
      "execution_count": null,
      "metadata": {},
      "outputs": [],
      "source": [
        "#print(\"\\nدرصد مقادیر نال بعد از پر کردن:\")\n",
        "#print(R98P1_filled[columns_to_impute].isnull().mean() * 100)"
      ]
    },
    {
      "cell_type": "code",
      "execution_count": null,
      "metadata": {},
      "outputs": [],
      "source": [
        "R98P1_filled.head()"
      ]
    },
    {
      "cell_type": "code",
      "execution_count": null,
      "metadata": {},
      "outputs": [],
      "source": []
    },
    {
      "cell_type": "code",
      "execution_count": null,
      "metadata": {},
      "outputs": [],
      "source": [
        "# بررسی ستون‌های عددی\n",
        "numerical_columns = R98P1_filled.select_dtypes(include=['number']).columns\n",
        "print(\"ستون‌های عددی:\")\n",
        "print(numerical_columns)\n"
      ]
    },
    {
      "cell_type": "code",
      "execution_count": null,
      "metadata": {},
      "outputs": [],
      "source": [
        "# بررسی داده‌های پرت بر اساس IQR\n",
        "for column in numerical_columns:\n",
        "    Q1 = R98P1_filled[column].quantile(0.25)\n",
        "    Q3 = R98P1_filled[column].quantile(0.75)\n",
        "    IQR = Q3 - Q1\n",
        "    outliers = ((R98P1_filled[column] < (Q1 - 1.5 * IQR)) | (R98P1_filled[column] > (Q3 + 1.5 * IQR))).sum()\n",
        "    if outliers > 0:\n",
        "        print(f\"تعداد داده‌های پرت در ستون {column}: {outliers}\")\n"
      ]
    },
    {
      "cell_type": "code",
      "execution_count": null,
      "metadata": {},
      "outputs": [],
      "source": [
        "\n",
        "\n",
        "\n",
        "df = R98P1_filled.copy()\n",
        "\n",
        "\n",
        "Q1 = df['member'].quantile(0.25)\n",
        "Q3 = df['member'].quantile(0.75)\n",
        "IQR = Q3 - Q1\n",
        "\n",
        "\n",
        "lower_bound = Q1 - 1.5 * IQR\n",
        "upper_bound = Q3 + 1.5 * IQR\n",
        "\n",
        "\n",
        "outliers = df[(df['member'] < lower_bound) | (df['member'] > upper_bound)]\n",
        "\n",
        "\n",
        "print(f'Number of outliers: {len(outliers)}')\n",
        "\n",
        "\n",
        "\n",
        "df['member'] = df['member'].clip(lower_bound, upper_bound)\n",
        "\n",
        "\n",
        "print(df.describe())\n"
      ]
    },
    {
      "cell_type": "code",
      "execution_count": null,
      "metadata": {},
      "outputs": [],
      "source": [
        "# بررسی داده‌های پرت بر اساس IQR\n",
        "for column in numerical_columns:\n",
        "    Q1 = df[column].quantile(0.25)\n",
        "    Q3 = df[column].quantile(0.75)\n",
        "    IQR = Q3 - Q1\n",
        "    outliers = ((df[column] < (Q1 - 1.5 * IQR)) | (df[column] > (Q3 + 1.5 * IQR))).sum()\n",
        "    if outliers > 0:\n",
        "        print(f\"تعداد داده‌های پرت در ستون {column}: {outliers}\")"
      ]
    },
    {
      "cell_type": "code",
      "execution_count": null,
      "metadata": {},
      "outputs": [],
      "source": [
        "df_P1_filled = df.copy()"
      ]
    },
    {
      "cell_type": "markdown",
      "metadata": {},
      "source": [
        "شیت نهایی df_P1_filled"
      ]
    },
    {
      "cell_type": "markdown",
      "metadata": {},
      "source": [
        "بررسی شیت R98P2"
      ]
    },
    {
      "cell_type": "code",
      "execution_count": 61,
      "metadata": {},
      "outputs": [
        {
          "name": "stdout",
          "output_type": "stream",
          "text": [
            "<class 'pandas.core.frame.DataFrame'>\n",
            "RangeIndex: 18430 entries, 0 to 18429\n",
            "Data columns (total 45 columns):\n",
            " #   Column               Non-Null Count  Dtype \n",
            "---  ------               --------------  ----- \n",
            " 0   Address              18430 non-null  int64 \n",
            " 1   tenure               18430 non-null  object\n",
            " 2   room                 18430 non-null  int64 \n",
            " 3   space                18430 non-null  int64 \n",
            " 4   construction         18430 non-null  int64 \n",
            " 5   material             14816 non-null  object\n",
            " 6   vehicle              18430 non-null  bool  \n",
            " 7   motorcycle           18430 non-null  bool  \n",
            " 8   bicycle              18430 non-null  bool  \n",
            " 9   radio                18430 non-null  bool  \n",
            " 10  radiotape            18430 non-null  bool  \n",
            " 11  TVbw                 18430 non-null  bool  \n",
            " 12  TV                   18430 non-null  bool  \n",
            " 13  VHS_VCD_DVD          18430 non-null  bool  \n",
            " 14  computer             18430 non-null  bool  \n",
            " 15  cellphone            18430 non-null  bool  \n",
            " 16  freezer              18430 non-null  bool  \n",
            " 17  refridgerator        18430 non-null  bool  \n",
            " 18  fridge               18430 non-null  bool  \n",
            " 19  stove                18430 non-null  bool  \n",
            " 20  vacuum               18430 non-null  bool  \n",
            " 21  washingmachine       18430 non-null  bool  \n",
            " 22  sewingmachine        18430 non-null  bool  \n",
            " 23  fan                  18430 non-null  bool  \n",
            " 24  evapcoolingportable  18430 non-null  bool  \n",
            " 25  splitportable        18430 non-null  bool  \n",
            " 26  dishwasher           18430 non-null  bool  \n",
            " 27  microwave            18430 non-null  bool  \n",
            " 28  none                 18430 non-null  bool  \n",
            " 29  pipewater            18430 non-null  bool  \n",
            " 30  electricity          18430 non-null  bool  \n",
            " 31  pipegas              18430 non-null  bool  \n",
            " 32  telephone            18430 non-null  bool  \n",
            " 33  internet             18430 non-null  bool  \n",
            " 34  bathroom             18430 non-null  bool  \n",
            " 35  kitchen              18430 non-null  bool  \n",
            " 36  evapcooling          18430 non-null  bool  \n",
            " 37  centralcooling       18430 non-null  bool  \n",
            " 38  centralheating       18430 non-null  bool  \n",
            " 39  package              18430 non-null  bool  \n",
            " 40  split                18430 non-null  bool  \n",
            " 41  wastewater           18430 non-null  bool  \n",
            " 42  cookingfuel          18424 non-null  object\n",
            " 43  heatingfuel          17895 non-null  object\n",
            " 44  waterheatingfuel     18083 non-null  object\n",
            "dtypes: bool(36), int64(4), object(5)\n",
            "memory usage: 1.9+ MB\n"
          ]
        }
      ],
      "source": [
        "R98P2.info()"
      ]
    },
    {
      "cell_type": "code",
      "execution_count": 62,
      "metadata": {},
      "outputs": [
        {
          "name": "stdout",
          "output_type": "stream",
          "text": [
            "material            19.609333\n",
            "heatingfuel          2.902876\n",
            "waterheatingfuel     1.882800\n",
            "cookingfuel          0.032556\n",
            "dtype: float64\n"
          ]
        }
      ],
      "source": [
        "missing_percentage = R98P2.isnull().mean() * 100  # درصد مقادیر نال\n",
        "missing_percentage = missing_percentage[missing_percentage > 0]  # فقط مقادیر نال را نگه‌دارید\n",
        "missing_percentage = missing_percentage.sort_values(ascending=False)  # مرتب‌سازی به ترتیب نزولی\n",
        "\n",
        "print(missing_percentage)"
      ]
    },
    {
      "cell_type": "code",
      "execution_count": 63,
      "metadata": {},
      "outputs": [],
      "source": [
        "R98P2_cleaned = R98P2.dropna(subset=['heatingfuel', 'waterheatingfuel', 'cookingfuel'])"
      ]
    },
    {
      "cell_type": "code",
      "execution_count": 64,
      "metadata": {},
      "outputs": [
        {
          "name": "stdout",
          "output_type": "stream",
          "text": [
            "material    19.065378\n",
            "dtype: float64\n"
          ]
        }
      ],
      "source": [
        "missing_percentage = R98P2_cleaned.isnull().mean() * 100  # درصد مقادیر نال\n",
        "missing_percentage = missing_percentage[missing_percentage > 0]  # فقط مقادیر نال را نگه‌دارید\n",
        "missing_percentage = missing_percentage.sort_values(ascending=False)  # مرتب‌سازی به ترتیب نزولی\n",
        "\n",
        "print(missing_percentage)"
      ]
    },
    {
      "cell_type": "code",
      "execution_count": 65,
      "metadata": {},
      "outputs": [
        {
          "name": "stdout",
          "output_type": "stream",
          "text": [
            "نوع داده‌ها:\n",
            "Address                 int64\n",
            "tenure                 object\n",
            "room                    int64\n",
            "space                   int64\n",
            "construction            int64\n",
            "material               object\n",
            "vehicle                  bool\n",
            "motorcycle               bool\n",
            "bicycle                  bool\n",
            "radio                    bool\n",
            "radiotape                bool\n",
            "TVbw                     bool\n",
            "TV                       bool\n",
            "VHS_VCD_DVD              bool\n",
            "computer                 bool\n",
            "cellphone                bool\n",
            "freezer                  bool\n",
            "refridgerator            bool\n",
            "fridge                   bool\n",
            "stove                    bool\n",
            "vacuum                   bool\n",
            "washingmachine           bool\n",
            "sewingmachine            bool\n",
            "fan                      bool\n",
            "evapcoolingportable      bool\n",
            "splitportable            bool\n",
            "dishwasher               bool\n",
            "microwave                bool\n",
            "none                     bool\n",
            "pipewater                bool\n",
            "electricity              bool\n",
            "pipegas                  bool\n",
            "telephone                bool\n",
            "internet                 bool\n",
            "bathroom                 bool\n",
            "kitchen                  bool\n",
            "evapcooling              bool\n",
            "centralcooling           bool\n",
            "centralheating           bool\n",
            "package                  bool\n",
            "split                    bool\n",
            "wastewater               bool\n",
            "cookingfuel            object\n",
            "heatingfuel            object\n",
            "waterheatingfuel       object\n",
            "dtype: object\n"
          ]
        }
      ],
      "source": [
        "data_types = R98P2_cleaned.dtypes\n",
        "print(\"نوع داده‌ها:\")\n",
        "print(data_types)"
      ]
    },
    {
      "cell_type": "code",
      "execution_count": 66,
      "metadata": {},
      "outputs": [],
      "source": [
        "categorical_columns = R98P2_cleaned.select_dtypes(include=['object']).columns"
      ]
    },
    {
      "cell_type": "code",
      "execution_count": 67,
      "metadata": {},
      "outputs": [
        {
          "data": {
            "text/plain": [
              "Index(['tenure', 'material', 'cookingfuel', 'heatingfuel', 'waterheatingfuel'], dtype='object')"
            ]
          },
          "execution_count": 67,
          "metadata": {},
          "output_type": "execute_result"
        }
      ],
      "source": [
        "categorical_columns"
      ]
    },
    {
      "cell_type": "code",
      "execution_count": 68,
      "metadata": {},
      "outputs": [
        {
          "name": "stdout",
          "output_type": "stream",
          "text": [
            "مقادیر یونیک در ستون 'tenure':\n",
            "['OwnedEstateLand' 'Free' 'Rent' 'Service' 'Mortgage' 'Other'\n",
            " 'OwnedEstate']\n",
            "--------------------------------------------------\n",
            "مقادیر یونیک در ستون 'material':\n",
            "['WoodKesht' 'MetalBlock' 'BrickWood' 'KeshtGel' nan 'Brick' 'Wood'\n",
            " 'Cement' 'Other']\n",
            "--------------------------------------------------\n",
            "مقادیر یونیک در ستون 'cookingfuel':\n",
            "['NaturalGas' 'LiquidGas' 'Oil' 'Wood' 'Gasoline' 'Electricity']\n",
            "--------------------------------------------------\n",
            "مقادیر یونیک در ستون 'heatingfuel':\n",
            "['NaturalGas' 'Electricity' 'Oil' 'Wood' 'LiquidGas' 'Gasoline']\n",
            "--------------------------------------------------\n",
            "مقادیر یونیک در ستون 'waterheatingfuel':\n",
            "['NaturalGas' 'Oil' 'LiquidGas' 'Wood' 'Electricity' 'Other' 'Gasoline'\n",
            " 'AnimalOil']\n",
            "--------------------------------------------------\n"
          ]
        }
      ],
      "source": [
        "# لیست ستون‌های دسته‌بندی‌شده\n",
        "categorical_columns = ['tenure', 'material', 'cookingfuel', 'heatingfuel', 'waterheatingfuel']\n",
        "\n",
        "# حلقه برای مشاهده داده‌های یونیک در هر ستون\n",
        "for column in categorical_columns:\n",
        "    unique_values = R98P2_cleaned[column].unique()\n",
        "    print(f\"مقادیر یونیک در ستون '{column}':\")\n",
        "    print(unique_values)\n",
        "    print(\"-\" * 50)  # جداکننده برای خوانایی بیشتر\n"
      ]
    },
    {
      "cell_type": "code",
      "execution_count": 69,
      "metadata": {},
      "outputs": [
        {
          "name": "stderr",
          "output_type": "stream",
          "text": [
            "C:\\Users\\Admin\\AppData\\Local\\Temp\\ipykernel_13308\\1570508565.py:1: FutureWarning: Downcasting behavior in `replace` is deprecated and will be removed in a future version. To retain the old behavior, explicitly call `result.infer_objects(copy=False)`. To opt-in to the future behavior, set `pd.set_option('future.no_silent_downcasting', True)`\n",
            "  R98P2_cleaned.replace({True: 1, False: 0}, inplace=True)\n",
            "C:\\Users\\Admin\\AppData\\Local\\Temp\\ipykernel_13308\\1570508565.py:1: SettingWithCopyWarning: \n",
            "A value is trying to be set on a copy of a slice from a DataFrame\n",
            "\n",
            "See the caveats in the documentation: https://pandas.pydata.org/pandas-docs/stable/user_guide/indexing.html#returning-a-view-versus-a-copy\n",
            "  R98P2_cleaned.replace({True: 1, False: 0}, inplace=True)\n"
          ]
        }
      ],
      "source": [
        "R98P2_cleaned.replace({True: 1, False: 0}, inplace=True)"
      ]
    },
    {
      "cell_type": "code",
      "execution_count": 70,
      "metadata": {},
      "outputs": [],
      "source": [
        "tenure_mapping = {\n",
        "    'OwnedEstateLand': 1, 'OwnedEstate': 2, 'Rent': 3, 'Mortgage': 4,\n",
        "    'Service': 5, 'Free': 6, 'Other': 7\n",
        "}\n",
        "\n",
        "material_mapping = {\n",
        "    'MetalBlock': 1, 'BrickWood': 2, 'Cement': 3, 'Brick': 4,\n",
        "    'Wood': 5, 'WoodKesht': 6, 'KeshtGel': 7, 'Other': 8\n",
        "}\n",
        "\n",
        "cookingfuel_mapping = {\n",
        "    'NaturalGas': 1, 'LiquidGas': 2, 'Oil': 3, 'Electricity': 4,\n",
        "    'Gasoline': 5, 'Wood': 6\n",
        "}\n",
        "\n",
        "heatingfuel_mapping = {\n",
        "    'NaturalGas': 1, 'Oil': 2, 'Wood': 3, 'Electricity': 4,\n",
        "    'LiquidGas': 5, 'Gasoline': 6\n",
        "}\n",
        "\n",
        "waterheatingfuel_mapping = {\n",
        "    'NaturalGas': 1, 'Oil': 2, 'LiquidGas': 3, 'Wood': 4,\n",
        "    'Electricity': 5, 'AnimalOil': 6, 'Gasoline': 7, 'Other': 8\n",
        "}"
      ]
    },
    {
      "cell_type": "code",
      "execution_count": 71,
      "metadata": {},
      "outputs": [
        {
          "name": "stderr",
          "output_type": "stream",
          "text": [
            "C:\\Users\\Admin\\AppData\\Local\\Temp\\ipykernel_13308\\1026615689.py:1: SettingWithCopyWarning: \n",
            "A value is trying to be set on a copy of a slice from a DataFrame.\n",
            "Try using .loc[row_indexer,col_indexer] = value instead\n",
            "\n",
            "See the caveats in the documentation: https://pandas.pydata.org/pandas-docs/stable/user_guide/indexing.html#returning-a-view-versus-a-copy\n",
            "  R98P2_cleaned['tenure_encoded'] = R98P2_cleaned['tenure'].map(tenure_mapping)\n",
            "C:\\Users\\Admin\\AppData\\Local\\Temp\\ipykernel_13308\\1026615689.py:2: SettingWithCopyWarning: \n",
            "A value is trying to be set on a copy of a slice from a DataFrame.\n",
            "Try using .loc[row_indexer,col_indexer] = value instead\n",
            "\n",
            "See the caveats in the documentation: https://pandas.pydata.org/pandas-docs/stable/user_guide/indexing.html#returning-a-view-versus-a-copy\n",
            "  R98P2_cleaned['Material_encoded'] = R98P2_cleaned['material'].map(material_mapping)\n",
            "C:\\Users\\Admin\\AppData\\Local\\Temp\\ipykernel_13308\\1026615689.py:3: SettingWithCopyWarning: \n",
            "A value is trying to be set on a copy of a slice from a DataFrame.\n",
            "Try using .loc[row_indexer,col_indexer] = value instead\n",
            "\n",
            "See the caveats in the documentation: https://pandas.pydata.org/pandas-docs/stable/user_guide/indexing.html#returning-a-view-versus-a-copy\n",
            "  R98P2_cleaned['cookingFuel_encoded'] = R98P2_cleaned['cookingfuel'].map(cookingfuel_mapping)\n",
            "C:\\Users\\Admin\\AppData\\Local\\Temp\\ipykernel_13308\\1026615689.py:4: SettingWithCopyWarning: \n",
            "A value is trying to be set on a copy of a slice from a DataFrame.\n",
            "Try using .loc[row_indexer,col_indexer] = value instead\n",
            "\n",
            "See the caveats in the documentation: https://pandas.pydata.org/pandas-docs/stable/user_guide/indexing.html#returning-a-view-versus-a-copy\n",
            "  R98P2_cleaned['HeatingFuel_encoded'] = R98P2_cleaned['heatingfuel'].map(heatingfuel_mapping)\n",
            "C:\\Users\\Admin\\AppData\\Local\\Temp\\ipykernel_13308\\1026615689.py:5: SettingWithCopyWarning: \n",
            "A value is trying to be set on a copy of a slice from a DataFrame.\n",
            "Try using .loc[row_indexer,col_indexer] = value instead\n",
            "\n",
            "See the caveats in the documentation: https://pandas.pydata.org/pandas-docs/stable/user_guide/indexing.html#returning-a-view-versus-a-copy\n",
            "  R98P2_cleaned['waterheatingfuel_encoded'] = R98P2_cleaned['waterheatingfuel'].map(waterheatingfuel_mapping)\n"
          ]
        }
      ],
      "source": [
        "R98P2_cleaned['tenure_encoded'] = R98P2_cleaned['tenure'].map(tenure_mapping)\n",
        "R98P2_cleaned['Material_encoded'] = R98P2_cleaned['material'].map(material_mapping)\n",
        "R98P2_cleaned['cookingFuel_encoded'] = R98P2_cleaned['cookingfuel'].map(cookingfuel_mapping)\n",
        "R98P2_cleaned['HeatingFuel_encoded'] = R98P2_cleaned['heatingfuel'].map(heatingfuel_mapping)\n",
        "R98P2_cleaned['waterheatingfuel_encoded'] = R98P2_cleaned['waterheatingfuel'].map(waterheatingfuel_mapping)"
      ]
    },
    {
      "cell_type": "code",
      "execution_count": 72,
      "metadata": {},
      "outputs": [
        {
          "data": {
            "text/html": [
              "<div>\n",
              "<style scoped>\n",
              "    .dataframe tbody tr th:only-of-type {\n",
              "        vertical-align: middle;\n",
              "    }\n",
              "\n",
              "    .dataframe tbody tr th {\n",
              "        vertical-align: top;\n",
              "    }\n",
              "\n",
              "    .dataframe thead th {\n",
              "        text-align: right;\n",
              "    }\n",
              "</style>\n",
              "<table border=\"1\" class=\"dataframe\">\n",
              "  <thead>\n",
              "    <tr style=\"text-align: right;\">\n",
              "      <th></th>\n",
              "      <th>Address</th>\n",
              "      <th>tenure</th>\n",
              "      <th>room</th>\n",
              "      <th>space</th>\n",
              "      <th>construction</th>\n",
              "      <th>material</th>\n",
              "      <th>vehicle</th>\n",
              "      <th>motorcycle</th>\n",
              "      <th>bicycle</th>\n",
              "      <th>radio</th>\n",
              "      <th>...</th>\n",
              "      <th>split</th>\n",
              "      <th>wastewater</th>\n",
              "      <th>cookingfuel</th>\n",
              "      <th>heatingfuel</th>\n",
              "      <th>waterheatingfuel</th>\n",
              "      <th>tenure_encoded</th>\n",
              "      <th>Material_encoded</th>\n",
              "      <th>cookingFuel_encoded</th>\n",
              "      <th>HeatingFuel_encoded</th>\n",
              "      <th>waterheatingfuel_encoded</th>\n",
              "    </tr>\n",
              "  </thead>\n",
              "  <tbody>\n",
              "    <tr>\n",
              "      <th>0</th>\n",
              "      <td>20011395420</td>\n",
              "      <td>OwnedEstateLand</td>\n",
              "      <td>4</td>\n",
              "      <td>100</td>\n",
              "      <td>3</td>\n",
              "      <td>WoodKesht</td>\n",
              "      <td>1</td>\n",
              "      <td>0</td>\n",
              "      <td>0</td>\n",
              "      <td>0</td>\n",
              "      <td>...</td>\n",
              "      <td>0</td>\n",
              "      <td>0</td>\n",
              "      <td>NaturalGas</td>\n",
              "      <td>NaturalGas</td>\n",
              "      <td>NaturalGas</td>\n",
              "      <td>1</td>\n",
              "      <td>6.0</td>\n",
              "      <td>1</td>\n",
              "      <td>1</td>\n",
              "      <td>1</td>\n",
              "    </tr>\n",
              "    <tr>\n",
              "      <th>1</th>\n",
              "      <td>20001385412</td>\n",
              "      <td>OwnedEstateLand</td>\n",
              "      <td>4</td>\n",
              "      <td>80</td>\n",
              "      <td>3</td>\n",
              "      <td>MetalBlock</td>\n",
              "      <td>1</td>\n",
              "      <td>0</td>\n",
              "      <td>1</td>\n",
              "      <td>0</td>\n",
              "      <td>...</td>\n",
              "      <td>0</td>\n",
              "      <td>0</td>\n",
              "      <td>NaturalGas</td>\n",
              "      <td>NaturalGas</td>\n",
              "      <td>NaturalGas</td>\n",
              "      <td>1</td>\n",
              "      <td>1.0</td>\n",
              "      <td>1</td>\n",
              "      <td>1</td>\n",
              "      <td>1</td>\n",
              "    </tr>\n",
              "    <tr>\n",
              "      <th>2</th>\n",
              "      <td>20001385423</td>\n",
              "      <td>OwnedEstateLand</td>\n",
              "      <td>3</td>\n",
              "      <td>100</td>\n",
              "      <td>3</td>\n",
              "      <td>MetalBlock</td>\n",
              "      <td>1</td>\n",
              "      <td>1</td>\n",
              "      <td>0</td>\n",
              "      <td>0</td>\n",
              "      <td>...</td>\n",
              "      <td>0</td>\n",
              "      <td>0</td>\n",
              "      <td>NaturalGas</td>\n",
              "      <td>NaturalGas</td>\n",
              "      <td>NaturalGas</td>\n",
              "      <td>1</td>\n",
              "      <td>1.0</td>\n",
              "      <td>1</td>\n",
              "      <td>1</td>\n",
              "      <td>1</td>\n",
              "    </tr>\n",
              "    <tr>\n",
              "      <th>3</th>\n",
              "      <td>20001385420</td>\n",
              "      <td>OwnedEstateLand</td>\n",
              "      <td>2</td>\n",
              "      <td>40</td>\n",
              "      <td>3</td>\n",
              "      <td>BrickWood</td>\n",
              "      <td>0</td>\n",
              "      <td>0</td>\n",
              "      <td>0</td>\n",
              "      <td>0</td>\n",
              "      <td>...</td>\n",
              "      <td>0</td>\n",
              "      <td>0</td>\n",
              "      <td>NaturalGas</td>\n",
              "      <td>NaturalGas</td>\n",
              "      <td>NaturalGas</td>\n",
              "      <td>1</td>\n",
              "      <td>2.0</td>\n",
              "      <td>1</td>\n",
              "      <td>1</td>\n",
              "      <td>1</td>\n",
              "    </tr>\n",
              "    <tr>\n",
              "      <th>4</th>\n",
              "      <td>20011395407</td>\n",
              "      <td>Free</td>\n",
              "      <td>2</td>\n",
              "      <td>60</td>\n",
              "      <td>3</td>\n",
              "      <td>WoodKesht</td>\n",
              "      <td>1</td>\n",
              "      <td>1</td>\n",
              "      <td>1</td>\n",
              "      <td>0</td>\n",
              "      <td>...</td>\n",
              "      <td>0</td>\n",
              "      <td>0</td>\n",
              "      <td>NaturalGas</td>\n",
              "      <td>NaturalGas</td>\n",
              "      <td>NaturalGas</td>\n",
              "      <td>6</td>\n",
              "      <td>6.0</td>\n",
              "      <td>1</td>\n",
              "      <td>1</td>\n",
              "      <td>1</td>\n",
              "    </tr>\n",
              "  </tbody>\n",
              "</table>\n",
              "<p>5 rows × 50 columns</p>\n",
              "</div>"
            ],
            "text/plain": [
              "       Address           tenure  room  space  construction    material  \\\n",
              "0  20011395420  OwnedEstateLand     4    100             3   WoodKesht   \n",
              "1  20001385412  OwnedEstateLand     4     80             3  MetalBlock   \n",
              "2  20001385423  OwnedEstateLand     3    100             3  MetalBlock   \n",
              "3  20001385420  OwnedEstateLand     2     40             3   BrickWood   \n",
              "4  20011395407             Free     2     60             3   WoodKesht   \n",
              "\n",
              "   vehicle  motorcycle  bicycle  radio  ...  split  wastewater  cookingfuel  \\\n",
              "0        1           0        0      0  ...      0           0   NaturalGas   \n",
              "1        1           0        1      0  ...      0           0   NaturalGas   \n",
              "2        1           1        0      0  ...      0           0   NaturalGas   \n",
              "3        0           0        0      0  ...      0           0   NaturalGas   \n",
              "4        1           1        1      0  ...      0           0   NaturalGas   \n",
              "\n",
              "   heatingfuel  waterheatingfuel  tenure_encoded  Material_encoded  \\\n",
              "0   NaturalGas        NaturalGas               1               6.0   \n",
              "1   NaturalGas        NaturalGas               1               1.0   \n",
              "2   NaturalGas        NaturalGas               1               1.0   \n",
              "3   NaturalGas        NaturalGas               1               2.0   \n",
              "4   NaturalGas        NaturalGas               6               6.0   \n",
              "\n",
              "   cookingFuel_encoded  HeatingFuel_encoded  waterheatingfuel_encoded  \n",
              "0                    1                    1                         1  \n",
              "1                    1                    1                         1  \n",
              "2                    1                    1                         1  \n",
              "3                    1                    1                         1  \n",
              "4                    1                    1                         1  \n",
              "\n",
              "[5 rows x 50 columns]"
            ]
          },
          "execution_count": 72,
          "metadata": {},
          "output_type": "execute_result"
        }
      ],
      "source": [
        "R98P2_cleaned.head()"
      ]
    },
    {
      "cell_type": "code",
      "execution_count": 73,
      "metadata": {},
      "outputs": [
        {
          "data": {
            "text/html": [
              "<div>\n",
              "<style scoped>\n",
              "    .dataframe tbody tr th:only-of-type {\n",
              "        vertical-align: middle;\n",
              "    }\n",
              "\n",
              "    .dataframe tbody tr th {\n",
              "        vertical-align: top;\n",
              "    }\n",
              "\n",
              "    .dataframe thead th {\n",
              "        text-align: right;\n",
              "    }\n",
              "</style>\n",
              "<table border=\"1\" class=\"dataframe\">\n",
              "  <thead>\n",
              "    <tr style=\"text-align: right;\">\n",
              "      <th></th>\n",
              "      <th>Address</th>\n",
              "      <th>room</th>\n",
              "      <th>space</th>\n",
              "      <th>construction</th>\n",
              "      <th>vehicle</th>\n",
              "      <th>motorcycle</th>\n",
              "      <th>bicycle</th>\n",
              "      <th>radio</th>\n",
              "      <th>radiotape</th>\n",
              "      <th>TVbw</th>\n",
              "      <th>...</th>\n",
              "      <th>centralcooling</th>\n",
              "      <th>centralheating</th>\n",
              "      <th>package</th>\n",
              "      <th>split</th>\n",
              "      <th>wastewater</th>\n",
              "      <th>tenure_encoded</th>\n",
              "      <th>Material_encoded</th>\n",
              "      <th>cookingFuel_encoded</th>\n",
              "      <th>HeatingFuel_encoded</th>\n",
              "      <th>waterheatingfuel_encoded</th>\n",
              "    </tr>\n",
              "  </thead>\n",
              "  <tbody>\n",
              "    <tr>\n",
              "      <th>0</th>\n",
              "      <td>20011395420</td>\n",
              "      <td>4</td>\n",
              "      <td>100</td>\n",
              "      <td>3</td>\n",
              "      <td>1</td>\n",
              "      <td>0</td>\n",
              "      <td>0</td>\n",
              "      <td>0</td>\n",
              "      <td>0</td>\n",
              "      <td>0</td>\n",
              "      <td>...</td>\n",
              "      <td>0</td>\n",
              "      <td>0</td>\n",
              "      <td>0</td>\n",
              "      <td>0</td>\n",
              "      <td>0</td>\n",
              "      <td>1</td>\n",
              "      <td>6.0</td>\n",
              "      <td>1</td>\n",
              "      <td>1</td>\n",
              "      <td>1</td>\n",
              "    </tr>\n",
              "    <tr>\n",
              "      <th>1</th>\n",
              "      <td>20001385412</td>\n",
              "      <td>4</td>\n",
              "      <td>80</td>\n",
              "      <td>3</td>\n",
              "      <td>1</td>\n",
              "      <td>0</td>\n",
              "      <td>1</td>\n",
              "      <td>0</td>\n",
              "      <td>0</td>\n",
              "      <td>0</td>\n",
              "      <td>...</td>\n",
              "      <td>0</td>\n",
              "      <td>0</td>\n",
              "      <td>0</td>\n",
              "      <td>0</td>\n",
              "      <td>0</td>\n",
              "      <td>1</td>\n",
              "      <td>1.0</td>\n",
              "      <td>1</td>\n",
              "      <td>1</td>\n",
              "      <td>1</td>\n",
              "    </tr>\n",
              "    <tr>\n",
              "      <th>2</th>\n",
              "      <td>20001385423</td>\n",
              "      <td>3</td>\n",
              "      <td>100</td>\n",
              "      <td>3</td>\n",
              "      <td>1</td>\n",
              "      <td>1</td>\n",
              "      <td>0</td>\n",
              "      <td>0</td>\n",
              "      <td>0</td>\n",
              "      <td>0</td>\n",
              "      <td>...</td>\n",
              "      <td>0</td>\n",
              "      <td>0</td>\n",
              "      <td>0</td>\n",
              "      <td>0</td>\n",
              "      <td>0</td>\n",
              "      <td>1</td>\n",
              "      <td>1.0</td>\n",
              "      <td>1</td>\n",
              "      <td>1</td>\n",
              "      <td>1</td>\n",
              "    </tr>\n",
              "    <tr>\n",
              "      <th>3</th>\n",
              "      <td>20001385420</td>\n",
              "      <td>2</td>\n",
              "      <td>40</td>\n",
              "      <td>3</td>\n",
              "      <td>0</td>\n",
              "      <td>0</td>\n",
              "      <td>0</td>\n",
              "      <td>0</td>\n",
              "      <td>0</td>\n",
              "      <td>0</td>\n",
              "      <td>...</td>\n",
              "      <td>0</td>\n",
              "      <td>0</td>\n",
              "      <td>0</td>\n",
              "      <td>0</td>\n",
              "      <td>0</td>\n",
              "      <td>1</td>\n",
              "      <td>2.0</td>\n",
              "      <td>1</td>\n",
              "      <td>1</td>\n",
              "      <td>1</td>\n",
              "    </tr>\n",
              "    <tr>\n",
              "      <th>4</th>\n",
              "      <td>20011395407</td>\n",
              "      <td>2</td>\n",
              "      <td>60</td>\n",
              "      <td>3</td>\n",
              "      <td>1</td>\n",
              "      <td>1</td>\n",
              "      <td>1</td>\n",
              "      <td>0</td>\n",
              "      <td>0</td>\n",
              "      <td>0</td>\n",
              "      <td>...</td>\n",
              "      <td>0</td>\n",
              "      <td>0</td>\n",
              "      <td>0</td>\n",
              "      <td>0</td>\n",
              "      <td>0</td>\n",
              "      <td>6</td>\n",
              "      <td>6.0</td>\n",
              "      <td>1</td>\n",
              "      <td>1</td>\n",
              "      <td>1</td>\n",
              "    </tr>\n",
              "    <tr>\n",
              "      <th>...</th>\n",
              "      <td>...</td>\n",
              "      <td>...</td>\n",
              "      <td>...</td>\n",
              "      <td>...</td>\n",
              "      <td>...</td>\n",
              "      <td>...</td>\n",
              "      <td>...</td>\n",
              "      <td>...</td>\n",
              "      <td>...</td>\n",
              "      <td>...</td>\n",
              "      <td>...</td>\n",
              "      <td>...</td>\n",
              "      <td>...</td>\n",
              "      <td>...</td>\n",
              "      <td>...</td>\n",
              "      <td>...</td>\n",
              "      <td>...</td>\n",
              "      <td>...</td>\n",
              "      <td>...</td>\n",
              "      <td>...</td>\n",
              "      <td>...</td>\n",
              "    </tr>\n",
              "    <tr>\n",
              "      <th>18425</th>\n",
              "      <td>23003706223</td>\n",
              "      <td>4</td>\n",
              "      <td>120</td>\n",
              "      <td>3</td>\n",
              "      <td>0</td>\n",
              "      <td>0</td>\n",
              "      <td>0</td>\n",
              "      <td>0</td>\n",
              "      <td>0</td>\n",
              "      <td>0</td>\n",
              "      <td>...</td>\n",
              "      <td>0</td>\n",
              "      <td>0</td>\n",
              "      <td>0</td>\n",
              "      <td>0</td>\n",
              "      <td>0</td>\n",
              "      <td>1</td>\n",
              "      <td>1.0</td>\n",
              "      <td>1</td>\n",
              "      <td>1</td>\n",
              "      <td>1</td>\n",
              "    </tr>\n",
              "    <tr>\n",
              "      <th>18426</th>\n",
              "      <td>23003706218</td>\n",
              "      <td>3</td>\n",
              "      <td>80</td>\n",
              "      <td>3</td>\n",
              "      <td>1</td>\n",
              "      <td>0</td>\n",
              "      <td>0</td>\n",
              "      <td>0</td>\n",
              "      <td>0</td>\n",
              "      <td>0</td>\n",
              "      <td>...</td>\n",
              "      <td>0</td>\n",
              "      <td>0</td>\n",
              "      <td>0</td>\n",
              "      <td>0</td>\n",
              "      <td>0</td>\n",
              "      <td>1</td>\n",
              "      <td>1.0</td>\n",
              "      <td>1</td>\n",
              "      <td>1</td>\n",
              "      <td>1</td>\n",
              "    </tr>\n",
              "    <tr>\n",
              "      <th>18427</th>\n",
              "      <td>23003706210</td>\n",
              "      <td>3</td>\n",
              "      <td>60</td>\n",
              "      <td>3</td>\n",
              "      <td>1</td>\n",
              "      <td>1</td>\n",
              "      <td>0</td>\n",
              "      <td>0</td>\n",
              "      <td>0</td>\n",
              "      <td>0</td>\n",
              "      <td>...</td>\n",
              "      <td>0</td>\n",
              "      <td>0</td>\n",
              "      <td>0</td>\n",
              "      <td>0</td>\n",
              "      <td>0</td>\n",
              "      <td>1</td>\n",
              "      <td>1.0</td>\n",
              "      <td>1</td>\n",
              "      <td>1</td>\n",
              "      <td>1</td>\n",
              "    </tr>\n",
              "    <tr>\n",
              "      <th>18428</th>\n",
              "      <td>23003706220</td>\n",
              "      <td>3</td>\n",
              "      <td>100</td>\n",
              "      <td>3</td>\n",
              "      <td>1</td>\n",
              "      <td>0</td>\n",
              "      <td>0</td>\n",
              "      <td>0</td>\n",
              "      <td>0</td>\n",
              "      <td>0</td>\n",
              "      <td>...</td>\n",
              "      <td>0</td>\n",
              "      <td>0</td>\n",
              "      <td>0</td>\n",
              "      <td>0</td>\n",
              "      <td>0</td>\n",
              "      <td>1</td>\n",
              "      <td>1.0</td>\n",
              "      <td>1</td>\n",
              "      <td>1</td>\n",
              "      <td>1</td>\n",
              "    </tr>\n",
              "    <tr>\n",
              "      <th>18429</th>\n",
              "      <td>23003706212</td>\n",
              "      <td>2</td>\n",
              "      <td>50</td>\n",
              "      <td>3</td>\n",
              "      <td>0</td>\n",
              "      <td>0</td>\n",
              "      <td>0</td>\n",
              "      <td>0</td>\n",
              "      <td>0</td>\n",
              "      <td>0</td>\n",
              "      <td>...</td>\n",
              "      <td>0</td>\n",
              "      <td>0</td>\n",
              "      <td>0</td>\n",
              "      <td>0</td>\n",
              "      <td>0</td>\n",
              "      <td>1</td>\n",
              "      <td>1.0</td>\n",
              "      <td>1</td>\n",
              "      <td>1</td>\n",
              "      <td>1</td>\n",
              "    </tr>\n",
              "  </tbody>\n",
              "</table>\n",
              "<p>17697 rows × 45 columns</p>\n",
              "</div>"
            ],
            "text/plain": [
              "           Address  room  space  construction  vehicle  motorcycle  bicycle  \\\n",
              "0      20011395420     4    100             3        1           0        0   \n",
              "1      20001385412     4     80             3        1           0        1   \n",
              "2      20001385423     3    100             3        1           1        0   \n",
              "3      20001385420     2     40             3        0           0        0   \n",
              "4      20011395407     2     60             3        1           1        1   \n",
              "...            ...   ...    ...           ...      ...         ...      ...   \n",
              "18425  23003706223     4    120             3        0           0        0   \n",
              "18426  23003706218     3     80             3        1           0        0   \n",
              "18427  23003706210     3     60             3        1           1        0   \n",
              "18428  23003706220     3    100             3        1           0        0   \n",
              "18429  23003706212     2     50             3        0           0        0   \n",
              "\n",
              "       radio  radiotape  TVbw  ...  centralcooling  centralheating  package  \\\n",
              "0          0          0     0  ...               0               0        0   \n",
              "1          0          0     0  ...               0               0        0   \n",
              "2          0          0     0  ...               0               0        0   \n",
              "3          0          0     0  ...               0               0        0   \n",
              "4          0          0     0  ...               0               0        0   \n",
              "...      ...        ...   ...  ...             ...             ...      ...   \n",
              "18425      0          0     0  ...               0               0        0   \n",
              "18426      0          0     0  ...               0               0        0   \n",
              "18427      0          0     0  ...               0               0        0   \n",
              "18428      0          0     0  ...               0               0        0   \n",
              "18429      0          0     0  ...               0               0        0   \n",
              "\n",
              "       split  wastewater  tenure_encoded  Material_encoded  \\\n",
              "0          0           0               1               6.0   \n",
              "1          0           0               1               1.0   \n",
              "2          0           0               1               1.0   \n",
              "3          0           0               1               2.0   \n",
              "4          0           0               6               6.0   \n",
              "...      ...         ...             ...               ...   \n",
              "18425      0           0               1               1.0   \n",
              "18426      0           0               1               1.0   \n",
              "18427      0           0               1               1.0   \n",
              "18428      0           0               1               1.0   \n",
              "18429      0           0               1               1.0   \n",
              "\n",
              "       cookingFuel_encoded  HeatingFuel_encoded  waterheatingfuel_encoded  \n",
              "0                        1                    1                         1  \n",
              "1                        1                    1                         1  \n",
              "2                        1                    1                         1  \n",
              "3                        1                    1                         1  \n",
              "4                        1                    1                         1  \n",
              "...                    ...                  ...                       ...  \n",
              "18425                    1                    1                         1  \n",
              "18426                    1                    1                         1  \n",
              "18427                    1                    1                         1  \n",
              "18428                    1                    1                         1  \n",
              "18429                    1                    1                         1  \n",
              "\n",
              "[17697 rows x 45 columns]"
            ]
          },
          "execution_count": 73,
          "metadata": {},
          "output_type": "execute_result"
        }
      ],
      "source": [
        "R98P2_cleaned.drop(columns=['tenure', 'material', 'cookingfuel', 'heatingfuel', 'waterheatingfuel'])"
      ]
    },
    {
      "cell_type": "code",
      "execution_count": 74,
      "metadata": {},
      "outputs": [
        {
          "name": "stdout",
          "output_type": "stream",
          "text": [
            "مقادیر یونیک در ستون 'tenure_encoded':\n",
            "[1 6 3 5 4 7 2]\n",
            "--------------------------------------------------\n",
            "مقادیر یونیک در ستون 'Material_encoded':\n",
            "[ 6.  1.  2.  7. nan  4.  5.  3.  8.]\n",
            "--------------------------------------------------\n",
            "مقادیر یونیک در ستون 'cookingFuel_encoded':\n",
            "[1 2 3 6 5 4]\n",
            "--------------------------------------------------\n",
            "مقادیر یونیک در ستون 'HeatingFuel_encoded':\n",
            "[1 4 2 3 5 6]\n",
            "--------------------------------------------------\n",
            "مقادیر یونیک در ستون 'waterheatingfuel_encoded':\n",
            "[1 2 3 4 5 8 7 6]\n",
            "--------------------------------------------------\n"
          ]
        }
      ],
      "source": [
        "# لیست ستون‌های دسته‌بندی‌شده\n",
        "categorical_columns = ['tenure_encoded', 'Material_encoded', 'cookingFuel_encoded', 'HeatingFuel_encoded', 'waterheatingfuel_encoded']\n",
        "\n",
        "# حلقه برای مشاهده داده‌های یونیک در هر ستون\n",
        "for column in categorical_columns:\n",
        "    unique_values = R98P2_cleaned[column].unique()\n",
        "    print(f\"مقادیر یونیک در ستون '{column}':\")\n",
        "    print(unique_values)\n",
        "    print(\"-\" * 50)  # جداکننده برای خوانایی بیشتر"
      ]
    },
    {
      "cell_type": "code",
      "execution_count": 75,
      "metadata": {},
      "outputs": [],
      "source": [
        "R98P2_cleaned = R98P2_cleaned.apply(pd.to_numeric, errors='coerce')"
      ]
    },
    {
      "cell_type": "code",
      "execution_count": 76,
      "metadata": {},
      "outputs": [],
      "source": [
        "df_encoded6 = R98P2_cleaned.copy()"
      ]
    },
    {
      "cell_type": "code",
      "execution_count": 77,
      "metadata": {},
      "outputs": [
        {
          "name": "stdout",
          "output_type": "stream",
          "text": [
            "Accuracy: 0.9942452412571935\n",
            "       Address  tenure  room  space  construction  material  vehicle  \\\n",
            "0  20011395420     NaN     4    100             3       NaN        1   \n",
            "1  20001385412     NaN     4     80             3       NaN        1   \n",
            "2  20001385423     NaN     3    100             3       NaN        1   \n",
            "3  20001385420     NaN     2     40             3       NaN        0   \n",
            "4  20011395407     NaN     2     60             3       NaN        1   \n",
            "\n",
            "   motorcycle  bicycle  radio  ...  split  wastewater  cookingfuel  \\\n",
            "0           0        0      0  ...      0           0          NaN   \n",
            "1           0        1      0  ...      0           0          NaN   \n",
            "2           1        0      0  ...      0           0          NaN   \n",
            "3           0        0      0  ...      0           0          NaN   \n",
            "4           1        1      0  ...      0           0          NaN   \n",
            "\n",
            "   heatingfuel  waterheatingfuel  tenure_encoded  Material_encoded  \\\n",
            "0          NaN               NaN               1               6.0   \n",
            "1          NaN               NaN               1               1.0   \n",
            "2          NaN               NaN               1               1.0   \n",
            "3          NaN               NaN               1               2.0   \n",
            "4          NaN               NaN               6               6.0   \n",
            "\n",
            "   cookingFuel_encoded  HeatingFuel_encoded  waterheatingfuel_encoded  \n",
            "0                    1                    1                         1  \n",
            "1                    1                    1                         1  \n",
            "2                    1                    1                         1  \n",
            "3                    1                    1                         1  \n",
            "4                    1                    1                         1  \n",
            "\n",
            "[5 rows x 50 columns]\n"
          ]
        }
      ],
      "source": [
        "\n",
        "df_not_null = df_encoded6[df_encoded6['Material_encoded'].notnull()]\n",
        "df_null = df_encoded6[df_encoded6['Material_encoded'].isnull()]\n",
        "\n",
        "\n",
        "X = df_not_null.drop(['Material_encoded'], axis=1)\n",
        "y = df_not_null['Material_encoded']\n",
        "\n",
        "\n",
        "X_train, X_test, y_train, y_test = train_test_split(X, y, test_size=0.2, random_state=42)\n",
        "\n",
        "\n",
        "model = RandomForestClassifier()\n",
        "\n",
        "\n",
        "model.fit(X_train, y_train)\n",
        "\n",
        "\n",
        "y_pred = model.predict(X_test)\n",
        "\n",
        "\n",
        "\n",
        "\n",
        "accuracy = accuracy_score(y_test_numeric, y_pred_numeric)\n",
        "print(f'Accuracy: {accuracy}')\n",
        "\n",
        "\n",
        "\n",
        "\n",
        "\n",
        "X_null = df_null.drop(['Material_encoded'], axis=1)\n",
        "\n",
        "\n",
        "df_null.loc[:, 'Material_encoded'] = model.predict(X_null)\n",
        "\n",
        "\n",
        "R98P2_filled = pd.concat([df_not_null, df_null])\n",
        "\n",
        "\n",
        "R98P2_filled.sort_index(inplace=True)\n",
        "\n",
        "\n",
        "print(R98P2_filled.head())"
      ]
    },
    {
      "cell_type": "markdown",
      "metadata": {},
      "source": [
        "شیت نهایی R98P2_filled"
      ]
    },
    {
      "cell_type": "markdown",
      "metadata": {},
      "source": [
        "بررسی شیت P3S01"
      ]
    },
    {
      "cell_type": "code",
      "execution_count": 78,
      "metadata": {},
      "outputs": [
        {
          "data": {
            "text/plain": [
              "Address       0.000000\n",
              "code          0.000000\n",
              "purchased     0.000000\n",
              "gram         76.741783\n",
              "kilogram     23.460424\n",
              "price         9.281770\n",
              "value         0.000193\n",
              "dtype: float64"
            ]
          },
          "execution_count": 78,
          "metadata": {},
          "output_type": "execute_result"
        }
      ],
      "source": [
        "missing_percentage = R98P3S01.isnull().sum() / len(R98P3S01) * 100\n",
        "missing_percentage.sort_values(ascending=False)  \n",
        "missing_percentage"
      ]
    },
    {
      "cell_type": "code",
      "execution_count": 79,
      "metadata": {},
      "outputs": [],
      "source": [
        "R98P3S01_cleaned = R98P3S01.dropna(subset=['price', 'value'])"
      ]
    },
    {
      "cell_type": "code",
      "execution_count": 80,
      "metadata": {},
      "outputs": [
        {
          "name": "stderr",
          "output_type": "stream",
          "text": [
            "C:\\Users\\Admin\\AppData\\Local\\Temp\\ipykernel_13308\\1512780882.py:1: SettingWithCopyWarning: \n",
            "A value is trying to be set on a copy of a slice from a DataFrame.\n",
            "Try using .loc[row_indexer,col_indexer] = value instead\n",
            "\n",
            "See the caveats in the documentation: https://pandas.pydata.org/pandas-docs/stable/user_guide/indexing.html#returning-a-view-versus-a-copy\n",
            "  R98P3S01_cleaned['calculated_amount'] = R98P3S01_cleaned['value'] / R98P3S01_cleaned['price']\n",
            "C:\\Users\\Admin\\AppData\\Local\\Temp\\ipykernel_13308\\1512780882.py:4: SettingWithCopyWarning: \n",
            "A value is trying to be set on a copy of a slice from a DataFrame.\n",
            "Try using .loc[row_indexer,col_indexer] = value instead\n",
            "\n",
            "See the caveats in the documentation: https://pandas.pydata.org/pandas-docs/stable/user_guide/indexing.html#returning-a-view-versus-a-copy\n",
            "  R98P3S01_cleaned['calculated_kg'] = R98P3S01_cleaned['calculated_amount'].apply(np.floor)\n",
            "C:\\Users\\Admin\\AppData\\Local\\Temp\\ipykernel_13308\\1512780882.py:5: SettingWithCopyWarning: \n",
            "A value is trying to be set on a copy of a slice from a DataFrame.\n",
            "Try using .loc[row_indexer,col_indexer] = value instead\n",
            "\n",
            "See the caveats in the documentation: https://pandas.pydata.org/pandas-docs/stable/user_guide/indexing.html#returning-a-view-versus-a-copy\n",
            "  R98P3S01_cleaned['calculated_gram'] = (R98P3S01_cleaned['calculated_amount'] % 1) * 1000\n",
            "C:\\Users\\Admin\\AppData\\Local\\Temp\\ipykernel_13308\\1512780882.py:8: SettingWithCopyWarning: \n",
            "A value is trying to be set on a copy of a slice from a DataFrame.\n",
            "Try using .loc[row_indexer,col_indexer] = value instead\n",
            "\n",
            "See the caveats in the documentation: https://pandas.pydata.org/pandas-docs/stable/user_guide/indexing.html#returning-a-view-versus-a-copy\n",
            "  R98P3S01_cleaned['kilogram'] = R98P3S01_cleaned['kilogram'].fillna(R98P3S01_cleaned['calculated_kg'])\n",
            "C:\\Users\\Admin\\AppData\\Local\\Temp\\ipykernel_13308\\1512780882.py:9: SettingWithCopyWarning: \n",
            "A value is trying to be set on a copy of a slice from a DataFrame.\n",
            "Try using .loc[row_indexer,col_indexer] = value instead\n",
            "\n",
            "See the caveats in the documentation: https://pandas.pydata.org/pandas-docs/stable/user_guide/indexing.html#returning-a-view-versus-a-copy\n",
            "  R98P3S01_cleaned['gram'] = R98P3S01_cleaned['gram'].fillna(R98P3S01_cleaned['calculated_gram'])\n"
          ]
        }
      ],
      "source": [
        "\n",
        "R98P3S01_cleaned['calculated_amount'] = R98P3S01_cleaned['value'] / R98P3S01_cleaned['price']\n",
        "\n",
        "\n",
        "R98P3S01_cleaned['calculated_kg'] = R98P3S01_cleaned['calculated_amount'].apply(np.floor)\n",
        "R98P3S01_cleaned['calculated_gram'] = (R98P3S01_cleaned['calculated_amount'] % 1) * 1000\n",
        "\n",
        "\n",
        "R98P3S01_cleaned['kilogram'] = R98P3S01_cleaned['kilogram'].fillna(R98P3S01_cleaned['calculated_kg'])\n",
        "R98P3S01_cleaned['gram'] = R98P3S01_cleaned['gram'].fillna(R98P3S01_cleaned['calculated_gram'])\n",
        "\n"
      ]
    },
    {
      "cell_type": "code",
      "execution_count": 81,
      "metadata": {},
      "outputs": [
        {
          "data": {
            "text/plain": [
              "Address              0.0\n",
              "code                 0.0\n",
              "purchased            0.0\n",
              "gram                 0.0\n",
              "kilogram             0.0\n",
              "price                0.0\n",
              "value                0.0\n",
              "calculated_amount    0.0\n",
              "calculated_kg        0.0\n",
              "calculated_gram      0.0\n",
              "dtype: float64"
            ]
          },
          "execution_count": 81,
          "metadata": {},
          "output_type": "execute_result"
        }
      ],
      "source": [
        "missing_percentage = R98P3S01_cleaned.isnull().sum() / len(R98P3S01_cleaned) * 100\n",
        "missing_percentage.sort_values(ascending=False)  \n",
        "missing_percentage"
      ]
    },
    {
      "cell_type": "code",
      "execution_count": 82,
      "metadata": {},
      "outputs": [
        {
          "name": "stdout",
          "output_type": "stream",
          "text": [
            "ستون‌های عددی:\n",
            "Index(['Address', 'code', 'purchased', 'kilogram', 'price', 'value',\n",
            "       'calculated_amount', 'calculated_kg', 'calculated_gram'],\n",
            "      dtype='object')\n"
          ]
        }
      ],
      "source": [
        "\n",
        "numerical_columns = R98P3S01_cleaned.select_dtypes(include=['number']).columns\n",
        "print(\"ستون‌های عددی:\")\n",
        "print(numerical_columns)"
      ]
    },
    {
      "cell_type": "markdown",
      "metadata": {},
      "source": []
    },
    {
      "cell_type": "markdown",
      "metadata": {},
      "source": [
        "بررسی شیت P3S02"
      ]
    },
    {
      "cell_type": "code",
      "execution_count": 83,
      "metadata": {},
      "outputs": [
        {
          "data": {
            "text/plain": [
              "Address       0.000000\n",
              "code          0.000000\n",
              "purchased     0.000000\n",
              "gram         99.976048\n",
              "kilogram     22.347305\n",
              "price        22.347305\n",
              "value         0.000000\n",
              "dtype: float64"
            ]
          },
          "execution_count": 83,
          "metadata": {},
          "output_type": "execute_result"
        }
      ],
      "source": [
        "missing_percentage = R98P3S02.isnull().sum() / len(R98P3S02) * 100\n",
        "missing_percentage.sort_values(ascending=False)  \n",
        "missing_percentage"
      ]
    },
    {
      "cell_type": "code",
      "execution_count": 84,
      "metadata": {},
      "outputs": [],
      "source": [
        "R98P3S02_cleaned = R98P3S02.dropna(subset=['price'])"
      ]
    },
    {
      "cell_type": "code",
      "execution_count": 85,
      "metadata": {},
      "outputs": [
        {
          "name": "stderr",
          "output_type": "stream",
          "text": [
            "C:\\Users\\Admin\\AppData\\Local\\Temp\\ipykernel_13308\\328827225.py:1: SettingWithCopyWarning: \n",
            "A value is trying to be set on a copy of a slice from a DataFrame.\n",
            "Try using .loc[row_indexer,col_indexer] = value instead\n",
            "\n",
            "See the caveats in the documentation: https://pandas.pydata.org/pandas-docs/stable/user_guide/indexing.html#returning-a-view-versus-a-copy\n",
            "  R98P3S02_cleaned['calculated_amount'] = R98P3S02_cleaned['value'] / R98P3S02_cleaned['price']\n",
            "C:\\Users\\Admin\\AppData\\Local\\Temp\\ipykernel_13308\\328827225.py:4: SettingWithCopyWarning: \n",
            "A value is trying to be set on a copy of a slice from a DataFrame.\n",
            "Try using .loc[row_indexer,col_indexer] = value instead\n",
            "\n",
            "See the caveats in the documentation: https://pandas.pydata.org/pandas-docs/stable/user_guide/indexing.html#returning-a-view-versus-a-copy\n",
            "  R98P3S02_cleaned['calculated_kg'] = R98P3S02_cleaned['calculated_amount'].apply(np.floor)\n",
            "C:\\Users\\Admin\\AppData\\Local\\Temp\\ipykernel_13308\\328827225.py:5: SettingWithCopyWarning: \n",
            "A value is trying to be set on a copy of a slice from a DataFrame.\n",
            "Try using .loc[row_indexer,col_indexer] = value instead\n",
            "\n",
            "See the caveats in the documentation: https://pandas.pydata.org/pandas-docs/stable/user_guide/indexing.html#returning-a-view-versus-a-copy\n",
            "  R98P3S02_cleaned['calculated_gram'] = (R98P3S02_cleaned['calculated_amount'] % 1) * 1000\n",
            "C:\\Users\\Admin\\AppData\\Local\\Temp\\ipykernel_13308\\328827225.py:8: SettingWithCopyWarning: \n",
            "A value is trying to be set on a copy of a slice from a DataFrame.\n",
            "Try using .loc[row_indexer,col_indexer] = value instead\n",
            "\n",
            "See the caveats in the documentation: https://pandas.pydata.org/pandas-docs/stable/user_guide/indexing.html#returning-a-view-versus-a-copy\n",
            "  R98P3S02_cleaned['kilogram'] = R98P3S02_cleaned['kilogram'].fillna(R98P3S02_cleaned['calculated_kg'])\n",
            "C:\\Users\\Admin\\AppData\\Local\\Temp\\ipykernel_13308\\328827225.py:9: SettingWithCopyWarning: \n",
            "A value is trying to be set on a copy of a slice from a DataFrame.\n",
            "Try using .loc[row_indexer,col_indexer] = value instead\n",
            "\n",
            "See the caveats in the documentation: https://pandas.pydata.org/pandas-docs/stable/user_guide/indexing.html#returning-a-view-versus-a-copy\n",
            "  R98P3S02_cleaned['gram'] = R98P3S02_cleaned['gram'].fillna(R98P3S02_cleaned['calculated_gram'])\n"
          ]
        }
      ],
      "source": [
        "\n",
        "R98P3S02_cleaned['calculated_amount'] = R98P3S02_cleaned['value'] / R98P3S02_cleaned['price']\n",
        "\n",
        "\n",
        "R98P3S02_cleaned['calculated_kg'] = R98P3S02_cleaned['calculated_amount'].apply(np.floor)\n",
        "R98P3S02_cleaned['calculated_gram'] = (R98P3S02_cleaned['calculated_amount'] % 1) * 1000\n",
        "\n",
        "\n",
        "R98P3S02_cleaned['kilogram'] = R98P3S02_cleaned['kilogram'].fillna(R98P3S02_cleaned['calculated_kg'])\n",
        "R98P3S02_cleaned['gram'] = R98P3S02_cleaned['gram'].fillna(R98P3S02_cleaned['calculated_gram'])\n"
      ]
    },
    {
      "cell_type": "code",
      "execution_count": 86,
      "metadata": {},
      "outputs": [
        {
          "data": {
            "text/plain": [
              "Address              0.0\n",
              "code                 0.0\n",
              "purchased            0.0\n",
              "gram                 0.0\n",
              "kilogram             0.0\n",
              "price                0.0\n",
              "value                0.0\n",
              "calculated_amount    0.0\n",
              "calculated_kg        0.0\n",
              "calculated_gram      0.0\n",
              "dtype: float64"
            ]
          },
          "execution_count": 86,
          "metadata": {},
          "output_type": "execute_result"
        }
      ],
      "source": [
        "missing_percentage = R98P3S02_cleaned.isnull().sum() / len(R98P3S02_cleaned) * 100\n",
        "missing_percentage.sort_values(ascending=False)  \n",
        "missing_percentage"
      ]
    },
    {
      "cell_type": "markdown",
      "metadata": {},
      "source": [
        "بررسی شیت P3S03"
      ]
    },
    {
      "cell_type": "code",
      "execution_count": 87,
      "metadata": {},
      "outputs": [
        {
          "data": {
            "text/plain": [
              "Address      0.0\n",
              "code         0.0\n",
              "purchased    0.0\n",
              "value        0.0\n",
              "dtype: float64"
            ]
          },
          "execution_count": 87,
          "metadata": {},
          "output_type": "execute_result"
        }
      ],
      "source": [
        "missing_percentage = R98P3S03.isnull().sum() / len(R98P3S03) * 100\n",
        "missing_percentage.sort_values(ascending=False)  \n",
        "missing_percentage"
      ]
    },
    {
      "cell_type": "code",
      "execution_count": 88,
      "metadata": {},
      "outputs": [
        {
          "name": "stdout",
          "output_type": "stream",
          "text": [
            "ستون‌های دسته‌بندی‌شده:\n",
            "Index([], dtype='object')\n"
          ]
        }
      ],
      "source": [
        "categorical_columns = R98P3S03.select_dtypes(include=['object']).columns\n",
        "print(\"ستون‌های دسته‌بندی‌شده:\")\n",
        "print(categorical_columns)\n"
      ]
    },
    {
      "cell_type": "code",
      "execution_count": 89,
      "metadata": {},
      "outputs": [
        {
          "name": "stdout",
          "output_type": "stream",
          "text": [
            "0\n"
          ]
        }
      ],
      "source": [
        "duplicates = R98P3S03.duplicated().sum()\n",
        "print(duplicates)"
      ]
    },
    {
      "cell_type": "code",
      "execution_count": 90,
      "metadata": {},
      "outputs": [
        {
          "name": "stdout",
          "output_type": "stream",
          "text": [
            "Index([], dtype='object')\n"
          ]
        }
      ],
      "source": [
        "categorical_columns = R98P3S03.select_dtypes(include=['object']).columns\n",
        "print(categorical_columns)"
      ]
    },
    {
      "cell_type": "code",
      "execution_count": 91,
      "metadata": {},
      "outputs": [
        {
          "name": "stdout",
          "output_type": "stream",
          "text": [
            "ستون‌های عددی:\n",
            "Index(['Address', 'code', 'purchased', 'value'], dtype='object')\n"
          ]
        }
      ],
      "source": [
        "numerical_columns = R98P3S03.select_dtypes(include=['number']).columns\n",
        "print(\"ستون‌های عددی:\")\n",
        "print(numerical_columns)"
      ]
    },
    {
      "cell_type": "code",
      "execution_count": 92,
      "metadata": {},
      "outputs": [
        {
          "name": "stdout",
          "output_type": "stream",
          "text": [
            "تعداد داده‌های پرت در ستون code: 4969\n",
            "تعداد داده‌های پرت در ستون purchased: 91\n",
            "تعداد داده‌های پرت در ستون value: 1382\n"
          ]
        }
      ],
      "source": [
        "# بررسی داده‌های پرت بر اساس IQR\n",
        "for column in numerical_columns:\n",
        "    Q1 = R98P3S03[column].quantile(0.25)\n",
        "    Q3 = R98P3S03[column].quantile(0.75)\n",
        "    IQR = Q3 - Q1\n",
        "    outliers = ((R98P3S03[column] < (Q1 - 1.5 * IQR)) | (R98P3S03[column] > (Q3 + 1.5 * IQR))).sum()\n",
        "    if outliers > 0:\n",
        "        print(f\"تعداد داده‌های پرت در ستون {column}: {outliers}\")\n"
      ]
    },
    {
      "cell_type": "markdown",
      "metadata": {},
      "source": [
        "اگر اینجا بررسی بشه ایا این داده پرت به نسبت شهر هست یا نه خیلی خوبه"
      ]
    },
    {
      "cell_type": "code",
      "execution_count": null,
      "metadata": {},
      "outputs": [],
      "source": []
    },
    {
      "cell_type": "markdown",
      "metadata": {},
      "source": [
        "بررسی شیت P3S04"
      ]
    },
    {
      "cell_type": "code",
      "execution_count": 93,
      "metadata": {},
      "outputs": [
        {
          "data": {
            "text/plain": [
              "Address       0.000000\n",
              "code          0.000000\n",
              "mortgage     99.107130\n",
              "purchased    23.242253\n",
              "value         0.000000\n",
              "dtype: float64"
            ]
          },
          "execution_count": 93,
          "metadata": {},
          "output_type": "execute_result"
        }
      ],
      "source": [
        "missing_percentage = R98P3S04.isnull().sum() / len(R98P3S04) * 100\n",
        "missing_percentage.sort_values(ascending=False)  \n",
        "missing_percentage"
      ]
    },
    {
      "cell_type": "code",
      "execution_count": 94,
      "metadata": {},
      "outputs": [],
      "source": [
        "R98P3S04_cleaned = R98P3S04.dropna(subset=['mortgage'])"
      ]
    },
    {
      "cell_type": "code",
      "execution_count": 95,
      "metadata": {},
      "outputs": [
        {
          "data": {
            "text/plain": [
              "Address      0.0\n",
              "code         0.0\n",
              "mortgage     0.0\n",
              "purchased    0.0\n",
              "value        0.0\n",
              "dtype: float64"
            ]
          },
          "execution_count": 95,
          "metadata": {},
          "output_type": "execute_result"
        }
      ],
      "source": [
        "missing_percentage = R98P3S04_cleaned.isnull().sum() / len(R98P3S04_cleaned) * 100\n",
        "missing_percentage.sort_values(ascending=False)  \n",
        "missing_percentage"
      ]
    },
    {
      "cell_type": "code",
      "execution_count": 96,
      "metadata": {},
      "outputs": [
        {
          "name": "stdout",
          "output_type": "stream",
          "text": [
            "0\n"
          ]
        }
      ],
      "source": [
        "duplicates = R98P3S04_cleaned.duplicated().sum()\n",
        "print(duplicates)"
      ]
    },
    {
      "cell_type": "code",
      "execution_count": 97,
      "metadata": {},
      "outputs": [
        {
          "name": "stdout",
          "output_type": "stream",
          "text": [
            "ستون‌های دسته‌بندی‌شده:\n",
            "Index(['purchased'], dtype='object')\n"
          ]
        }
      ],
      "source": [
        "categorical_columns = R98P3S04_cleaned.select_dtypes(include=['object']).columns\n",
        "print(\"ستون‌های دسته‌بندی‌شده:\")\n",
        "print(categorical_columns)"
      ]
    },
    {
      "cell_type": "code",
      "execution_count": 98,
      "metadata": {},
      "outputs": [
        {
          "name": "stdout",
          "output_type": "stream",
          "text": [
            "ستون‌های عددی:\n",
            "Index(['Address', 'code', 'mortgage', 'value'], dtype='object')\n"
          ]
        }
      ],
      "source": [
        "numerical_columns = R98P3S04_cleaned.select_dtypes(include=['number']).columns\n",
        "print(\"ستون‌های عددی:\")\n",
        "print(numerical_columns)"
      ]
    },
    {
      "cell_type": "code",
      "execution_count": 99,
      "metadata": {},
      "outputs": [
        {
          "name": "stdout",
          "output_type": "stream",
          "text": [
            "تعداد داده‌های پرت در ستون mortgage: 27\n",
            "تعداد داده‌های پرت در ستون value: 30\n"
          ]
        }
      ],
      "source": [
        "# بررسی داده‌های پرت بر اساس IQR\n",
        "for column in numerical_columns:\n",
        "    Q1 = R98P3S04_cleaned[column].quantile(0.25)\n",
        "    Q3 = R98P3S04_cleaned[column].quantile(0.75)\n",
        "    IQR = Q3 - Q1\n",
        "    outliers = ((R98P3S04_cleaned[column] < (Q1 - 1.5 * IQR)) | (R98P3S04_cleaned[column] > (Q3 + 1.5 * IQR))).sum()\n",
        "    if outliers > 0:\n",
        "        print(f\"تعداد داده‌های پرت در ستون {column}: {outliers}\")\n"
      ]
    },
    {
      "cell_type": "markdown",
      "metadata": {},
      "source": [
        "بررسی شیت P3S05"
      ]
    },
    {
      "cell_type": "code",
      "execution_count": 100,
      "metadata": {},
      "outputs": [
        {
          "data": {
            "text/plain": [
              "Address      0.0\n",
              "code         0.0\n",
              "purchased    0.0\n",
              "value        0.0\n",
              "dtype: float64"
            ]
          },
          "execution_count": 100,
          "metadata": {},
          "output_type": "execute_result"
        }
      ],
      "source": [
        "missing_percentage = R98P3S05.isnull().sum() / len(R98P3S05) * 100\n",
        "missing_percentage.sort_values(ascending=False)  \n",
        "missing_percentage"
      ]
    },
    {
      "cell_type": "code",
      "execution_count": 101,
      "metadata": {},
      "outputs": [
        {
          "data": {
            "text/plain": [
              "0"
            ]
          },
          "execution_count": 101,
          "metadata": {},
          "output_type": "execute_result"
        }
      ],
      "source": [
        "duplicates = R98P3S05.duplicated().sum()\n",
        "duplicates\n",
        "\n"
      ]
    },
    {
      "cell_type": "code",
      "execution_count": 102,
      "metadata": {},
      "outputs": [
        {
          "name": "stdout",
          "output_type": "stream",
          "text": [
            "ستون‌های دسته‌بندی‌شده:\n",
            "Index([], dtype='object')\n"
          ]
        }
      ],
      "source": [
        "\n",
        "categorical_columns = R98P3S05.select_dtypes(include=['object']).columns\n",
        "print(\"ستون‌های دسته‌بندی‌شده:\")\n",
        "print(categorical_columns)\n",
        "\n",
        "\n"
      ]
    },
    {
      "cell_type": "code",
      "execution_count": 103,
      "metadata": {},
      "outputs": [
        {
          "name": "stdout",
          "output_type": "stream",
          "text": [
            "ستون‌های عددی:\n",
            "Index(['Address', 'code', 'purchased', 'value'], dtype='object')\n",
            "تعداد داده‌های پرت در ستون code: 25957\n",
            "تعداد داده‌های پرت در ستون purchased: 1267\n",
            "تعداد داده‌های پرت در ستون value: 4666\n"
          ]
        }
      ],
      "source": [
        "\n",
        "\n",
        "numerical_columns = R98P3S05.select_dtypes(include=['number']).columns\n",
        "print(\"ستون‌های عددی:\")\n",
        "print(numerical_columns)\n",
        "# بررسی داده‌های پرت بر اساس IQR\n",
        "for column in numerical_columns:\n",
        "    Q1 = R98P3S05[column].quantile(0.25)\n",
        "    Q3 = R98P3S05[column].quantile(0.75)\n",
        "    IQR = Q3 - Q1\n",
        "    outliers = ((R98P3S05[column] < (Q1 - 1.5 * IQR)) | (R98P3S05[column] > (Q3 + 1.5 * IQR))).sum()\n",
        "    if outliers > 0:\n",
        "        print(f\"تعداد داده‌های پرت در ستون {column}: {outliers}\")\n"
      ]
    },
    {
      "cell_type": "markdown",
      "metadata": {},
      "source": [
        "P3S06"
      ]
    },
    {
      "cell_type": "code",
      "execution_count": 104,
      "metadata": {},
      "outputs": [
        {
          "data": {
            "text/plain": [
              "Address      0.0\n",
              "code         0.0\n",
              "purchased    0.0\n",
              "value        0.0\n",
              "dtype: float64"
            ]
          },
          "execution_count": 104,
          "metadata": {},
          "output_type": "execute_result"
        }
      ],
      "source": [
        "missing_percentage = R98P3S06.isnull().sum() / len(R98P3S06) * 100\n",
        "missing_percentage.sort_values(ascending=False)  \n",
        "missing_percentage"
      ]
    },
    {
      "cell_type": "code",
      "execution_count": 105,
      "metadata": {},
      "outputs": [
        {
          "name": "stdout",
          "output_type": "stream",
          "text": [
            "0\n",
            "ستون‌های دسته‌بندی‌شده:\n",
            "Index([], dtype='object')\n",
            "ستون‌های عددی:\n",
            "Index(['Address', 'code', 'purchased', 'value'], dtype='object')\n",
            "تعداد داده‌های پرت در ستون code: 18\n",
            "تعداد داده‌های پرت در ستون purchased: 4061\n",
            "تعداد داده‌های پرت در ستون value: 3646\n"
          ]
        }
      ],
      "source": [
        "duplicates = R98P3S06.duplicated().sum()\n",
        "print(duplicates)\n",
        "categorical_columns = R98P3S06.select_dtypes(include=['object']).columns\n",
        "print(\"ستون‌های دسته‌بندی‌شده:\")\n",
        "print(categorical_columns)\n",
        "\n",
        "numerical_columns = R98P3S06.select_dtypes(include=['number']).columns\n",
        "print(\"ستون‌های عددی:\")\n",
        "print(numerical_columns)\n",
        "# بررسی داده‌های پرت بر اساس IQR\n",
        "for column in numerical_columns:\n",
        "    Q1 = R98P3S06[column].quantile(0.25)\n",
        "    Q3 = R98P3S06[column].quantile(0.75)\n",
        "    IQR = Q3 - Q1\n",
        "    outliers = ((R98P3S06[column] < (Q1 - 1.5 * IQR)) | (R98P3S06[column] > (Q3 + 1.5 * IQR))).sum()\n",
        "    if outliers > 0:\n",
        "        print(f\"تعداد داده‌های پرت در ستون {column}: {outliers}\")"
      ]
    },
    {
      "cell_type": "markdown",
      "metadata": {},
      "source": [
        "P3S07"
      ]
    },
    {
      "cell_type": "code",
      "execution_count": 106,
      "metadata": {},
      "outputs": [
        {
          "data": {
            "text/plain": [
              "Address      0.0\n",
              "code         0.0\n",
              "purchased    0.0\n",
              "value        0.0\n",
              "dtype: float64"
            ]
          },
          "execution_count": 106,
          "metadata": {},
          "output_type": "execute_result"
        }
      ],
      "source": [
        "missing_percentage = R98P3S07.isnull().sum() / len(R98P3S07) * 100\n",
        "missing_percentage.sort_values(ascending=False)  \n",
        "missing_percentage"
      ]
    },
    {
      "cell_type": "code",
      "execution_count": 107,
      "metadata": {},
      "outputs": [
        {
          "name": "stdout",
          "output_type": "stream",
          "text": [
            "0\n"
          ]
        }
      ],
      "source": [
        "duplicates = R98P3S07.duplicated().sum()\n",
        "print(duplicates)"
      ]
    },
    {
      "cell_type": "code",
      "execution_count": 108,
      "metadata": {},
      "outputs": [
        {
          "name": "stdout",
          "output_type": "stream",
          "text": [
            "ستون‌های دسته‌بندی‌شده:\n",
            "Index([], dtype='object')\n",
            "ستون‌های عددی:\n",
            "Index(['Address', 'code', 'purchased', 'value'], dtype='object')\n",
            "تعداد داده‌های پرت در ستون purchased: 116\n",
            "تعداد داده‌های پرت در ستون value: 2237\n"
          ]
        }
      ],
      "source": [
        "categorical_columns = R98P3S07.select_dtypes(include=['object']).columns\n",
        "print(\"ستون‌های دسته‌بندی‌شده:\")\n",
        "print(categorical_columns)\n",
        "\n",
        "numerical_columns = R98P3S07.select_dtypes(include=['number']).columns\n",
        "print(\"ستون‌های عددی:\")\n",
        "print(numerical_columns)\n",
        "# بررسی داده‌های پرت بر اساس IQR\n",
        "for column in numerical_columns:\n",
        "    Q1 = R98P3S07[column].quantile(0.25)\n",
        "    Q3 = R98P3S07[column].quantile(0.75)\n",
        "    IQR = Q3 - Q1\n",
        "    outliers = ((R98P3S07[column] < (Q1 - 1.5 * IQR)) | (R98P3S07[column] > (Q3 + 1.5 * IQR))).sum()\n",
        "    if outliers > 0:\n",
        "        print(f\"تعداد داده‌های پرت در ستون {column}: {outliers}\")"
      ]
    },
    {
      "cell_type": "markdown",
      "metadata": {},
      "source": [
        "P3S08"
      ]
    },
    {
      "cell_type": "code",
      "execution_count": 109,
      "metadata": {},
      "outputs": [
        {
          "data": {
            "text/plain": [
              "Address      0.0\n",
              "code         0.0\n",
              "purchased    0.0\n",
              "value        0.0\n",
              "dtype: float64"
            ]
          },
          "execution_count": 109,
          "metadata": {},
          "output_type": "execute_result"
        }
      ],
      "source": [
        "missing_percentage = R98P3S08.isnull().sum() / len(R98P3S08) * 100\n",
        "missing_percentage.sort_values(ascending=False)  \n",
        "missing_percentage"
      ]
    },
    {
      "cell_type": "code",
      "execution_count": 110,
      "metadata": {},
      "outputs": [
        {
          "name": "stdout",
          "output_type": "stream",
          "text": [
            "0\n"
          ]
        }
      ],
      "source": [
        "duplicates = R98P3S08.duplicated().sum()\n",
        "print(duplicates)"
      ]
    },
    {
      "cell_type": "code",
      "execution_count": 111,
      "metadata": {},
      "outputs": [
        {
          "name": "stdout",
          "output_type": "stream",
          "text": [
            "ستون‌های دسته‌بندی‌شده:\n",
            "Index([], dtype='object')\n",
            "ستون‌های عددی:\n",
            "Index(['Address', 'code', 'purchased', 'value'], dtype='object')\n",
            "تعداد داده‌های پرت در ستون code: 11829\n",
            "تعداد داده‌های پرت در ستون purchased: 18\n",
            "تعداد داده‌های پرت در ستون value: 2451\n"
          ]
        }
      ],
      "source": [
        "categorical_columns = R98P3S08.select_dtypes(include=['object']).columns\n",
        "print(\"ستون‌های دسته‌بندی‌شده:\")\n",
        "print(categorical_columns)\n",
        "\n",
        "numerical_columns = R98P3S08.select_dtypes(include=['number']).columns\n",
        "print(\"ستون‌های عددی:\")\n",
        "print(numerical_columns)\n",
        "# بررسی داده‌های پرت بر اساس IQR\n",
        "for column in numerical_columns:\n",
        "    Q1 = R98P3S08[column].quantile(0.25)\n",
        "    Q3 = R98P3S08[column].quantile(0.75)\n",
        "    IQR = Q3 - Q1\n",
        "    outliers = ((R98P3S08[column] < (Q1 - 1.5 * IQR)) | (R98P3S08[column] > (Q3 + 1.5 * IQR))).sum()\n",
        "    if outliers > 0:\n",
        "        print(f\"تعداد داده‌های پرت در ستون {column}: {outliers}\")"
      ]
    },
    {
      "cell_type": "markdown",
      "metadata": {},
      "source": [
        "P3S09"
      ]
    },
    {
      "cell_type": "code",
      "execution_count": 112,
      "metadata": {},
      "outputs": [
        {
          "data": {
            "text/plain": [
              "Address      0.0\n",
              "code         0.0\n",
              "purchased    0.0\n",
              "value        0.0\n",
              "dtype: float64"
            ]
          },
          "execution_count": 112,
          "metadata": {},
          "output_type": "execute_result"
        }
      ],
      "source": [
        "missing_percentage = R98P3S09.isnull().sum() / len(R98P3S09) * 100\n",
        "missing_percentage.sort_values(ascending=False)  \n",
        "missing_percentage"
      ]
    },
    {
      "cell_type": "code",
      "execution_count": 113,
      "metadata": {},
      "outputs": [
        {
          "name": "stdout",
          "output_type": "stream",
          "text": [
            "0\n"
          ]
        }
      ],
      "source": [
        "duplicates = R98P3S09.duplicated().sum()\n",
        "print(duplicates)"
      ]
    },
    {
      "cell_type": "code",
      "execution_count": 114,
      "metadata": {},
      "outputs": [
        {
          "name": "stdout",
          "output_type": "stream",
          "text": [
            "ستون‌های دسته‌بندی‌شده:\n",
            "Index([], dtype='object')\n",
            "ستون‌های عددی:\n",
            "Index(['Address', 'code', 'purchased', 'value'], dtype='object')\n",
            "تعداد داده‌های پرت در ستون code: 2378\n",
            "تعداد داده‌های پرت در ستون purchased: 67\n",
            "تعداد داده‌های پرت در ستون value: 1082\n"
          ]
        }
      ],
      "source": [
        "categorical_columns = R98P3S09.select_dtypes(include=['object']).columns\n",
        "print(\"ستون‌های دسته‌بندی‌شده:\")\n",
        "print(categorical_columns)\n",
        "\n",
        "numerical_columns = R98P3S09.select_dtypes(include=['number']).columns\n",
        "print(\"ستون‌های عددی:\")\n",
        "print(numerical_columns)\n",
        "# بررسی داده‌های پرت بر اساس IQR\n",
        "for column in numerical_columns:\n",
        "    Q1 = R98P3S09[column].quantile(0.25)\n",
        "    Q3 = R98P3S09[column].quantile(0.75)\n",
        "    IQR = Q3 - Q1\n",
        "    outliers = ((R98P3S09[column] < (Q1 - 1.5 * IQR)) | (R98P3S09[column] > (Q3 + 1.5 * IQR))).sum()\n",
        "    if outliers > 0:\n",
        "        print(f\"تعداد داده‌های پرت در ستون {column}: {outliers}\")"
      ]
    },
    {
      "cell_type": "markdown",
      "metadata": {},
      "source": [
        "P3S11"
      ]
    },
    {
      "cell_type": "code",
      "execution_count": 115,
      "metadata": {},
      "outputs": [
        {
          "data": {
            "text/plain": [
              "Address      0.0\n",
              "code         0.0\n",
              "purchased    0.0\n",
              "value        0.0\n",
              "dtype: float64"
            ]
          },
          "execution_count": 115,
          "metadata": {},
          "output_type": "execute_result"
        }
      ],
      "source": [
        "missing_percentage = R98P3S11.isnull().sum() / len(R98P3S11) * 100\n",
        "missing_percentage.sort_values(ascending=False)  \n",
        "missing_percentage"
      ]
    },
    {
      "cell_type": "code",
      "execution_count": 116,
      "metadata": {},
      "outputs": [
        {
          "name": "stdout",
          "output_type": "stream",
          "text": [
            "0\n"
          ]
        }
      ],
      "source": [
        "duplicates = R98P3S11.duplicated().sum()\n",
        "print(duplicates)"
      ]
    },
    {
      "cell_type": "code",
      "execution_count": 117,
      "metadata": {},
      "outputs": [
        {
          "name": "stdout",
          "output_type": "stream",
          "text": [
            "ستون‌های دسته‌بندی‌شده:\n",
            "Index([], dtype='object')\n",
            "ستون‌های عددی:\n",
            "Index(['Address', 'code', 'purchased', 'value'], dtype='object')\n",
            "تعداد داده‌های پرت در ستون code: 218\n",
            "تعداد داده‌های پرت در ستون purchased: 220\n",
            "تعداد داده‌های پرت در ستون value: 919\n"
          ]
        }
      ],
      "source": [
        "categorical_columns = R98P3S11.select_dtypes(include=['object']).columns\n",
        "print(\"ستون‌های دسته‌بندی‌شده:\")\n",
        "print(categorical_columns)\n",
        "\n",
        "numerical_columns = R98P3S11.select_dtypes(include=['number']).columns\n",
        "print(\"ستون‌های عددی:\")\n",
        "print(numerical_columns)\n",
        "# بررسی داده‌های پرت بر اساس IQR\n",
        "for column in numerical_columns:\n",
        "    Q1 = R98P3S11[column].quantile(0.25)\n",
        "    Q3 = R98P3S11[column].quantile(0.75)\n",
        "    IQR = Q3 - Q1\n",
        "    outliers = ((R98P3S11[column] < (Q1 - 1.5 * IQR)) | (R98P3S11[column] > (Q3 + 1.5 * IQR))).sum()\n",
        "    if outliers > 0:\n",
        "        print(f\"تعداد داده‌های پرت در ستون {column}: {outliers}\")"
      ]
    },
    {
      "cell_type": "markdown",
      "metadata": {},
      "source": [
        "P3S12"
      ]
    },
    {
      "cell_type": "code",
      "execution_count": 118,
      "metadata": {},
      "outputs": [
        {
          "data": {
            "text/plain": [
              "Address      0.0\n",
              "code         0.0\n",
              "purchased    0.0\n",
              "value        0.0\n",
              "dtype: float64"
            ]
          },
          "execution_count": 118,
          "metadata": {},
          "output_type": "execute_result"
        }
      ],
      "source": [
        "missing_percentage = R98P3S12.isnull().sum() / len(R98P3S12) * 100\n",
        "missing_percentage.sort_values(ascending=False)  \n",
        "missing_percentage"
      ]
    },
    {
      "cell_type": "code",
      "execution_count": 119,
      "metadata": {},
      "outputs": [
        {
          "name": "stdout",
          "output_type": "stream",
          "text": [
            "0\n"
          ]
        }
      ],
      "source": [
        "duplicates = R98P3S12.duplicated().sum()\n",
        "print(duplicates)"
      ]
    },
    {
      "cell_type": "code",
      "execution_count": 120,
      "metadata": {},
      "outputs": [
        {
          "name": "stdout",
          "output_type": "stream",
          "text": [
            "ستون‌های دسته‌بندی‌شده:\n",
            "Index([], dtype='object')\n",
            "ستون‌های عددی:\n",
            "Index(['Address', 'code', 'purchased', 'value'], dtype='object')\n",
            "تعداد داده‌های پرت در ستون code: 920\n",
            "تعداد داده‌های پرت در ستون purchased: 538\n",
            "تعداد داده‌های پرت در ستون value: 6319\n"
          ]
        }
      ],
      "source": [
        "categorical_columns = R98P3S12.select_dtypes(include=['object']).columns\n",
        "print(\"ستون‌های دسته‌بندی‌شده:\")\n",
        "print(categorical_columns)\n",
        "\n",
        "numerical_columns = R98P3S12.select_dtypes(include=['number']).columns\n",
        "print(\"ستون‌های عددی:\")\n",
        "print(numerical_columns)\n",
        "# بررسی داده‌های پرت بر اساس IQR\n",
        "for column in numerical_columns:\n",
        "    Q1 = R98P3S12[column].quantile(0.25)\n",
        "    Q3 = R98P3S12[column].quantile(0.75)\n",
        "    IQR = Q3 - Q1\n",
        "    outliers = ((R98P3S12[column] < (Q1 - 1.5 * IQR)) | (R98P3S12[column] > (Q3 + 1.5 * IQR))).sum()\n",
        "    if outliers > 0:\n",
        "        print(f\"تعداد داده‌های پرت در ستون {column}: {outliers}\")"
      ]
    },
    {
      "cell_type": "markdown",
      "metadata": {},
      "source": [
        "P3S13"
      ]
    },
    {
      "cell_type": "code",
      "execution_count": 121,
      "metadata": {},
      "outputs": [
        {
          "data": {
            "text/plain": [
              "Address    0.000000\n",
              "code       0.000000\n",
              "value      0.273935\n",
              "dtype: float64"
            ]
          },
          "execution_count": 121,
          "metadata": {},
          "output_type": "execute_result"
        }
      ],
      "source": [
        "missing_percentage = R98P3S13.isnull().sum() / len(R98P3S13) * 100\n",
        "missing_percentage.sort_values(ascending=False)  \n",
        "missing_percentage"
      ]
    },
    {
      "cell_type": "code",
      "execution_count": 122,
      "metadata": {},
      "outputs": [],
      "source": [
        "R98P3S13 = R98P3S13.dropna(subset=['value'])"
      ]
    },
    {
      "cell_type": "code",
      "execution_count": 123,
      "metadata": {},
      "outputs": [
        {
          "name": "stdout",
          "output_type": "stream",
          "text": [
            "188\n"
          ]
        }
      ],
      "source": [
        "duplicates = R98P3S13.duplicated().sum()\n",
        "print(duplicates)"
      ]
    },
    {
      "cell_type": "code",
      "execution_count": 124,
      "metadata": {},
      "outputs": [],
      "source": [
        "R98P3S13 = R98P3S13.drop_duplicates()"
      ]
    },
    {
      "cell_type": "code",
      "execution_count": 125,
      "metadata": {},
      "outputs": [
        {
          "name": "stdout",
          "output_type": "stream",
          "text": [
            "0\n"
          ]
        }
      ],
      "source": [
        "duplicates = R98P3S13.duplicated().sum()\n",
        "print(duplicates)"
      ]
    },
    {
      "cell_type": "code",
      "execution_count": 126,
      "metadata": {},
      "outputs": [
        {
          "name": "stdout",
          "output_type": "stream",
          "text": [
            "ستون‌های دسته‌بندی‌شده:\n",
            "Index(['value'], dtype='object')\n",
            "ستون‌های عددی:\n",
            "Index(['Address', 'code'], dtype='object')\n"
          ]
        }
      ],
      "source": [
        "categorical_columns = R98P3S13.select_dtypes(include=['object']).columns\n",
        "print(\"ستون‌های دسته‌بندی‌شده:\")\n",
        "print(categorical_columns)\n",
        "\n",
        "numerical_columns = R98P3S13.select_dtypes(include=['number']).columns\n",
        "print(\"ستون‌های عددی:\")\n",
        "print(numerical_columns)\n",
        "# بررسی داده‌های پرت بر اساس IQR\n",
        "for column in numerical_columns:\n",
        "    Q1 = R98P3S13[column].quantile(0.25)\n",
        "    Q3 = R98P3S13[column].quantile(0.75)\n",
        "    IQR = Q3 - Q1\n",
        "    outliers = ((R98P3S13[column] < (Q1 - 1.5 * IQR)) | (R98P3S13[column] > (Q3 + 1.5 * IQR))).sum()\n",
        "    if outliers > 0:\n",
        "        print(f\"تعداد داده‌های پرت در ستون {column}: {outliers}\")"
      ]
    },
    {
      "cell_type": "markdown",
      "metadata": {},
      "source": [
        "P3S14"
      ]
    },
    {
      "cell_type": "code",
      "execution_count": 127,
      "metadata": {},
      "outputs": [
        {
          "data": {
            "text/plain": [
              "Address      0.000000\n",
              "code         0.000000\n",
              "purchased    2.780944\n",
              "value        3.122863\n",
              "dtype: float64"
            ]
          },
          "execution_count": 127,
          "metadata": {},
          "output_type": "execute_result"
        }
      ],
      "source": [
        "missing_percentage = R98P3S14.isnull().sum() / len(R98P3S14) * 100\n",
        "missing_percentage.sort_values(ascending=False)  \n",
        "missing_percentage"
      ]
    },
    {
      "cell_type": "code",
      "execution_count": 128,
      "metadata": {},
      "outputs": [],
      "source": [
        "R98P3S14 = R98P3S14.dropna(subset=['purchased','value'])"
      ]
    },
    {
      "cell_type": "code",
      "execution_count": 129,
      "metadata": {},
      "outputs": [
        {
          "data": {
            "text/plain": [
              "Address      0.0\n",
              "code         0.0\n",
              "purchased    0.0\n",
              "value        0.0\n",
              "dtype: float64"
            ]
          },
          "execution_count": 129,
          "metadata": {},
          "output_type": "execute_result"
        }
      ],
      "source": [
        "missing_percentage = R98P3S14.isnull().sum() / len(R98P3S14) * 100\n",
        "missing_percentage.sort_values(ascending=False)  \n",
        "missing_percentage"
      ]
    },
    {
      "cell_type": "code",
      "execution_count": 130,
      "metadata": {},
      "outputs": [
        {
          "name": "stdout",
          "output_type": "stream",
          "text": [
            "0\n"
          ]
        }
      ],
      "source": [
        "duplicates = R98P3S14.duplicated().sum()\n",
        "print(duplicates)"
      ]
    },
    {
      "cell_type": "code",
      "execution_count": 131,
      "metadata": {},
      "outputs": [
        {
          "name": "stdout",
          "output_type": "stream",
          "text": [
            "ستون‌های دسته‌بندی‌شده:\n",
            "Index(['purchased'], dtype='object')\n",
            "ستون‌های عددی:\n",
            "Index(['Address', 'code', 'value'], dtype='object')\n",
            "تعداد داده‌های پرت در ستون Address: 26\n",
            "تعداد داده‌های پرت در ستون value: 672\n"
          ]
        }
      ],
      "source": [
        "categorical_columns = R98P3S14.select_dtypes(include=['object']).columns\n",
        "print(\"ستون‌های دسته‌بندی‌شده:\")\n",
        "print(categorical_columns)\n",
        "\n",
        "numerical_columns = R98P3S14.select_dtypes(include=['number']).columns\n",
        "print(\"ستون‌های عددی:\")\n",
        "print(numerical_columns)\n",
        "# بررسی داده‌های پرت بر اساس IQR\n",
        "for column in numerical_columns:\n",
        "    Q1 = R98P3S14[column].quantile(0.25)\n",
        "    Q3 = R98P3S14[column].quantile(0.75)\n",
        "    IQR = Q3 - Q1\n",
        "    outliers = ((R98P3S14[column] < (Q1 - 1.5 * IQR)) | (R98P3S14[column] > (Q3 + 1.5 * IQR))).sum()\n",
        "    if outliers > 0:\n",
        "        print(f\"تعداد داده‌های پرت در ستون {column}: {outliers}\")"
      ]
    },
    {
      "cell_type": "markdown",
      "metadata": {},
      "source": [
        "P4S01"
      ]
    },
    {
      "cell_type": "code",
      "execution_count": 132,
      "metadata": {},
      "outputs": [
        {
          "data": {
            "text/plain": [
              "Address            0.000000\n",
              "member             0.000000\n",
              "employed_w         0.000000\n",
              "ISCO_w             0.000000\n",
              "ISIC_w             0.000000\n",
              "status_w           0.000000\n",
              "hours_w           12.033272\n",
              "days_w            12.042514\n",
              "income_w_m         0.000000\n",
              "income_w_y         0.000000\n",
              "wage_w_m           0.055453\n",
              "wage_w_y           0.027726\n",
              "perk_w_m           0.073937\n",
              "perk_w_y           0.027726\n",
              "netincome_w_m      0.000000\n",
              "netincome_w_y      0.000000\n",
              "Fasl               0.000000\n",
              "year               0.000000\n",
              "DYCOL00          100.000000\n",
              "dtype: float64"
            ]
          },
          "execution_count": 132,
          "metadata": {},
          "output_type": "execute_result"
        }
      ],
      "source": [
        "missing_percentage = R98P4S01.isnull().sum() / len(R98P4S01) * 100\n",
        "missing_percentage.sort_values(ascending=False)  \n",
        "missing_percentage"
      ]
    },
    {
      "cell_type": "code",
      "execution_count": 133,
      "metadata": {},
      "outputs": [],
      "source": [
        "R98P4S01 = R98P4S01.drop(columns='DYCOL00')"
      ]
    },
    {
      "cell_type": "code",
      "execution_count": 134,
      "metadata": {},
      "outputs": [],
      "source": [
        "\n",
        "R98P4S01_cleaned = R98P4S01.dropna(subset=['hours_w','days_w','wage_w_m','wage_w_y','perk_w_m','perk_w_y'])"
      ]
    },
    {
      "cell_type": "code",
      "execution_count": 135,
      "metadata": {},
      "outputs": [
        {
          "data": {
            "text/plain": [
              "Address          0.0\n",
              "member           0.0\n",
              "employed_w       0.0\n",
              "ISCO_w           0.0\n",
              "ISIC_w           0.0\n",
              "status_w         0.0\n",
              "hours_w          0.0\n",
              "days_w           0.0\n",
              "income_w_m       0.0\n",
              "income_w_y       0.0\n",
              "wage_w_m         0.0\n",
              "wage_w_y         0.0\n",
              "perk_w_m         0.0\n",
              "perk_w_y         0.0\n",
              "netincome_w_m    0.0\n",
              "netincome_w_y    0.0\n",
              "Fasl             0.0\n",
              "year             0.0\n",
              "dtype: float64"
            ]
          },
          "execution_count": 135,
          "metadata": {},
          "output_type": "execute_result"
        }
      ],
      "source": [
        "missing_percentage = R98P4S01_cleaned.isnull().sum() / len(R98P4S01_cleaned) * 100\n",
        "missing_percentage.sort_values(ascending=False)  \n",
        "missing_percentage"
      ]
    },
    {
      "cell_type": "markdown",
      "metadata": {},
      "source": [
        "P4S02"
      ]
    },
    {
      "cell_type": "code",
      "execution_count": 136,
      "metadata": {},
      "outputs": [
        {
          "data": {
            "text/plain": [
              "Address              0.000000\n",
              "member               0.000000\n",
              "employed_s           0.000000\n",
              "ISCO_s               0.000000\n",
              "ISIC_s               0.000000\n",
              "status_s             0.000000\n",
              "agriculture          0.000000\n",
              "hours_s              1.764419\n",
              "days_s               1.764419\n",
              "cost_employment      9.791478\n",
              "cost_raw             2.120092\n",
              "cost_machinery       8.745380\n",
              "cost_others          5.111932\n",
              "cost_tax            12.490411\n",
              "sale                 1.610991\n",
              "income_s_y           0.000000\n",
              "Fasl                 0.000000\n",
              "year                 0.000000\n",
              "DYCOL00            100.000000\n",
              "dtype: float64"
            ]
          },
          "execution_count": 136,
          "metadata": {},
          "output_type": "execute_result"
        }
      ],
      "source": [
        "missing_percentage = R98P4S02.isnull().sum() / len(R98P4S02) * 100\n",
        "missing_percentage.sort_values(ascending=False)  \n",
        "missing_percentage"
      ]
    },
    {
      "cell_type": "code",
      "execution_count": 137,
      "metadata": {},
      "outputs": [],
      "source": [
        "R98P4S02 = R98P4S02.drop(columns='DYCOL00')"
      ]
    },
    {
      "cell_type": "code",
      "execution_count": 138,
      "metadata": {},
      "outputs": [],
      "source": [
        "R98P4S02_cleaned = R98P4S02.dropna(subset=['member','employed_s','ISCO_s','ISIC_s','hours_s','cost_raw','cost_others','sale'])"
      ]
    },
    {
      "cell_type": "code",
      "execution_count": 139,
      "metadata": {},
      "outputs": [
        {
          "data": {
            "text/plain": [
              "Address            0.000000\n",
              "member             0.000000\n",
              "employed_s         0.000000\n",
              "ISCO_s             0.000000\n",
              "ISIC_s             0.000000\n",
              "status_s           0.000000\n",
              "agriculture        0.000000\n",
              "hours_s            0.000000\n",
              "days_s             0.007506\n",
              "cost_employment    5.681903\n",
              "cost_raw           0.000000\n",
              "cost_machinery     4.676124\n",
              "cost_others        0.000000\n",
              "cost_tax           7.678451\n",
              "sale               0.000000\n",
              "income_s_y         0.000000\n",
              "Fasl               0.000000\n",
              "year               0.000000\n",
              "dtype: float64"
            ]
          },
          "execution_count": 139,
          "metadata": {},
          "output_type": "execute_result"
        }
      ],
      "source": [
        "missing_percentage = R98P4S02_cleaned.isnull().sum() / len(R98P4S02_cleaned) * 100\n",
        "missing_percentage.sort_values(ascending=False)  \n",
        "missing_percentage"
      ]
    },
    {
      "cell_type": "code",
      "execution_count": 140,
      "metadata": {},
      "outputs": [],
      "source": [
        "R98P4S02_cleaned = R98P4S02.dropna(subset=['cost_employment','cost_machinery','cost_tax'])"
      ]
    },
    {
      "cell_type": "markdown",
      "metadata": {},
      "source": [
        "P4S03"
      ]
    },
    {
      "cell_type": "code",
      "execution_count": 141,
      "metadata": {},
      "outputs": [
        {
          "data": {
            "text/plain": [
              "Address              0.000000\n",
              "member               0.000000\n",
              "income_pension      67.105752\n",
              "income_rent         70.834440\n",
              "income_interest     29.771073\n",
              "income_aid          44.999203\n",
              "income_resale       74.116960\n",
              "income_transfer     56.222446\n",
              "Fasl                 0.000000\n",
              "year                 0.000000\n",
              "DYCOL00            100.000000\n",
              "dtype: float64"
            ]
          },
          "execution_count": 141,
          "metadata": {},
          "output_type": "execute_result"
        }
      ],
      "source": [
        "missing_percentage = R98P4S03.isnull().sum() / len(R98P4S03) * 100\n",
        "missing_percentage.sort_values(ascending=False)  \n",
        "missing_percentage"
      ]
    },
    {
      "cell_type": "code",
      "execution_count": null,
      "metadata": {},
      "outputs": [],
      "source": []
    },
    {
      "cell_type": "code",
      "execution_count": 142,
      "metadata": {},
      "outputs": [],
      "source": [
        "R98P4S03 = R98P4S03.drop(columns='DYCOL00')"
      ]
    },
    {
      "cell_type": "code",
      "execution_count": 143,
      "metadata": {},
      "outputs": [],
      "source": [
        "R98P4S03_cleaned = R98P4S03.dropna(subset=['member'])"
      ]
    },
    {
      "cell_type": "code",
      "execution_count": 144,
      "metadata": {},
      "outputs": [
        {
          "name": "stdout",
          "output_type": "stream",
          "text": [
            "Address              int64\n",
            "member               int64\n",
            "income_pension      object\n",
            "income_rent         object\n",
            "income_interest    float64\n",
            "income_aid         float64\n",
            "income_resale      float64\n",
            "income_transfer    float64\n",
            "Fasl                 int64\n",
            "year                 int64\n",
            "dtype: object\n"
          ]
        }
      ],
      "source": [
        "print(R98P4S03_cleaned.dtypes)"
      ]
    },
    {
      "cell_type": "code",
      "execution_count": 145,
      "metadata": {},
      "outputs": [],
      "source": [
        "R98P4S03_cleaned = R98P4S03_cleaned.apply(pd.to_numeric, errors='coerce')\n"
      ]
    },
    {
      "cell_type": "code",
      "execution_count": 146,
      "metadata": {},
      "outputs": [],
      "source": [
        "df_encoded7 = R98P4S03_cleaned.copy()"
      ]
    },
    {
      "cell_type": "markdown",
      "metadata": {},
      "source": [
        "اینجا برای ترین کردن از کمترین درصد نال شروع میکنم که اگر ترین غلط باشه حداقل اونایی که نالشون زیاده تاثیر زیادی نذارن"
      ]
    },
    {
      "cell_type": "code",
      "execution_count": null,
      "metadata": {},
      "outputs": [],
      "source": [
        "df_not_null = df_encoded7[df_encoded7['income_aid'].notnull()]\n",
        "df_null = df_encoded7[df_encoded7['income_aid'].isnull()]\n",
        "\n",
        "\n",
        "X = df_not_null.drop(['income_aid'], axis=1)\n",
        "y = df_not_null['income_aid']\n",
        "\n",
        "\n",
        "X_train, X_test, y_train, y_test = train_test_split(X, y, test_size=0.2, random_state=42)\n",
        "\n",
        "\n",
        "model = RandomForestClassifier()\n",
        "\n",
        "\n",
        "model.fit(X_train, y_train)\n",
        "\n",
        "\n",
        "y_pred = model.predict(X_test)\n",
        "\n",
        "\n",
        "print(f'Accuracy for income_aid : {accuracy_score(y_test, y_pred)}')\n",
        "\n",
        "\n",
        "X_null = df_null.drop(['income_aid'], axis=1)\n",
        "\n",
        "\n",
        "df_null.loc[:, 'income_aid'] = model.predict(X_null)\n",
        "\n",
        "\n",
        "R98P4S03_filled = pd.concat([df_not_null, df_null])\n",
        "\n",
        "\n",
        "R98P4S03_filled.sort_index(inplace=True)\n",
        "\n",
        "\n",
        "#print(R98P4S031_filled.head())"
      ]
    },
    {
      "cell_type": "markdown",
      "metadata": {},
      "source": [
        "P4S04"
      ]
    },
    {
      "cell_type": "code",
      "execution_count": 148,
      "metadata": {},
      "outputs": [
        {
          "data": {
            "text/plain": [
              "Address             0.0\n",
              "member              0.0\n",
              "subsidy_number      0.0\n",
              "subsidy_month       0.0\n",
              "subsidy             0.0\n",
              "Fasl                0.0\n",
              "year                0.0\n",
              "DYCOL00           100.0\n",
              "dtype: float64"
            ]
          },
          "execution_count": 148,
          "metadata": {},
          "output_type": "execute_result"
        }
      ],
      "source": [
        "missing_percentage = R98P4S04.isnull().sum() / len(R98P4S04) * 100\n",
        "missing_percentage.sort_values(ascending=False)  \n",
        "missing_percentage"
      ]
    },
    {
      "cell_type": "code",
      "execution_count": 149,
      "metadata": {},
      "outputs": [],
      "source": [
        "R98P4S04 = R98P4S04.drop(columns='DYCOL00')"
      ]
    },
    {
      "cell_type": "code",
      "execution_count": 150,
      "metadata": {},
      "outputs": [],
      "source": [
        "R98P4S04_cleaned = R98P4S04.dropna(subset=['subsidy_number','subsidy_month','subsidy'])"
      ]
    },
    {
      "cell_type": "code",
      "execution_count": 151,
      "metadata": {},
      "outputs": [],
      "source": [
        "#p3_sheets = {\n",
        "#    'R98P3S01_cleaned': 'Food',\n",
        "#    'R98P3S02_cleaned': 'Tobacco',\n",
        "#    'R98P3S03': 'Clothing',\n",
        "#    'R98P3S04_cleaned': 'Housing',\n",
        "#    'R98P3S05': 'Furniture',\n",
        "#    'R98P3S06': 'Health',\n",
        "#    'R98P3S07': 'Transport',\n",
        "#    'R98P3S08': 'Communication',\n",
        "#    'R98P3S09': 'Recreation',\n",
        "#    'R98P3S11': 'Education',\n",
        "#    'R98P3S12': 'Hotel',\n",
        "#    'R98P3S13': 'Miscellaneous',\n",
        "#    'R98P3S14': 'Investment'\n",
        "#}"
      ]
    },
    {
      "cell_type": "code",
      "execution_count": null,
      "metadata": {
        "id": "OSty35jTMv7h"
      },
      "outputs": [],
      "source": [
        "\"\"\"\n",
        "combined_df = pd.merge(data99['R98Data_cleaned'], data99['df_P1_filled'], on='Address')\n",
        "combined_df = combined_df.merge(data99['R98P2_filled'], on='Address')\n",
        "\n",
        "\n",
        "for sheet_name in p3_sheets.keys():\n",
        "    combined_df = combined_df.merge(data99[sheet_name], on='Address', how='outer', suffixes=(None, f'_{sheet_name}'))\n",
        "\n",
        "\n",
        "combined_df = combined_df.merge(data99['R98P4S01_cleaned'], on='Address')\n",
        "combined_df = combined_df.merge(data99['R98P4S02_cleaned'], on='Address')\n",
        "combined_df = combined_df.merge(data99['R98P4S03_cleaned'], on='Address')\n",
        "combined_df = combined_df.merge(data99['R98P4S04_cleaned'], on='Address')\n",
        "\"\"\""
      ]
    },
    {
      "cell_type": "code",
      "execution_count": null,
      "metadata": {},
      "outputs": [],
      "source": []
    },
    {
      "cell_type": "code",
      "execution_count": null,
      "metadata": {},
      "outputs": [],
      "source": []
    },
    {
      "cell_type": "code",
      "execution_count": null,
      "metadata": {},
      "outputs": [],
      "source": []
    },
    {
      "cell_type": "code",
      "execution_count": null,
      "metadata": {},
      "outputs": [],
      "source": []
    },
    {
      "cell_type": "code",
      "execution_count": null,
      "metadata": {},
      "outputs": [],
      "source": []
    },
    {
      "cell_type": "code",
      "execution_count": null,
      "metadata": {},
      "outputs": [],
      "source": []
    },
    {
      "cell_type": "code",
      "execution_count": null,
      "metadata": {},
      "outputs": [],
      "source": []
    },
    {
      "cell_type": "code",
      "execution_count": null,
      "metadata": {},
      "outputs": [],
      "source": []
    },
    {
      "cell_type": "code",
      "execution_count": null,
      "metadata": {},
      "outputs": [],
      "source": []
    }
  ],
  "metadata": {
    "colab": {
      "provenance": []
    },
    "kernelspec": {
      "display_name": "quera",
      "language": "python",
      "name": "python3"
    },
    "language_info": {
      "codemirror_mode": {
        "name": "ipython",
        "version": 3
      },
      "file_extension": ".py",
      "mimetype": "text/x-python",
      "name": "python",
      "nbconvert_exporter": "python",
      "pygments_lexer": "ipython3",
      "version": "3.12.4"
    }
  },
  "nbformat": 4,
  "nbformat_minor": 0
}
